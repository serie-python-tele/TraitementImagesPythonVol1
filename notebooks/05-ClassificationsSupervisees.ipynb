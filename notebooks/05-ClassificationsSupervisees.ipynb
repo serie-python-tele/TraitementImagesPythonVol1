{
  "cells": [
    {
      "cell_type": "markdown",
      "metadata": {},
      "source": [
        "---\n",
        "jupyter: python3\n",
        "from: markdown+emoji\n",
        "execute:\n",
        "  echo: true\n",
        "  eval: true\n",
        "  message: false\n",
        "  warning: false\n",
        "---\n",
        "\n",
        "# Classifications d'images supervisées {#sec-chap05}\n",
        "\n",
        "\n",
        "## :rocket: Préambule\n",
        "\n",
        "Assurez-vous de lire ce préambule avant d'exécutez le reste du notebook.\n",
        "\n",
        "### :dart: Objectifs\n",
        "Dans ce chapitre, nous ferons une introduction générale à l'apprentissage automatique et abordons quelques techniques fondamentales. La librairie centrale utilisée dans ce chapitre sera [`sickit-learn`](https://scikit-learn.org/). Ce chapitre est aussi disponible sous la forme d'un notebook Python sur Google Colab:\n",
        "\n",
        "[![](images/colab-badge.svg)](https://colab.research.google.com/github/sfoucher/TraitementImagesPythonVol1/blob/main/notebooks/05-ClassificationsSupervisees.ipynb){target=\"_blank\"} \n",
        "\n",
        "### Librairies\n",
        "Les librairies utilisées dans ce chapitre sont les suivantes:\n",
        "\n",
        "* [SciPy](https://scipy.org/)\n",
        "\n",
        "* [NumPy](https://numpy.org/) \n",
        "\n",
        "* [opencv-python · PyPI](https://pypi.org/project/opencv-python/)\n",
        "\n",
        "* [scikit-image](https://scikit-image.org/)\n",
        "\n",
        "* [Rasterio](https://rasterio.readthedocs.io/en/stable/)\n",
        "\n",
        "* [xarray](https://docs.xarray.dev/en/stable/)\n",
        "\n",
        "* [rioxarray](https://corteva.github.io/rioxarray/stable/index.html)\n",
        "\n",
        "* [geopandas](https://geopandas.org)\n",
        "\n",
        "* [scikit-learn](https://scikit-learn.org/)\n",
        "\n",
        "Dans l'environnement Google Colab, seul `rioxarray` et `xrscipy` doit être installés:"
      ]
    },
    {
      "cell_type": "code",
      "metadata": {},
      "source": [
        "#| eval: false\n",
        "%%capture\n",
        "!pip install -qU matplotlib rioxarray xrscipy"
      ],
      "execution_count": null,
      "outputs": []
    },
    {
      "cell_type": "markdown",
      "metadata": {},
      "source": [
        "Vérifier les importations nécessaires en premier:"
      ]
    },
    {
      "cell_type": "code",
      "metadata": {},
      "source": [
        "import numpy as np\n",
        "import rioxarray as rxr\n",
        "from scipy import signal\n",
        "import xarray as xr\n",
        "import rasterio\n",
        "import xrscipy\n",
        "import matplotlib.pyplot as plt\n",
        "from matplotlib.colors import ListedColormap\n",
        "import geopandas\n",
        "from shapely.geometry import Point\n",
        "import pandas as pd\n",
        "from numba import jit\n",
        "from sklearn.neighbors import KNeighborsClassifier\n",
        "from sklearn.model_selection import train_test_split\n",
        "from sklearn.pipeline import Pipeline\n",
        "from sklearn.metrics import confusion_matrix, classification_report, ConfusionMatrixDisplay\n",
        "from sklearn.preprocessing import StandardScaler\n",
        "from sklearn.inspection import DecisionBoundaryDisplay\n",
        "from sklearn.discriminant_analysis import LinearDiscriminantAnalysis, QuadraticDiscriminantAnalysis\n",
        "from sklearn.datasets import make_blobs, make_classification, make_gaussian_quantiles"
      ],
      "execution_count": null,
      "outputs": []
    },
    {
      "cell_type": "markdown",
      "metadata": {},
      "source": [
        "### Images utilisées\n",
        "\n",
        "Nous allons utilisez les images suivantes dans ce chapitre:"
      ]
    },
    {
      "cell_type": "code",
      "metadata": {},
      "source": [
        "#| eval: false\n",
        "%%capture\n",
        "import gdown\n",
        "\n",
        "gdown.download('https://drive.google.com/uc?export=download&confirm=pbef&id=1a6Ypg0g1Oy4AJt9XWKWfnR12NW1XhNg_', output= 'RGBNIR_of_S2A.tif')\n",
        "gdown.download('https://drive.google.com/uc?export=download&confirm=pbef&id=1a4PQ68Ru8zBphbQ22j0sgJ4D2quw-Wo6', output= 'landsat7.tif')\n",
        "gdown.download('https://drive.google.com/uc?export=download&confirm=pbef&id=1_zwCLN-x7XJcNHJCH6Z8upEdUXtVtvs1', output= 'berkeley.jpg')\n",
        "gdown.download('https://drive.google.com/uc?export=download&confirm=pbef&id=1dM6IVqjba6GHwTLmI7CpX8GP2z5txUq6', output= 'SAR.tif')\n",
        "gdown.download('https://drive.google.com/uc?export=download&confirm=pbef&id=1aAq7crc_LoaLC3kG3HkQ6Fv5JfG0mswg', output= 'carte.tif')"
      ],
      "execution_count": null,
      "outputs": []
    },
    {
      "cell_type": "markdown",
      "metadata": {},
      "source": [
        "Vérifiez que vous êtes capable de les lire :"
      ]
    },
    {
      "cell_type": "code",
      "metadata": {},
      "source": [
        "#| output: false\n",
        "\n",
        "with rxr.open_rasterio('berkeley.jpg', mask_and_scale= True) as img_rgb:\n",
        "    print(img_rgb)\n",
        "with rxr.open_rasterio('RGBNIR_of_S2A.tif', mask_and_scale= True) as img_rgbnir:\n",
        "    print(img_rgbnir)\n",
        "with rxr.open_rasterio('SAR.tif', mask_and_scale= True) as img_SAR:\n",
        "    print(img_SAR)\n",
        "with rxr.open_rasterio('carte.tif', mask_and_scale= True) as img_carte:\n",
        "    print(img_carte)"
      ],
      "execution_count": null,
      "outputs": []
    },
    {
      "cell_type": "markdown",
      "metadata": {},
      "source": [
        "## Principes généraux\n",
        "\n",
        "Une classification supervisée ou dirigée consiste à attribuer une étiquette (une classe) de manière automatique à chaque point d'un jeu de données. Cette classification peut se faire à l'aide d'une cascade de règles pré-établies (arbre de décision) ou à l'aide de techniques d'apprentissage automatique (*machine learning*). L'utilisation de règles pré-établies atteint vite une limite car ces règles doivent être fournies manuellement par un expert. Ainsi, l'avantage de l'apprentissage automatique est que les règles de décision sont dérivées automatiquement du jeu de données via une phase dite d’entraînement. On parle souvent de solutions générées par les données (*Data Driven Solutions*). Cet ensemble de règles est souvent appelé **modèle**. On visualise souvent ces règles sous la forme de *frontières de décisions* dans l'espace des données. Cependant, un des défis majeur de ce type de technique est d'être capable de produire des règles qui soient généralisables au-delà du jeu d’entraînement. \n",
        "\n",
        "Les classifications supervisées ou dirigées présupposent donc que nous avons à disposition **un jeu d’entraînement** déjà étiqueté. Celui-ci va nous permettre de construire un modèle. Afin que ce modèle soit représentatif et robuste, il nous faut assez de données d’entraînement. Les algorithmes d'apprentissage automatique sont très nombreux et plus ou moins complexes pouvant produire des frontières de décision très complexes et non linéaires. \n",
        "\n",
        "**curse of dimensionnality, capacité d'un modèle, sur-aprrentissage, sous-apprentissage**\n",
        "\n",
        "### Comportement d'un modèle\n",
        "\n",
        "Cet exemple tiré de [`sickit-learn`](https://scikit-learn.org/stable/auto_examples/model_selection/plot_underfitting_overfitting.html#sphx-glr-auto-examples-model-selection-plot-underfitting-overfitting-py) illustre les problèmes d'ajustement insuffisant ou **sous-apprentissage** (*underfitting*) et d'ajustement excessif ou **sur-apprentissage** (*overfitting*) et montre comment nous pouvons utiliser la régression linéaire avec un modèle polynomiale pour approximer des fonctions non linéaires. La @fig-overfitting montre la fonction que nous voulons approximer, qui est une partie de la fonction cosinus (couleur orange). En outre, les échantillons de la fonction réelle et les approximations de différents modèles sont affichés en bleu. Les modèles ont des caractéristiques polynomiales de différents degrés. Nous pouvons constater qu'une fonction linéaire (polynôme de degré 1) n'est pas suffisante pour s'adapter aux échantillons d'apprentissage. C'est ce qu'on appelle un sous-ajustement (underfitting) qui produit un biais systématique quelque soit les points d’entraînement. Un polynôme de degré 4 se rapproche presque parfaitement de la fonction réelle. Cependant, pour des degrés plus élevés, le modèle s'adaptera trop aux données d'apprentissage, c'est-à-dire qu'il apprendra le bruit des données d'apprentissage. Nous évaluons quantitativement le sur-apprentissage et le sous-apprentissage à l'aide de la validation croisée. Nous calculons l'erreur quadratique moyenne (EQM) sur l'ensemble de validation. Plus elle est élevée, moins le modèle est susceptible de se généraliser correctement à partir des données d'apprentissage."
      ]
    },
    {
      "cell_type": "code",
      "metadata": {},
      "source": [
        "#| echo: false\n",
        "#| label: fig-overfitting\n",
        "#| fig-cap: \"Exemples de sur et sous-apprentissage.\"\n",
        "import matplotlib.pyplot as plt\n",
        "import numpy as np\n",
        "\n",
        "from sklearn.linear_model import LinearRegression\n",
        "from sklearn.model_selection import cross_val_score, cross_validate\n",
        "from sklearn.pipeline import Pipeline\n",
        "from sklearn.preprocessing import PolynomialFeatures\n",
        "\n",
        "\n",
        "def true_fun(X):\n",
        "    return np.cos(1.5 * np.pi * X+np.pi/2)\n",
        "\n",
        "\n",
        "np.random.seed(0)\n",
        "noise_level= 0.1\n",
        "n_samples = 30\n",
        "degrees = [1,4, 15]\n",
        "#degrees= range(1,16)\n",
        "X = np.sort(np.random.rand(n_samples))\n",
        "y = true_fun(X) + np.random.randn(n_samples) * noise_level\n",
        "\n",
        "X_test = np.sort(np.random.rand(10))\n",
        "y_test = true_fun(X_test) + np.random.randn(int(10)) * noise_level\n",
        "\n",
        "plt.figure(figsize=(14, 5))\n",
        "results= []\n",
        "for i in range(len(degrees)):\n",
        "    ax = plt.subplot(1, len(degrees), i + 1)\n",
        "    plt.setp(ax, xticks=(), yticks=())\n",
        "\n",
        "    polynomial_features = PolynomialFeatures(degree=degrees[i], include_bias=False)\n",
        "    linear_regression = LinearRegression()\n",
        "    pipeline = Pipeline(\n",
        "        [\n",
        "            (\"polynomial_features\", polynomial_features),\n",
        "            (\"linear_regression\", linear_regression),\n",
        "        ]\n",
        "    )\n",
        "    pipeline.fit(X[:, np.newaxis], y)\n",
        "\n",
        "    # Evaluate the models using crossvalidation\n",
        "    scores = cross_validate(\n",
        "        pipeline, X[:, np.newaxis], y, scoring=\"neg_mean_squared_error\", cv=10, return_train_score=True\n",
        "    )\n",
        "\n",
        "    X_true = np.linspace(0, 1, 100)\n",
        "    plt.plot(X_true, pipeline.predict(X_true[:, np.newaxis]), label=\"Modèle\")\n",
        "    plt.plot(X_true, true_fun(X_true), label=\"Vraie fonction\")\n",
        "    plt.scatter(X, y, edgecolor=\"b\", s=20, label=\"Entr.\")\n",
        "    plt.scatter(X_test, y_test, edgecolor=\"g\", s=20, label=\"Test\")\n",
        "    plt.xlabel(\"x\")\n",
        "    plt.ylabel(\"y\")\n",
        "    plt.xlim((0, 1))\n",
        "    plt.ylim((-2, 2))\n",
        "    plt.legend(loc=\"best\")\n",
        "    plt.title(\n",
        "        \"Degré {}\\nErreur = {:.1e}(+/- {:.1e})\".format(\n",
        "            degrees[i], -scores['test_score'].mean(), scores['test_score'].std()\n",
        "        ), fontsize='small'\n",
        "    )\n",
        "    results.append([degrees[i], -scores['train_score'].mean(), -scores['test_score'].mean(),scores['train_score'].std(),scores['test_score'].std()])\n",
        "plt.show()"
      ],
      "execution_count": null,
      "outputs": []
    },
    {
      "cell_type": "markdown",
      "metadata": {},
      "source": [
        "On constate aussi que sans les échantillons de validation, nous serions incapable de déterminer la situation de sur-apprentissage, l'erreur sur les points d’entraînement seul étant excellente pour un degré 15.\n",
        "\n",
        "### Pipeline\n",
        "\n",
        "La construction d'un modèle implique généralement toujours les mêmes étapes illustrées sur la figure [@fig-pipeline]:\n",
        "\n",
        "1. La préparation des données implique parfois un pré-traitement afin de normaliser les données.\n",
        "\n",
        "2. Partage des données en trois groupes: entraînement, validation et test\n",
        "\n",
        "3. L'apprentissage du modèle sur l'ensemble d'entraînement. Cet apprentissage nécessite de déterminer les valeurs des hyper-paramètres du modèle par l'usager.\n",
        "\n",
        "4. La validation du modèle sur l'ensemble de validation. Cette étape vise à vérifier que les hyper-paramètres du modèle sont adéquate.\n",
        "\n",
        "5. Enfin le test du modèle sur un ensemble de donnée indépendant\n",
        "\n",
        "```{mermaid}\n",
        "%%| echo: false\n",
        "%%| label: fig-pipeline\n",
        "%%| fig-cap: \"Étapes standards dans un entraînement.\"\n",
        "flowchart TD\n",
        "    A[fa:fa-database Données] --> B(fa:fa-gear Prétraitement)\n",
        "    B --> C(fa:fa-folder-tree Partage des données) -.-> D(fa:fa-gears Entraînement)\n",
        "    H[[Hyper-paramètres]] --> D\n",
        "    D --> |Modèle| E>Validation]\n",
        "    E --> |Modèle| G>Test]\n",
        "    C -.-> E\n",
        "    C -.-> G\n",
        "```\n",
        "\n",
        "### Construction d'un ensemble d’entraînement {#sec-05.02.02}\n",
        "\n",
        "Les données d’entraînement vont permettre de construire un modèle. Ces données peuvent prendre des formes très variées mais on peut voir cela sous la forme d'un tableau $N \\times D$:\n",
        "\n",
        "1. La taille $N$ du jeu de donnée\n",
        "\n",
        "2. Chaque entrée définit un échantillon ou un point dans un espace à plusieurs dimension.\n",
        "\n",
        "3. Chaque échantillon est décrit par $D$ dimensions ou caractéristiques (*features*).\n",
        "\n",
        "Une façon simple de construire un ensemble d’entraînement est d'échantillonner un produit existant. Nous allons utiliser la carte d'occupation des sols suivante qui contient 12 classes différentes."
      ]
    },
    {
      "cell_type": "code",
      "metadata": {},
      "source": [
        "couleurs_classes= {'NoData': 'black', 'Commercial': 'yellow', 'Nuages': 'lightgrey', \n",
        "                    'Foret': 'darkgreen', 'Faible_végétation': 'green', 'Sol_nu': 'saddlebrown',\n",
        "                  'Roche': 'dimgray', 'Route': 'red', 'Urbain': 'orange', 'Eau': 'blue', 'Tourbe': 'salmon', 'Végétation éparse': 'darkgoldenrod', 'Roche avec végétation': 'darkseagreen'}\n",
        "nom_classes= [*couleurs_classes.keys()]\n",
        "couleurs_classes= [*couleurs_classes.values()]"
      ],
      "execution_count": null,
      "outputs": []
    },
    {
      "cell_type": "markdown",
      "metadata": {},
      "source": [
        "On peut visualiser la carte de la façon suivante:"
      ]
    },
    {
      "cell_type": "code",
      "metadata": {},
      "source": [
        "import matplotlib.pyplot as plt\n",
        "import rioxarray as rxr\n",
        "cmap_classes = ListedColormap(couleurs_classes)\n",
        "\n",
        "fig, ax = plt.subplots(nrows=1, ncols=1, figsize=(8, 6))\n",
        "img_carte.squeeze().plot.imshow(cmap=cmap_classes, vmin=0, vmax=12)\n",
        "ax.set_title(\"Carte d'occupation des sols\", fontsize=\"small\")"
      ],
      "execution_count": null,
      "outputs": []
    },
    {
      "cell_type": "markdown",
      "metadata": {},
      "source": [
        "On peut facilement calculer la fréquence d’occurrence des 12 classes dans l'image à l'aide de `numpy`:"
      ]
    },
    {
      "cell_type": "code",
      "metadata": {},
      "source": [
        "img_carte= img_carte.squeeze() # nécessaire pour ignorer la dimension du canal\n",
        "compte_classe = np.unique(img_carte.data, return_counts=True)\n",
        "print(compte_classe)"
      ],
      "execution_count": null,
      "outputs": []
    },
    {
      "cell_type": "markdown",
      "metadata": {},
      "source": [
        "La fréquence d'apparition de chaque classe varie grandement, on parle alors d'un **ensemble déséquilibré**. Ceci est très commun dans la plupart des ensembles d’entraînement, les classes n'apparaissent pas avec la même fréquence. "
      ]
    },
    {
      "cell_type": "code",
      "metadata": {},
      "source": [
        "valeurs, comptes = compte_classe\n",
        "\n",
        "# Create the histogram\n",
        "plt.figure(figsize=(5, 3))\n",
        "plt.bar(valeurs, comptes/comptes.sum()*100)\n",
        "plt.xlabel(\"Classes\")\n",
        "plt.ylabel(\"%\")\n",
        "plt.title(\"Fréquences des classes\", fontsize=\"small\")\n",
        "plt.xticks(range(len(nom_classes)), nom_classes, rotation=45, ha='right')\n",
        "plt.show()"
      ],
      "execution_count": null,
      "outputs": []
    },
    {
      "cell_type": "markdown",
      "metadata": {},
      "source": [
        "On peut échantillonner 100 points aléatoires pour chaque classe:"
      ]
    },
    {
      "cell_type": "code",
      "metadata": {},
      "source": [
        "img_carte= img_carte.squeeze()\n",
        "class_counts = np.unique(img_carte.data, return_counts=True)\n",
        "\n",
        "# Liste vide des points échantillonnées\n",
        "sampled_points = []\n",
        "class_labels= [] # contient les étiquettes des classes\n",
        "for class_label in range(1,13): # pour chacune des 12 classes\n",
        "  # On cherche tous les pixels pour cette étiquette\n",
        "  class_pixels = np.argwhere(img_carte.data == class_label)\n",
        "\n",
        "  # On se limite à 100 pixels par classe\n",
        "  n_samples = min(100, len(class_pixels))\n",
        "\n",
        "  # On les choisit les positions aléatoirement\n",
        "  np.random.seed(0) # ceci permet de répliquer le tirage aléatoire\n",
        "  sampled_indices = np.random.choice(len(class_pixels), n_samples, replace=False)\n",
        "\n",
        "  # On prends les positions en lignes, colonnes\n",
        "  sampled_pixels = class_pixels[sampled_indices]\n",
        "\n",
        "  # On ajoute les points à la liste\n",
        "  sampled_points.extend(sampled_pixels)\n",
        "  class_labels.extend(np.array([class_label]*n_samples)[:,np.newaxis])\n",
        "\n",
        "# Conversion en NumPy array\n",
        "sampled_points = np.array(sampled_points)\n",
        "class_labels = np.array(class_labels)\n",
        "# On peut naviguer les points à l'aide de la géoréférence\n",
        "transformer = rasterio.transform.AffineTransformer(img_carte.rio.transform())\n",
        "transform_sampled_points= transformer.xy(sampled_points[:,0], sampled_points[:,1])\n",
        "\n",
        "fig, ax = plt.subplots(nrows=1, ncols=1, figsize=(8, 6))\n",
        "img_carte.squeeze().plot.imshow(cmap=cmap_classes, vmin=0, vmax=12)\n",
        "ax.scatter(transform_sampled_points[0], transform_sampled_points[1], c='w', s=1)  # Plot sampled points\n",
        "ax.set_title(\"Carte d'occupation des sols avec les points échantillonnés\", fontsize=\"small\")\n",
        "plt.show()"
      ],
      "execution_count": null,
      "outputs": []
    },
    {
      "cell_type": "markdown",
      "metadata": {},
      "source": [
        "Une fois les points sélectionnés, il faut ajouter les valeurs des bandes provenant d'une image satellite. Pour cela, on peut utiliser la méthodes `sample()` de `rasterio`. Éventuellement, la librairie [`geopandas`](https://geopandas.org) permet de gérer les données d’entraînement sous la forme d'un tableau transportant aussi l'information de géoréférence. Afin de pouvoir classifier ces points, nous allons ajouter les valeurs radiométriques provenant de l'image Sentinel-2 à 4 bandes `RGBNIR_of_S2A.tif`. Ces valeurs seront stockées dans la colonne `value` sous la forme d'un vecteur en format `string`:"
      ]
    },
    {
      "cell_type": "code",
      "metadata": {},
      "source": [
        "points = [Point(xy) for xy in zip(transform_sampled_points[0], transform_sampled_points[1])]\n",
        "gdf = geopandas.GeoDataFrame(range(1,len(points)+1), geometry=points, crs=img_carte.rio.crs)\n",
        "coord_list = [(x, y) for x, y in zip(gdf[\"geometry\"].x, gdf[\"geometry\"].y)]\n",
        "with rasterio.open('RGBNIR_of_S2A.tif') as src:\n",
        "  gdf[\"value\"] = [x for x in src.sample(coord_list)]\n",
        "gdf['class']= class_labels\n",
        "gdf.to_csv('sampling_points.csv') # sauvegarde sous forme d'un format csv\n",
        "gdf.head()"
      ],
      "execution_count": null,
      "outputs": []
    },
    {
      "cell_type": "markdown",
      "metadata": {},
      "source": [
        "## Analyse préliminaire des données\n",
        "\n",
        "Une bonne pratique avant d'appliquer une technique d'apprentissage automatique est de regarder les caractéristiques de vos données:\n",
        "\n",
        "1. Le nombre de dimensions (*features*)\n",
        "\n",
        "2. Certaines dimensions sont informatives (discriminantes) et d'autres ne le sont pas\n",
        "\n",
        "3. Le nombre classes\n",
        "\n",
        "4. Le nombre de modes (*clusters*) par classes\n",
        "\n",
        "5. Le nombre d'échantillons par classe\n",
        "\n",
        "6. La forme des groupes \n",
        "\n",
        "7. La séparabilité des classes ou des groupes\n",
        "\n",
        "Une manière d'évaluer la séparabilité de vos classes est d'appliquer des modèles Gaussiens sur chacune des classes. Le modèle Gaussien multivarié suppose que les données sont distribuées comme un nuage de points symétrique et unimodale. La distribution d'un point $x$ appartenant à la classe $i$ est la suivante:\n",
        "\n",
        "$$\n",
        "P(x | Classe=i) = \\frac{1}{(2\\pi)^{D/2} |\\Sigma_i|^{1/2}}\\exp\\left(-\\frac{1}{2} (x-m_i)^t \\Sigma_k^{-1} (x-m_i)\\right)\n",
        "$$\n",
        "\n",
        "La méthode [`QuadraticDiscriminantAnalysis`](https://scikit-learn.org/stable/modules/generated/sklearn.discriminant_analysis.QuadraticDiscriminantAnalysis.html) permet de calculer les paramètres des Gaussiennes multivariées pour chacune des classes.\n",
        "\n",
        "On peut calculer une distance entre deux nuages Gaussiens avec la distance dites de Jeffries-Matusita (JM) basée sur la distance de Bhattacharyya $B$:\n",
        "\n",
        "$$\n",
        "JM_{ij}= 2(1-e^{-B})\\\\\n",
        "B=\\frac{1}{8}(m_i-m_j)^t { \\frac{\\Sigma_i+\\Sigma_j}{2} }(m_i-m_j)+\\frac{1}{2}ln { \\frac{|(\\Sigma_i+\\Sigma_j)/2|}{|\\Sigma_i|^{1/2}|\\Sigma_j|^{1/2}}}\n",
        "$$\n",
        "\n",
        "Cette distance présuppose que chaque classe $i$ est décrite par son centre $m_i$ et de sa dispersion dans l'espace à $D$ dimensions mesurée par la matrice de covariance $\\Sigma_i$. On peut en faire facilement une fonction Python à l'aide de `numpy`:"
      ]
    },
    {
      "cell_type": "code",
      "metadata": {},
      "source": [
        "def bhattacharyya_distance(m1, s1, m2, s2):\n",
        "    # Calcul de la covariance moyenne\n",
        "    s = (s1 + s2) / 2\n",
        "    \n",
        "    # Calcul du premier terme (différence des moyennes)\n",
        "    m_diff = m1 - m2\n",
        "    term1 = np.dot(np.dot(m_diff.T, np.linalg.inv(s)), m_diff) / 8\n",
        "    \n",
        "    # Calcul du second terme (différence de covariances)\n",
        "    term2 = 0.5 * np.log(np.linalg.det(s) / np.sqrt(np.linalg.det(s1) * np.linalg.det(s2)))\n",
        "    \n",
        "    return term1 + term2\n",
        "\n",
        "def jeffries_matusita_distance(m1, s1, m2, s2):\n",
        "    B = bhattacharyya_distance(m1, s1, m2, s2)\n",
        "    return 2 * (1 - np.exp(-B))"
      ],
      "execution_count": null,
      "outputs": []
    },
    {
      "cell_type": "markdown",
      "metadata": {},
      "source": [
        "La figure ci-dessous illustre différentes situations avec des données artificielles:"
      ]
    },
    {
      "cell_type": "code",
      "metadata": {},
      "source": [
        "#| echo: false\n",
        "#| warning: false\n",
        "import matplotlib.pyplot as plt\n",
        "\n",
        "from sklearn.datasets import make_blobs, make_classification, make_gaussian_quantiles\n",
        "\n",
        "\n",
        "cmap_classes = ListedColormap( ['blue','yellow','red'])\n",
        "\n",
        "np.random.seed(42)\n",
        "plt.figure(figsize=(8, 8))\n",
        "plt.subplots_adjust(bottom=0.05, top=0.9, left=0.05, right=0.95)\n",
        "\n",
        "plt.subplot(321)\n",
        "\n",
        "X1, Y1 = make_classification(\n",
        "    n_features=2, n_redundant=0, n_informative=1, n_clusters_per_class=1\n",
        ")\n",
        "qda = QuadraticDiscriminantAnalysis(store_covariance=True)\n",
        "qda.fit(X1, Y1)\n",
        "jm=jeffries_matusita_distance(qda.means_[0], qda.covariance_[0], qda.means_[1], qda.covariance_[1])\n",
        "plt.title(f\"Une dimension informative, un mode par classe JM_12={jm:3.2f}\", fontsize=\"small\")\n",
        "plt.scatter(X1[:, 0], X1[:, 1], marker=\"o\", c=Y1, s=25, edgecolor=\"k\", cmap=cmap_classes)\n",
        "\n",
        "plt.subplot(322)\n",
        "\n",
        "X1, Y1 = make_classification(\n",
        "    n_features=2, n_redundant=0, n_informative=2, n_clusters_per_class=1\n",
        ")\n",
        "qda = QuadraticDiscriminantAnalysis(store_covariance=True)\n",
        "qda.fit(X1, Y1)\n",
        "jm=jeffries_matusita_distance(qda.means_[0], qda.covariance_[0], qda.means_[1], qda.covariance_[1])\n",
        "plt.title(f\"Deux dimensions informatives, un mode par classe JM_12={jm:3.2f}\", fontsize=\"small\")\n",
        "plt.scatter(X1[:, 0], X1[:, 1], marker=\"o\", c=Y1, s=25, edgecolor=\"k\", cmap=cmap_classes)\n",
        "\n",
        "plt.subplot(323)\n",
        "\n",
        "X2, Y2 = make_classification(n_features=2, n_redundant=0, n_informative=2)\n",
        "qda = QuadraticDiscriminantAnalysis(store_covariance=True)\n",
        "qda.fit(X1, Y1)\n",
        "jm=jeffries_matusita_distance(qda.means_[0], qda.covariance_[0], qda.means_[1], qda.covariance_[1])\n",
        "plt.title(f\"Deux dimensions informatives, deux modes par classe JM_12={jm:3.2f}\", fontsize=\"small\")\n",
        "plt.scatter(X2[:, 0], X2[:, 1], marker=\"o\", c=Y2, s=25, edgecolor=\"k\", cmap=cmap_classes)\n",
        "\n",
        "plt.subplot(324)\n",
        "\n",
        "X1, Y1 = make_classification(\n",
        "    n_features=2, n_redundant=0, n_informative=2, n_clusters_per_class=1, n_classes=3\n",
        ")\n",
        "qda = QuadraticDiscriminantAnalysis(store_covariance=True)\n",
        "qda.fit(X1, Y1)\n",
        "jm=jeffries_matusita_distance(qda.means_[0], qda.covariance_[0], qda.means_[1], qda.covariance_[1])\n",
        "plt.title(f\"Trois classes, deux dimensions informatives, un mode JM_12={jm:3.2f}\", fontsize=\"small\")\n",
        "plt.scatter(X1[:, 0], X1[:, 1], marker=\"o\", c=Y1, s=25, edgecolor=\"k\", cmap=cmap_classes)\n",
        "\n",
        "plt.subplot(325)\n",
        "\n",
        "X1, Y1 = make_blobs(n_features=2, centers=3)\n",
        "qda = QuadraticDiscriminantAnalysis(store_covariance=True)\n",
        "qda.fit(X1, Y1)\n",
        "jm=jeffries_matusita_distance(qda.means_[0], qda.covariance_[0], qda.means_[1], qda.covariance_[1])\n",
        "plt.title(f\"Trois classes JM_12={jm:3.2f}\", fontsize=\"small\")\n",
        "plt.scatter(X1[:, 0], X1[:, 1], marker=\"o\", c=Y1, s=25, edgecolor=\"k\", cmap=cmap_classes)\n",
        "\n",
        "plt.subplot(326)\n",
        "\n",
        "X1, Y1 = make_gaussian_quantiles(n_features=2, n_classes=3)\n",
        "qda = QuadraticDiscriminantAnalysis(store_covariance=True)\n",
        "qda.fit(X1, Y1)\n",
        "jm=jeffries_matusita_distance(qda.means_[0], qda.covariance_[0], qda.means_[1], qda.covariance_[1])\n",
        "plt.title(f\"Trois classes, Gaussiennes superposées JM_12={jm:3.2f}\", fontsize=\"small\")\n",
        "plt.scatter(X1[:, 0], X1[:, 1], marker=\"o\", c=Y1, s=25, edgecolor=\"k\", cmap=cmap_classes)\n",
        "\n",
        "plt.show()"
      ],
      "execution_count": null,
      "outputs": []
    },
    {
      "cell_type": "markdown",
      "metadata": {},
      "source": [
        "On forme notre ensemble d'entrainement à partir du fichier `csv` de la section @sec-05.02.02. "
      ]
    },
    {
      "cell_type": "code",
      "metadata": {},
      "source": [
        "df= pd.read_csv('sampling_points.csv')\n",
        "# Extraire la colonne 'value'.\n",
        "# 'value' est une chaîne de caractères représentation d'une liste de nombres.\n",
        "# Nous devons la convertir en données numériques réelles.\n",
        "X = df['value'].apply(lambda x: np.fromstring(x[1:-1], dtype=float, sep=' ')).to_list()\n",
        "\n",
        "# on obtient une liste de numpy array  qu'il faut convertir en un numpy array 2D\n",
        "X= np.array([row.tolist() for row in X])\n",
        "idx= X.sum(axis=-1)>0 # on exclut certains points sans valeurs\n",
        "X= X[idx,...]\n",
        "y = df['class'].to_numpy()\n",
        "y= y[idx]\n",
        "class_labels = np.unique(y).tolist() # on cherche à savoir combien de classes uniques\n",
        "n_classes = len(class_labels)\n",
        "if max(class_labels) > n_classes: # il se peut que certaines classes soit absentes\n",
        "  y_new= []\n",
        "  for i,l in enumerate(class_labels):\n",
        "    y_new.extend([i]*sum(y==l))\n",
        "  y_new = np.array(y_new)\n",
        "\n",
        "couleurs_classes2= [couleurs_classes[c] for c in np.unique(y).tolist()] # couleurs des classes\n",
        "nom_classes2= [nom_classes[c] for c in np.unique(y).tolist()]\n",
        "cmap_classes2 = ListedColormap(couleurs_classes2)"
      ],
      "execution_count": null,
      "outputs": []
    },
    {
      "cell_type": "markdown",
      "metadata": {},
      "source": [
        "On peut faire une analyse de séparabilité sur notre ensemble d'entrainement de 10 classes. On obtient un tableau symmétrique de 10x10 valeurs. On peut observer des valeurs inférieures à 1 ce qui indique des séparabilités faibles entre ces classes sous l'hypothèse du modèle Gaussien:"
      ]
    },
    {
      "cell_type": "code",
      "metadata": {},
      "source": [
        "qda= QuadraticDiscriminantAnalysis(store_covariance=True)\n",
        "qda.fit(X, y_new) # calcul des paramètres des distributions Gaussiennes\n",
        "JM= []\n",
        "classes= np.unique(y_new).tolist() # étiquettes uniques des classes\n",
        "for cl1 in classes:\n",
        "  for cl2 in classes:\n",
        "    JM.append(jeffries_matusita_distance(qda.means_[cl1], qda.covariance_[cl1], qda.means_[cl2], qda.covariance_[cl2]))\n",
        "\n",
        "JM= np.array(JM).reshape(len(classes),len(classes))\n",
        "JM= pd.DataFrame(JM, index=classes, columns=classes)\n",
        "JM.head(10)"
      ],
      "execution_count": null,
      "outputs": []
    },
    {
      "cell_type": "markdown",
      "metadata": {},
      "source": [
        "Afin d'évaluer chaque classe, on peut calculer la séparabilité minimale, on peut observer que la classe eau a le maximum de séparabilité avec les autres classes."
      ]
    },
    {
      "cell_type": "code",
      "metadata": {},
      "source": [
        "#| echo: false\n",
        "#| warning: false\n",
        "plt.figure(figsize=(5, 3))\n",
        "plt.bar(range(JM.shape[0]), np.min(JM[JM>0],axis=1))\n",
        "plt.xlabel(\"Classes\")\n",
        "plt.ylabel(\"JM\")\n",
        "plt.title(\"Séparabilité minimale\", fontsize=\"small\")\n",
        "plt.xticks(range(len(nom_classes2)), nom_classes2, rotation=45, ha='right')\n",
        "plt.show()"
      ],
      "execution_count": null,
      "outputs": []
    },
    {
      "cell_type": "markdown",
      "metadata": {},
      "source": [
        "## Mesures de performance d'une méthode de classification\n",
        "\n",
        "Lorsque que l'on cherche à établir la performance d'un modèle, il faut être capable de mesurer la performance de ce classificateur. Il existe de nombreuses mesures de performance qui sont toutes dérivées de la matrice de confusion. Cette matrice compare les étiquettes provenant de l'annotation (la vérité terrain) et les étiquettes prédites par un modèle. On peut définir $C(i,j)$ est le nombre de prédictions dont la vérité terrain indique la classe $i$ et qui sont prédites dans la classe $j$. La fonction [confusion_matrix](https://scikit-learn.org/stable/modules/generated/sklearn.metrics.confusion_matrix.html) permet de faire ce calcul, voici un exemple très simple:"
      ]
    },
    {
      "cell_type": "code",
      "metadata": {},
      "source": [
        "y_true = [\"cat\", \"ant\", \"cat\", \"cat\", \"ant\", \"bird\", \"bird\"]\n",
        "y_pred = [\"ant\", \"ant\", \"cat\", \"cat\", \"ant\", \"cat\", \"bird\"]\n",
        "confusion_matrix(y_true, y_pred, labels=[\"ant\", \"bird\", \"cat\"])"
      ],
      "execution_count": null,
      "outputs": []
    },
    {
      "cell_type": "markdown",
      "metadata": {},
      "source": [
        "La fonction [classification_report](https://scikit-learn.org/stable/modules/generated/sklearn.metrics.classification_report.html#sklearn.metrics.classification_report) permet de générer quelques métriques:"
      ]
    },
    {
      "cell_type": "code",
      "metadata": {},
      "source": [
        "y_true = [\"cat\", \"ant\", \"cat\", \"cat\", \"ant\", \"bird\", \"bird\"]\n",
        "y_pred = [\"ant\", \"ant\", \"cat\", \"cat\", \"ant\", \"cat\", \"bird\"]\n",
        "print(classification_report(y_true, y_pred, target_names=[\"ant\", \"bird\", \"cat\"]))"
      ],
      "execution_count": null,
      "outputs": []
    },
    {
      "cell_type": "markdown",
      "metadata": {},
      "source": [
        "Le rappel (*recall*) pour une classe donnée est la proportion de la vérité terrain qui a été correctement identifiée et est sensible aux confusions entre classes (erreurs d'omission). Les valeurs de rappels correspondent à une normalization de la matrice de confusion par rapport aux lignes. \n",
        "\n",
        "$$\n",
        "Recall_i= C_{ii} / \\sum_j C_{ij}\n",
        "$$\n",
        "Une faible valeur de rappel signifie que le classificateur confond facilement la classe concernée avec d'autres classes.\n",
        "\n",
        "La précision est la portion des prédictions qui ont été bien classifiées et est sensible aux fausses alarmes (erreurs de commission). Les valeurs de précision correspondent à une normalization de la matrice de confusion par rapport aux colonnes.\n",
        "$$\n",
        "Precision_i= C_{ii} / \\sum_i C_{ij}\n",
        "$$\n",
        "Une faible valeur de précision signifie que le classificateur trouve facilement la classe concernée dans d'autres classes.\n",
        "\n",
        "Le `f1-score` calcul une moyenne des deux métriques précédentes:\n",
        "$$\n",
        "\\text{f1-score}_i=2\\frac{Recall_i \\times Precision_i}{Recall_i + Precision_i}\n",
        "$$\n",
        "\n",
        "## Méthodes non paramétriques\n",
        "\n",
        "Les méthodes non paramétriques ne font pas d'hypothèses particulières sur les données. Un des inconvénients de ces modèles est que le nombre de paramètres du modèles augmente avec la taille des données.\n",
        "\n",
        "\n",
        "### Méthode des parallélépipèdes {#sec-0511}\n",
        "\n",
        "La méthode du parallélépipède est probablement la plus simple et consiste à délimiter directement le domaine des points d'une classe par une boite (un parallélépipède) à $D$ dimensions. Les limites de ces parallélépipèdes forment alors des frontières de décision manuelles qui vont permettre décider de la classe d'appartenance d'un nouveau point. Un des avantages de cette technique est que si un point n'est dans aucun parallélépipède alors on peut le laisser comme non classifié. Par contre, la construction de ces parallélépipèdes se complexifient grandement avec le nombre de bandes. À une dimension, deux paramètres, équivalents à un seuillage d'histogramme, sont suffisants. À deux dimensions, vous devez définir 4 segments par classe. Avec 3 bandes, vous devez définir 6 plans par classes et à D dimensions, D hyperplans à D-1 dimensions par classe. Le modèle ici est donc une suite de valeurs `min` et `max` pour chacune des bandes et des classes: "
      ]
    },
    {
      "cell_type": "code",
      "metadata": {},
      "source": [
        "def parrallepiped_train(X_train, y_train):\n",
        "  classes= np.unique(y_train).tolist()\n",
        "  clf= []\n",
        "  for cl in classes:\n",
        "      data_cl= X_train[y_train == cl,...] # on cherche les données pour la classe courante\n",
        "      \n",
        "      limits=[]\n",
        "      for b in range(data_cl.shape[1]):\n",
        "        limits.append([data_cl[:,b].min(), data_cl[:,b].max()]) # on calcul le min et max pour chaque bande\n",
        "      clf.append(np.array(limits))\n",
        "  return clf\n",
        "clf= parrallepiped_train(X, y_new)"
      ],
      "execution_count": null,
      "outputs": []
    },
    {
      "cell_type": "markdown",
      "metadata": {},
      "source": [
        "La prédiction consiste à trouver pour chaque point la première limite qui est satisfaite. Notez qu'il n'y a pas de moyen de décider quelle est la meilleure classe si le point appartient à plusieurs classes."
      ]
    },
    {
      "cell_type": "code",
      "metadata": {},
      "source": [
        "@jit(nopython=True)\n",
        "def parrallepiped_predict(clf, X_test):\n",
        "  y_pred= []\n",
        "  for data in X_test:\n",
        "    y_pred.append(np.nan)\n",
        "    for cl, limits in enumerate(clf):\n",
        "      inside= True\n",
        "      for b,limit in enumerate(limits):\n",
        "        inside = inside and (data[b] >= limit[0]) & (data[b] <= limit[1])\n",
        "        if ~inside:\n",
        "          break\n",
        "      if inside:\n",
        "        y_pred[-1]=cl\n",
        "  return np.array(y_pred)"
      ],
      "execution_count": null,
      "outputs": []
    },
    {
      "cell_type": "markdown",
      "metadata": {},
      "source": [
        "On peut appliquer ensuite le modèle sur l'image au complet. Les résultats sont assez mauvais, seule la classe eau en bleu semble être bien classifiée."
      ]
    },
    {
      "cell_type": "code",
      "metadata": {},
      "source": [
        "data_image= img_rgbnir.to_numpy().transpose(1,2,0).reshape(img_rgbnir.shape[1]*img_rgbnir.shape[2],4)\n",
        "y_image= parrallepiped_predict(clf, data_image)\n",
        "y_image= y_image.reshape(img_rgbnir.shape[1],img_rgbnir.shape[2])\n",
        "\n",
        "fig, ax = plt.subplots(nrows=1, ncols=1, figsize=(8, 6))\n",
        "plt.imshow(y_image, cmap=cmap_classes2)\n",
        "ax.set_title(\"Méthode des parrallélépipèdes\", fontsize=\"small\")\n",
        "plt.show()"
      ],
      "execution_count": null,
      "outputs": []
    },
    {
      "cell_type": "markdown",
      "metadata": {},
      "source": [
        "On peut calculer quelques mesures de performance sur l'ensemble d'entrainement:"
      ]
    },
    {
      "cell_type": "code",
      "metadata": {},
      "source": [
        "y_pred= parrallepiped_predict(clf, X)\n",
        "nom_classes2= [nom_classes[c] for c in np.unique(y).tolist()]\n",
        "print(classification_report(y_new, y_pred, target_names=nom_classes2, zero_division=np.nan))"
      ],
      "execution_count": null,
      "outputs": []
    },
    {
      "cell_type": "markdown",
      "metadata": {},
      "source": [
        "#### La malédiction de la haute dimension\n",
        "\n",
        "Augmenter le nombre de dimension ou de caractéristiques des données permet de résoudre des problèmes complexes comme la classification d'image. Cependant, cela amène beaucoup de contraintes sur le volume des données. Supposons que nous avons N points occupant un segment linéaire de taille d. La densité de points est $N/d$. Si nous augmentons le nombre de dimension D, la densité de points va diminuer exponentiellement en $1/d^D$. Par conséquent, pour garder une densité constante et donc une bonne estimation des parallélépipèdes, il nous faudrait augmenter le nombre de points en puissance de D. Ceci porte le nom de la malédiction de la dimensionnalité (*dimensionality curse*). En résumé, l'espace vide augmente plus rapidement que le nombre de données d'entraînement et l'espace des données devient de plus en plus parcimonieux (*sparse*). Pour contrecarrer ce problème, on peut sélectionner les meilleures caractéristiques ou appliquer une réduction de dimension. \n",
        "\n",
        "### Plus proches voisins\n",
        "\n",
        "La méthode des plus proches voisins (*K-Nearest-Neighbors* en Anglais) est certainement la plus simple des méthodes pour classifier des données. Elle consiste à comparer une nouvelle données avec ces voisins les plus proches en fonction d'une simple distance Euclidienne. Si une majorité de ces $K$ voisins appartiennent à une classe majoritaire alors cette classe est sélectionnée. Afin de permettre un vote majoritaire, on choisira un nombre impair pour la valeur de $K$. Mallgré sa simplicité, cette technique peut devenir assez demandante en terme de calcul pour un nombre important de points avec un nombre élevé de dimensions.\n",
        "\n",
        "Reprensons l'ensemble d’entraînement formé à partir de notre image RGBNIR précédente:"
      ]
    },
    {
      "cell_type": "code",
      "metadata": {},
      "source": [
        "df= pd.read_csv('sampling_points.csv')\n",
        "# Extraire la colonne 'value'.\n",
        "# 'value' est une chaîne de caractères comme représentation d'une liste de valeurs.\n",
        "# Nous devons la convertir en données numériques réelles.\n",
        "X = df['value'].apply(lambda x: np.fromstring(x[1:-1], dtype=float, sep=' ')).to_list()\n",
        "\n",
        "# on obtient une liste de numpy array  qu'il faut convertir en un numpy array 2D\n",
        "X= np.array([row.tolist() for row in X])\n",
        "idx= X.sum(axis=-1)>0 # il se peut qu'il y ait des valeurs erronées\n",
        "X= X[idx,...]\n",
        "y = df['class'].to_numpy()\n",
        "y= y[idx]\n",
        "class_labels = np.unique(y).tolist() # on cherche à savoir combien de classes uniques\n",
        "n_classes = len(class_labels)\n",
        "if max(class_labels) > n_classes: # il se peut que certaines classes soit absentes\n",
        "  y_new= []\n",
        "  for i,l in enumerate(class_labels):\n",
        "    y_new.extend([i]*sum(y==l))\n",
        "  y_new = np.array(y_new)\n",
        "nom_classes2= [nom_classes[c] for c in np.unique(y).tolist()]"
      ],
      "execution_count": null,
      "outputs": []
    },
    {
      "cell_type": "markdown",
      "metadata": {},
      "source": [
        "Il est important de faire précéder la méthode K-NN par une normalisation des données de façon à ce que chaque caractéristique soit de moyenne 0 et d'écart-type égale à 1 (on dit parfois que l'on blanchit les données). Cette normalisation permet à ce que chaque dimension ait le même poids dans le calcul des distances entre points. Cette opération porte le nom de `StandardScaler` dans `scikit-learn`. On peut alors former un pipeline de traitement combinant les deux opérations:"
      ]
    },
    {
      "cell_type": "code",
      "metadata": {},
      "source": [
        "clf = Pipeline(\n",
        "    steps=[(\"scaler\", StandardScaler()), (\"knn\", KNeighborsClassifier(n_neighbors=1))]\n",
        ")"
      ],
      "execution_count": null,
      "outputs": []
    },
    {
      "cell_type": "markdown",
      "metadata": {},
      "source": [
        "Avant d'effectuer un entraînement, on met généralement une portion des données pour valider les performances:"
      ]
    },
    {
      "cell_type": "code",
      "metadata": {},
      "source": [
        "X_train, X_test, y_train, y_test = train_test_split(X, y_new, test_size=0.2, random_state=0)"
      ],
      "execution_count": null,
      "outputs": []
    },
    {
      "cell_type": "markdown",
      "metadata": {},
      "source": [
        "On peut visualiser les frontières de décision du K-NN pour différentes valeurs de $K$ lorsque seulement deux bandes sont utilisées (Rouge et proche infra-rouge ici):"
      ]
    },
    {
      "cell_type": "code",
      "metadata": {},
      "source": [
        "#| echo: false\n",
        "#| warning: false\n",
        "\n",
        "_, axs = plt.subplots(nrows=2,ncols=2, figsize=(9,9))\n",
        "couleurs_classes2= [couleurs_classes[c] for c in np.unique(y).tolist()]\n",
        "cmap_classes2 = ListedColormap(couleurs_classes2)\n",
        "for ax, K in zip(axs.flatten(), [1,3,7,15]):\n",
        "    clf.set_params(knn__weights='distance', knn__n_neighbors = K).fit(X_train[:,2:4], y_train)\n",
        "    y_pred = clf.predict(X_test[:,2:4])\n",
        "    print(\"Number of mislabeled points out of a total %d points : %d\"\n",
        "      % (X_test.shape[0], (y_test != y_pred).sum()))\n",
        "    disp = DecisionBoundaryDisplay.from_estimator(\n",
        "        clf,\n",
        "        X[:,2:4],\n",
        "        response_method=\"predict\",\n",
        "        plot_method=\"contourf\",\n",
        "        shading=\"auto\",\n",
        "        alpha=0.5,\n",
        "        ax=ax,\n",
        "        cmap= cmap_classes2,\n",
        "    )\n",
        "    scatter = disp.ax_.scatter(X_test[:, 2], X_test[:, 3], c=y_test, edgecolors=\"k\", cmap=cmap_classes2)\n",
        "    disp.ax_.set_xlabel('Rouge', fontsize=\"small\")\n",
        "    disp.ax_.set_ylabel('Proche infra-rouge', fontsize=\"small\")\n",
        "    _ = disp.ax_.set_title(\n",
        "        f\"K={clf[-1].n_neighbors} erreur={(y_test != y_pred).sum()/X_test.shape[0]*100:3.1f}%\", fontsize=\"small\"\n",
        "    )\n",
        "\n",
        "plt.show()"
      ],
      "execution_count": null,
      "outputs": []
    },
    {
      "cell_type": "markdown",
      "metadata": {},
      "source": [
        "On peut voir comment les différentes frontières de décision se forment dans l'espace des bandes Rouge-NIR. L'augmentation de K rend ces frontières plus complexes et le calcul plus long."
      ]
    },
    {
      "cell_type": "code",
      "metadata": {},
      "source": [
        "clf.set_params(knn__weights='distance', knn__n_neighbors = 7).fit(X_train, y_train)\n",
        "y_pred = clf.predict(X_test)\n",
        "print(\"Nombre de points misclassifiés sur %d points : %d\"\n",
        "  % (X_test.shape[0], (y_test != y_pred).sum()))"
      ],
      "execution_count": null,
      "outputs": []
    },
    {
      "cell_type": "markdown",
      "metadata": {},
      "source": [
        "Le rapport de performance est le suivant:"
      ]
    },
    {
      "cell_type": "code",
      "metadata": {},
      "source": [
        "nom_classes2= [nom_classes[c] for c in np.unique(y).tolist()]\n",
        "print(classification_report(y_test, y_pred, target_names=nom_classes2, zero_division=np.nan))"
      ],
      "execution_count": null,
      "outputs": []
    },
    {
      "cell_type": "markdown",
      "metadata": {},
      "source": [
        "La matrice de confusion peut-être affichée de manière graphique:"
      ]
    },
    {
      "cell_type": "code",
      "metadata": {},
      "source": [
        "disp= ConfusionMatrixDisplay.from_predictions(y_test, y_pred, display_labels=nom_classes2, xticks_rotation='vertical')"
      ],
      "execution_count": null,
      "outputs": []
    },
    {
      "cell_type": "markdown",
      "metadata": {},
      "source": [
        "L'application du modèle (la prédiction) peut se faire sur toute l'image en transposant l'image sous forme d'une matrice avec Largeur x Hauteur lignes et 4 colonnes:"
      ]
    },
    {
      "cell_type": "code",
      "metadata": {},
      "source": [
        "data_image= img_rgbnir.to_numpy().transpose(1,2,0).reshape(img_rgbnir.shape[1]*img_rgbnir.shape[2],4)\n",
        "y_classe= clf.predict(data_image)\n",
        "y_classe= y_classe.reshape(img_rgbnir.shape[1],img_rgbnir.shape[2])"
      ],
      "execution_count": null,
      "outputs": []
    },
    {
      "cell_type": "code",
      "metadata": {},
      "source": [
        "fig, ax = plt.subplots(nrows=1, ncols=1, figsize=(8, 6))\n",
        "plt.imshow(y_classe, cmap=cmap_classes2)\n",
        "ax.set_title(\"Carte d'occupation des sols avec K-NN\", fontsize=\"small\")\n",
        "plt.show()"
      ],
      "execution_count": null,
      "outputs": []
    },
    {
      "cell_type": "markdown",
      "metadata": {},
      "source": [
        "### Méthodes par arbre de décision\n",
        "\n",
        "La méthode par arbre de décision consiste à contruire une cascade de règles de décision sur chaque caractéristique du jeu de donnée. On pourra trouver plus de détails dans la documentation de `scikit-learn` ([Decision Trees](https://scikit-learn.org/stable/modules/tree.html)). Les arbres de décision on tendance à sur-apprendre surtout si le nombre de dimensions est élevé. Il est donc conseillé d'avoir un bon ratio entre le nombre d'échantillons et le nombre de dimensions."
      ]
    },
    {
      "cell_type": "code",
      "metadata": {},
      "source": [
        "X_train, X_test, y_train, y_test = train_test_split(X, y, test_size=0.2, random_state=0)"
      ],
      "execution_count": null,
      "outputs": []
    },
    {
      "cell_type": "code",
      "metadata": {},
      "source": [
        "#| echo: false\n",
        "#| warning: false\n",
        "from sklearn import tree\n",
        "\n",
        "_, axs = plt.subplots(nrows=2,ncols=2, figsize=(9,9))\n",
        "couleurs_classes2= [couleurs_classes[c] for c in np.unique(y).tolist()]\n",
        "cmap_classes2 = ListedColormap(couleurs_classes2)\n",
        "clf = tree.DecisionTreeClassifier()\n",
        "for ax, K in zip(axs.flatten(), [1,2,3,4]):\n",
        "    clf.set_params(max_depth = K).fit(X_train[:,2:4], y_train)\n",
        "    y_pred = clf.predict(X_test[:,2:4])\n",
        "    print(\"Number of mislabeled points out of a total %d points : %d\"\n",
        "      % (X_test.shape[0], (y_test != y_pred).sum()))\n",
        "    disp = DecisionBoundaryDisplay.from_estimator(\n",
        "        clf,\n",
        "        X[:,2:4],\n",
        "        response_method=\"predict\",\n",
        "        plot_method=\"contourf\",\n",
        "        shading=\"auto\",\n",
        "        alpha=0.5,\n",
        "        ax=ax,\n",
        "        cmap= cmap_classes2,\n",
        "    )\n",
        "    scatter = disp.ax_.scatter(X_test[:, 2], X_test[:, 3], c=y_test, edgecolors=\"k\", cmap=cmap_classes2)\n",
        "    disp.ax_.set_xlabel('Rouge', fontsize=\"small\")\n",
        "    disp.ax_.set_ylabel('Proche infra-rouge', fontsize=\"small\")\n",
        "    _ = disp.ax_.set_title(\n",
        "        f\"K={K} erreur={(y_test != y_pred).sum()/X_test.shape[0]*100:3.1f}%\", fontsize=\"small\"\n",
        "    )\n",
        "\n",
        "plt.show()"
      ],
      "execution_count": null,
      "outputs": []
    },
    {
      "cell_type": "markdown",
      "metadata": {},
      "source": [
        "On peut observer que les frontières de décision sont formées d'un ensemble de plans simple. Chaque plan étant issu d'une règle de décison formé d'un seuil sur chacune des dimensions. On entraine un arbre de décision avec une profondeur maximale de 5:"
      ]
    },
    {
      "cell_type": "code",
      "metadata": {},
      "source": [
        "clf = tree.DecisionTreeClassifier(max_depth=5)\n",
        "clf.fit(X_train, y_train)\n",
        "y_pred = clf.predict(X_test)\n",
        "print(\"Nombre de points misclassifiés sur %d points : %d\"\n",
        "  % (X_test.shape[0], (y_test != y_pred).sum()))"
      ],
      "execution_count": null,
      "outputs": []
    },
    {
      "cell_type": "markdown",
      "metadata": {},
      "source": [
        "Le rapport de performance et la matrice de confusion:"
      ]
    },
    {
      "cell_type": "code",
      "metadata": {},
      "source": [
        "#| echo: false\n",
        "#| warning: false\n",
        "print(classification_report(y_test, y_pred, target_names=nom_classes2, zero_division=np.nan))"
      ],
      "execution_count": null,
      "outputs": []
    },
    {
      "cell_type": "code",
      "metadata": {},
      "source": [
        "#| echo: false\n",
        "#| warning: false\n",
        "disp= ConfusionMatrixDisplay.from_predictions(y_test, y_pred, display_labels=nom_classes2, xticks_rotation='vertical')"
      ],
      "execution_count": null,
      "outputs": []
    },
    {
      "cell_type": "markdown",
      "metadata": {},
      "source": [
        "L'application du modèle (la prédiction) peut se faire sur toute l'image en transposant l'image sous forme d'une matrice avec Largeur x Hauteur lignes et 4 colonnes:"
      ]
    },
    {
      "cell_type": "code",
      "metadata": {},
      "source": [
        "#| echo: false\n",
        "#| output: false\n",
        "#| warning: false\n",
        "data_image= img_rgbnir.to_numpy().transpose(1,2,0).reshape(img_rgbnir.shape[1]*img_rgbnir.shape[2],4)\n",
        "y_classe= clf.predict(data_image)\n",
        "y_classe= y_classe.reshape(img_rgbnir.shape[1],img_rgbnir.shape[2])"
      ],
      "execution_count": null,
      "outputs": []
    },
    {
      "cell_type": "code",
      "metadata": {},
      "source": [
        "#| echo: false\n",
        "#| warning: false\n",
        "fig, ax = plt.subplots(nrows=1, ncols=1, figsize=(8, 6))\n",
        "plt.imshow(y_classe, cmap=cmap_classes2)\n",
        "ax.set_title(\"Carte d'occupation des sols avec un arbre de décision\", fontsize=\"small\")\n",
        "plt.show()"
      ],
      "execution_count": null,
      "outputs": []
    },
    {
      "cell_type": "markdown",
      "metadata": {},
      "source": [
        "Il est possible de visualiser l'arbre mais cela contient beaucoup d'information"
      ]
    },
    {
      "cell_type": "code",
      "metadata": {},
      "source": [
        "fig, ax = plt.subplots(nrows=1, ncols=1, figsize=(8, 6))\n",
        "tree.plot_tree(clf, max_depth=1)"
      ],
      "execution_count": null,
      "outputs": []
    },
    {
      "cell_type": "markdown",
      "metadata": {},
      "source": [
        "## Méthodes paramétriques\n",
        "\n",
        "Les méthodes paramétriques se basent sur des modélisations statistiques des données pour permettre une classification. Contraitement au méthodes non paramétriques, elles ont un nombre fixe de paramètres qui ne dépend pas de la taille du jeu de données. Par contre, des hypothèses sont faites sur le comportement statistique des données. La classification consiste alors à trouver la classe la plus vraisemblable dont le modèle statistique décrit le mieux les valeurs observées. L'ensemble d’entraînement permettra alors de calculer les paramètres de chaque Gaussienne pour chacune des classes d'intérêt. \n",
        "\n",
        "### Méthode Bayésienne naïve\n",
        "\n",
        "La méthode Bayésienne naïve Gaussienne consiste faire des hypothèses simplificatrices sur les données, en particulier l'indépendance des données et des dimensions. Ceci permet un calcul plus simple."
      ]
    },
    {
      "cell_type": "code",
      "metadata": {},
      "source": [
        "from sklearn.naive_bayes import GaussianNB\n",
        "gnb = GaussianNB()\n",
        "y_pred = gnb.fit(X_train, y_train).predict(X_test)\n",
        "print(\"Nombre de points erronés sur %d points : %d\"\n",
        "      % (X_test.shape[0], (y_test != y_pred).sum()))"
      ],
      "execution_count": null,
      "outputs": []
    },
    {
      "cell_type": "code",
      "metadata": {},
      "source": [
        "#| echo: false\n",
        "#| warning: false\n",
        "_, axs = plt.subplots(nrows=1,ncols=1, figsize=(4, 4))\n",
        "couleurs_classes2= [couleurs_classes[c] for c in np.unique(y).tolist()]\n",
        "cmap_classes2 = ListedColormap(couleurs_classes2)\n",
        "\n",
        "#clf.set_params(knn__weights='distance', knn__n_neighbors = K).fit(X_train[:,2:4], y_train)\n",
        "gnb= gnb.fit(X_train[:,2:4], y_train)\n",
        "disp = DecisionBoundaryDisplay.from_estimator(\n",
        "    gnb,\n",
        "    X[:,2:4],\n",
        "    response_method=\"predict\",\n",
        "    plot_method=\"contourf\",\n",
        "    shading=\"auto\",\n",
        "    alpha=0.5,\n",
        "    ax=axs,\n",
        "    cmap= cmap_classes2,\n",
        ")\n",
        "scatter = disp.ax_.scatter(X_test[:, 2], X_test[:, 3], c=y_test, edgecolors=\"k\", cmap=cmap_classes2)\n",
        "disp.ax_.set_xlabel('Rouge', fontsize=\"small\")\n",
        "disp.ax_.set_ylabel('NIR', fontsize=\"small\")\n",
        "_ = disp.ax_.set_title(\n",
        "    f\"Bayésien naif\", fontsize=\"small\"\n",
        ")\n",
        "\n",
        "plt.show()"
      ],
      "execution_count": null,
      "outputs": []
    },
    {
      "cell_type": "markdown",
      "metadata": {},
      "source": [
        "On peut observer que les frontières de décision sont beaucoup plus régulières que pour K-NN.\n"
      ]
    },
    {
      "cell_type": "code",
      "metadata": {},
      "source": [
        "gnb.fit(X_train, y_train)\n",
        "y_pred = gnb.predict(X_test)\n",
        "print(\"Nombre de points misclassifiés sur %d points : %d\"\n",
        "  % (X_test.shape[0], (y_test != y_pred).sum()))"
      ],
      "execution_count": null,
      "outputs": []
    },
    {
      "cell_type": "markdown",
      "metadata": {},
      "source": [
        "De la même manière, la prédiction peut s'appliquer sur toute l'image:"
      ]
    },
    {
      "cell_type": "code",
      "metadata": {},
      "source": [
        "#| echo: false\n",
        "#| warning: false\n",
        "data_image= img_rgbnir.to_numpy().transpose(1,2,0).reshape(img_rgbnir.shape[1]*img_rgbnir.shape[2],4)\n",
        "y_classe= gnb.predict(data_image)\n",
        "y_classe= y_classe.reshape(img_rgbnir.shape[1],img_rgbnir.shape[2])\n",
        "fig, ax = plt.subplots(nrows=1, ncols=1, figsize=(8, 6))\n",
        "plt.imshow(y_classe, cmap=cmap_classes2)\n",
        "ax.set_title(\"Carte d'occupation des sols avec la méthode Bayésienne naive\", fontsize=\"small\")\n",
        "plt.show()"
      ],
      "execution_count": null,
      "outputs": []
    },
    {
      "cell_type": "markdown",
      "metadata": {},
      "source": [
        "### Analyse Discriminante Quadratique (ADQ)\n",
        "\n",
        "L'analyse discriminante quadratique peut-être vue comme une généralisation de l'approche Bayésienne naive qui suppose des modèles Gaussiens indépendants pour chaque dimension et chaque point. Ici, on va considérer un modèle Gaussien multivarié."
      ]
    },
    {
      "cell_type": "code",
      "metadata": {},
      "source": [
        "qda = QuadraticDiscriminantAnalysis(store_covariance=True)\n",
        "qda.fit(X_train, y_train)\n",
        "y_pred = qda.predict(X_test)\n",
        "print(\"Nombre de points misclassifiés sur %d points : %d\"\n",
        "  % (X_test.shape[0], (y_test != y_pred).sum()))"
      ],
      "execution_count": null,
      "outputs": []
    },
    {
      "cell_type": "markdown",
      "metadata": {},
      "source": [
        "Les Gaussiennes multivariées peuvent être visualiser sous forme d'éllipses décrivant le domaine des valeurs de chaque classe:"
      ]
    },
    {
      "cell_type": "code",
      "metadata": {},
      "source": [
        "#| echo: false\n",
        "#| warning: false\n",
        "\n",
        "import matplotlib as mpl\n",
        "colors= [couleurs_classes[c] for c in np.unique(y).tolist()]\n",
        "def make_ellipses(gmm, bands, ax):\n",
        "    for n, color in enumerate(colors):\n",
        "        \n",
        "        covariances = gmm.covariance_[n][np.ix_(bands, bands)]\n",
        "        \n",
        "        v, w = np.linalg.eigh(covariances)\n",
        "        u = w[0] / np.linalg.norm(w[0])\n",
        "        angle = np.arctan2(u[1], u[0])\n",
        "        angle = 180 * angle / np.pi  # convert to degrees\n",
        "        v = 2.0 * np.sqrt(2.0) * np.sqrt(v)\n",
        "        #print(v)\n",
        "        ell = mpl.patches.Ellipse(\n",
        "            gmm.means_[n, :2], v[0], v[1], angle=180 + angle, color=color\n",
        "        )\n",
        "        ell.set_clip_box(ax.bbox)\n",
        "        ell.set_alpha(0.5)\n",
        "        ax.add_artist(ell)\n",
        "        ax.set_aspect(\"equal\", \"datalim\")\n",
        "\n",
        "plt.figure(figsize=(9, 3))\n",
        "#plt.subplots_adjust(\n",
        "#    bottom=0.01, top=0.95, hspace=0.15, wspace=0.05, left=0.01, right=0.99\n",
        "#)\n",
        "noms_bandes= ['Bleu','Vert','Rouge','NIR']\n",
        "for index, b in enumerate([0,1,3]):\n",
        "  h = plt.subplot(1, 3, index+1)\n",
        "  bands= [2,b]\n",
        "  make_ellipses(qda, bands, h)\n",
        "  for n, color in enumerate(colors):\n",
        "          data = X[y_new == n,...]\n",
        "          plt.scatter(\n",
        "              data[:, bands[0]], data[:, bands[1]], s=0.8, color=color\n",
        "          )\n",
        "  h.set_xlabel(noms_bandes[2], fontsize=\"small\")\n",
        "  h.set_ylabel(noms_bandes[b], fontsize=\"small\")"
      ],
      "execution_count": null,
      "outputs": []
    },
    {
      "cell_type": "markdown",
      "metadata": {},
      "source": [
        "De la même manière, la prédiction peut s'appliquer sur toute l'image:"
      ]
    },
    {
      "cell_type": "code",
      "metadata": {},
      "source": [
        "#| echo: false\n",
        "#| warning: false\n",
        "data_image= img_rgbnir.to_numpy().transpose(1,2,0).reshape(img_rgbnir.shape[1]*img_rgbnir.shape[2],4)\n",
        "y_classe= qda.predict(data_image)\n",
        "y_classe= y_classe.reshape(img_rgbnir.shape[1],img_rgbnir.shape[2])\n",
        "fig, ax = plt.subplots(nrows=1, ncols=1, figsize=(8, 6))\n",
        "plt.imshow(y_classe, cmap=cmap_classes2)\n",
        "ax.set_title(\"Carte d'occupation des sols avec la méthode ADQ\", fontsize=\"small\")\n",
        "plt.show()"
      ],
      "execution_count": null,
      "outputs": []
    },
    {
      "cell_type": "markdown",
      "metadata": {},
      "source": [
        "<!-- \n",
        "### Réseaux de neurones\n",
        "\n",
        "Les réseaux de neurones artificiels (RNA) ont connu un essor très important depuis les années 2010 avec des approches dites profondes. Ces aspects seront surtout abordés dans le tome 2 consacré à l'intelligence artificielle. On abordera ici seulement le perceptron simple et le perceptron multi-couches (MLP).\n",
        "\n",
        "Le perceptron est l'unité de base d'un RNA et consiste en N connections, une unité de calcul (le neurone) avec une fonction d'activation et une sortie. Le perceptron ne permet de construire que des frontières de décision linéaires.\n",
        "\n",
        "Le perceptron multi-couches est un réseau dense (*fully connected*) avec des couches cachées entre la couche d'entrée et la couche de sortie. qui permet de construire des frontières de décision beaucoup plus complexes via une hiérarchie de frontières de décision.\n",
        "\n",
        "Ces réseaux sont entraînés via des techniques itératives d'optimisation de type descente en gradient avec une correction des paramètres (les poids) à l'aide de la rétro-propagation de l'erreur. L'erreur est mesurée via une fonction de coût que l'on cherche à réduire.\n",
        "-->"
      ]
    }
  ],
  "metadata": {
    "kernelspec": {
      "display_name": "Python 3",
      "language": "python",
      "name": "python3"
    }
  },
  "nbformat": 4,
  "nbformat_minor": 4
}