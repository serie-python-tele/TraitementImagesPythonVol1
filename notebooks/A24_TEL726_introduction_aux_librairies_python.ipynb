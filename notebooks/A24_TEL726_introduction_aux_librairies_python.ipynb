{
  "cells": [
    {
      "cell_type": "markdown",
      "metadata": {
        "id": "hNBCdx2P1B2W"
      },
      "source": [
        "# 0. 🎯 Objectifs\n",
        "\n",
        "1. Introduction aux Notebook Python\n",
        "2. Introduction à RasterIO"
      ]
    },
    {
      "cell_type": "markdown",
      "metadata": {
        "id": "H2sJuf21Srht"
      },
      "source": [
        "***texte en gras***\n",
        "\n",
        "\n",
        "\n",
        "```\n",
        "# Ce texte est au format code\n",
        "```\n",
        "\n"
      ]
    },
    {
      "cell_type": "code",
      "execution_count": null,
      "metadata": {
        "id": "ZPV1Uv3XSbmU"
      },
      "outputs": [],
      "source": [
        "print('test')"
      ]
    },
    {
      "cell_type": "markdown",
      "metadata": {
        "id": "pLOlix79bRW1"
      },
      "source": [
        "# 0. Vérification de l'envirronement et installation de librairies"
      ]
    },
    {
      "cell_type": "code",
      "execution_count": null,
      "metadata": {
        "id": "aq6PBQRpandd"
      },
      "outputs": [],
      "source": [
        "!nvidia-smi\n",
        "!lscpu\n",
        "!lsb_release -a"
      ]
    },
    {
      "cell_type": "code",
      "execution_count": null,
      "metadata": {
        "id": "Wkn4DyufaQNm"
      },
      "outputs": [],
      "source": [
        "%%capture --no-stderr\n",
        "!pip3 -q install  rich typer[all] watermark rasterio\n",
        "from rich import pretty, print, inspect, traceback\n",
        "from rich.progress import track\n",
        "pretty.install()\n",
        "import logging\n",
        "from rich.logging import RichHandler\n",
        "\n",
        "FORMAT = \"%(message)s\"\n",
        "logging.basicConfig(level= logging.INFO, format=FORMAT, datefmt=\"[%X]\", handlers=[RichHandler(rich_tracebacks=True)],  # <- not sets rich_tracebacks\n",
        ")\n",
        "%load_ext watermark"
      ]
    },
    {
      "cell_type": "markdown",
      "metadata": {
        "id": "E4Dm52cCcuLi"
      },
      "source": [
        "Liste des commandes magiques: https://coderzcolumn.com/tutorials/python/list-of-useful-magic-commands-in-jupyter-notebook-lab"
      ]
    },
    {
      "cell_type": "code",
      "execution_count": null,
      "metadata": {
        "id": "HS8jwaVHdo_B"
      },
      "outputs": [],
      "source": [
        "%quickref"
      ]
    },
    {
      "cell_type": "markdown",
      "metadata": {
        "id": "azciHFD6cDRz"
      },
      "source": [
        "watermark est une commande magique pour vérifier l'installation des librairies"
      ]
    },
    {
      "cell_type": "code",
      "execution_count": null,
      "metadata": {
        "id": "IWQhtyLZbgTt"
      },
      "outputs": [],
      "source": [
        "%watermark?"
      ]
    },
    {
      "cell_type": "code",
      "execution_count": null,
      "metadata": {
        "id": "J56xz2ugauQ1"
      },
      "outputs": [],
      "source": [
        "from watermark import watermark\n",
        "print(watermark())"
      ]
    },
    {
      "cell_type": "code",
      "execution_count": null,
      "metadata": {
        "id": "nzCOsEuVbIcF"
      },
      "outputs": [],
      "source": [
        "%watermark -p gdal,rasterio,xarray,cv2"
      ]
    },
    {
      "cell_type": "markdown",
      "metadata": {
        "id": "6p0W8IdIeTaA"
      },
      "source": [
        "`%%` permet de changer la fonction de la cellule, par exemple pour passer à un shell:"
      ]
    },
    {
      "cell_type": "code",
      "execution_count": null,
      "metadata": {
        "id": "_Ck5G8VxeLkh"
      },
      "outputs": [],
      "source": [
        "%%bash\n",
        "ls -l\n",
        "pwd"
      ]
    },
    {
      "cell_type": "markdown",
      "metadata": {
        "id": "nuI_fA6ZdOOz"
      },
      "source": [
        "Le `!` permet d'exécuter des commandes Linux directement.\n",
        "\n",
        "Installation de librairies Linux supplémentaires:"
      ]
    },
    {
      "cell_type": "code",
      "execution_count": null,
      "metadata": {
        "id": "rBxHKR5Xc_kD"
      },
      "outputs": [],
      "source": [
        "!apt install tree"
      ]
    },
    {
      "cell_type": "code",
      "execution_count": null,
      "metadata": {
        "id": "1-0qUac_dGDq"
      },
      "outputs": [],
      "source": [
        "!tree"
      ]
    },
    {
      "cell_type": "markdown",
      "metadata": {
        "id": "_Dd7bJWVE56H"
      },
      "source": [
        "# 1. Lecture des images\n",
        "Les deux librairies principales pour lire des images sont:\n",
        "* GDAL\n",
        "* RasterIO (basé sur GDAL)\n",
        "\n",
        "Téléchargement d'une image Ikonos:"
      ]
    },
    {
      "cell_type": "code",
      "execution_count": null,
      "metadata": {
        "id": "VY9lpfKcXCpq"
      },
      "outputs": [],
      "source": [
        "#https://drive.google.com/file/d/1_r4etnljaDbF42zNWp_3X0hL6xS5hzaH/view?usp=sharing\n",
        "#import gdown\n",
        "#gdown.download(\n",
        "#        f\"https://drive.google.com/uc?export=download&confirm=pbef&id=1_r4etnljaDbF42zNWp_3X0hL6xS5hzaH\",\n",
        "#        '/content/Boston.zip'\n",
        "#    )\n",
        "#!unzip -oq /content/Boston.zip -d /content\n",
        "#img_name = '/content/054947080020_01/054947080020_01_P001_PSH/15SEP16155020-S2AS-054947080020_01_P001.TIF'"
      ]
    },
    {
      "cell_type": "markdown",
      "metadata": {
        "id": "8OQrPkpT02s_"
      },
      "source": [
        "Il y a la possibilité aussi de monter votre Google Drive:"
      ]
    },
    {
      "cell_type": "code",
      "execution_count": null,
      "metadata": {
        "id": "59hcvVtU00Vo"
      },
      "outputs": [],
      "source": [
        "# This mounts your Google Drive to the Colab VM.\n",
        "#from google.colab import drive\n",
        "#drive.mount('/content/drive')\n"
      ]
    },
    {
      "cell_type": "markdown",
      "metadata": {
        "id": "nmVXKR0KYqMX"
      },
      "source": [
        "## 1.1 Commandes de base de GDAL\n",
        "\n",
        "La librairie GDAL vient avec une collection de commandes:\n",
        "https://gdal.org/programs/index.html\n"
      ]
    },
    {
      "cell_type": "code",
      "execution_count": null,
      "metadata": {
        "id": "5Tz7nlUzZWzf"
      },
      "outputs": [],
      "source": [
        "!apt-get update\n",
        "!apt-get install gdal-bin libgdal-dev"
      ]
    },
    {
      "cell_type": "markdown",
      "metadata": {
        "id": "6OMEGnujU-Nu"
      },
      "source": [
        "gdalinfo permet d'avoir de l'information sur une image\n",
        "\n",
        "🔖 __ — via [gdalinfo — GDAL documentation](https://gdal.org/en/latest/programs/gdalinfo.html)"
      ]
    },
    {
      "cell_type": "code",
      "execution_count": null,
      "metadata": {
        "id": "eOVrelS1YjhP"
      },
      "outputs": [],
      "source": [
        "!gdalinfo --help"
      ]
    },
    {
      "cell_type": "markdown",
      "metadata": {
        "id": "CAyFiBp7VHJh"
      },
      "source": [
        "On peut utiliser une variable python dans une commande avec le symbole $"
      ]
    },
    {
      "cell_type": "code",
      "execution_count": null,
      "metadata": {
        "id": "FIVhUHnGYwpP"
      },
      "outputs": [],
      "source": [
        "img_name = '/content/054947080020_01/054947080020_01_P001_PSH/15SEP16155020-S2AS-054947080020_01_P001.TIF'\n",
        "!gdalinfo $img_name # rajouter $ pour appeler une variable locale"
      ]
    },
    {
      "cell_type": "markdown",
      "metadata": {
        "id": "CmHhPLGeiHq4"
      },
      "source": [
        "On peut calculer des statistiques :"
      ]
    },
    {
      "cell_type": "code",
      "execution_count": null,
      "metadata": {
        "id": "ax5LfyAKhzOT"
      },
      "outputs": [],
      "source": [
        "!gdalinfo -stats -nogcp $img_name"
      ]
    },
    {
      "cell_type": "markdown",
      "metadata": {
        "id": "yreTEAFSUwft"
      },
      "source": [
        "Le *no data* permet de masquer les valeurs non valides.\n",
        "\n",
        "On peut fixer la valeur de *no data* via la commande gdalwarp\n",
        "\n",
        "🔖 __ — via [gdalwarp — GDAL documentation](https://gdal.org/en/latest/programs/gdalwarp.html)\n",
        "\n"
      ]
    },
    {
      "cell_type": "code",
      "execution_count": null,
      "metadata": {
        "id": "W657KNMoKPmt"
      },
      "outputs": [],
      "source": [
        "!gdalwarp -dstnodata 0 $img_name /content/output.tif"
      ]
    },
    {
      "cell_type": "code",
      "execution_count": null,
      "metadata": {
        "id": "6T24LWQ2KdZs"
      },
      "outputs": [],
      "source": [
        "!gdalinfo /content/output.tif\n",
        "#img_name= '/content/output.tif'"
      ]
    },
    {
      "cell_type": "code",
      "execution_count": null,
      "metadata": {
        "id": "8QQ4ALw4OQLj"
      },
      "outputs": [],
      "source": [
        "!gdalinfo -stats -nogcp /content/output.tif"
      ]
    },
    {
      "cell_type": "markdown",
      "metadata": {
        "id": "aEAIRojZYNP7"
      },
      "source": [
        "GDAL vient aussi avec des scripts python:"
      ]
    },
    {
      "cell_type": "code",
      "execution_count": null,
      "metadata": {
        "id": "iKgvcsqzMZkn"
      },
      "outputs": [],
      "source": [
        "%run  /usr/bin/gdal_calc.py"
      ]
    },
    {
      "cell_type": "markdown",
      "metadata": {
        "id": "7B6bItwWimx8"
      },
      "source": [
        "Une opération courante est de changer de dynamique radiométrique, par exemple une onversion en 8 bit :"
      ]
    },
    {
      "cell_type": "code",
      "execution_count": null,
      "metadata": {
        "id": "dC2_v8RRJ9Xl"
      },
      "outputs": [],
      "source": [
        "#img_name = '/content/054947080020_01/054947080020_01_P001_PSH/15SEP16155020-S2AS-054947080020_01_P001.TIF'\n",
        "img_name = '/content/output.tif'\n",
        "%run  /usr/bin/gdal_calc.py -A $img_name --outfile=/content/output_8bit.tif --allBands=A --overwrite --type=Byte --calc=\"(A-A.min())/(A.max()-A.min())*254+1\" --NoDataValue=0\n",
        "img_name = '/content/output_8bit.tif'"
      ]
    },
    {
      "cell_type": "code",
      "execution_count": null,
      "metadata": {
        "id": "b6w3CezCMqSK"
      },
      "outputs": [],
      "source": [
        "!gdalinfo -stats -nogcp /content/output_8bit.tif"
      ]
    },
    {
      "cell_type": "markdown",
      "metadata": {
        "id": "AwHYPPWpe7Uo"
      },
      "source": [
        "Il y a d'autres programmes très utiles comme [gdal_translate](https://gdal.org/programs/gdal_translate.html#gdal-translate)"
      ]
    },
    {
      "cell_type": "markdown",
      "metadata": {
        "id": "tkOf2LPCcgfL"
      },
      "source": [
        "### API Python de gdal (obsolète):"
      ]
    },
    {
      "cell_type": "code",
      "execution_count": null,
      "metadata": {
        "id": "BdIEXmYNXVKQ"
      },
      "outputs": [],
      "source": [
        "import gdal, osr\n",
        "\n",
        "ds = gdal.Open(img_name, gdal.GA_ReadOnly)\n",
        "assert ds is not None, f\"File not found: {img_name}\"\n"
      ]
    },
    {
      "cell_type": "markdown",
      "metadata": {
        "id": "S05czVmNpx4V"
      },
      "source": [
        "Vous pouvez afficher les méthodes de l'objet:"
      ]
    },
    {
      "cell_type": "code",
      "execution_count": null,
      "metadata": {
        "id": "YME4GmA4d7BI"
      },
      "outputs": [],
      "source": [
        "type(ds)"
      ]
    },
    {
      "cell_type": "code",
      "execution_count": null,
      "metadata": {
        "id": "65lYQrIVqOgm"
      },
      "outputs": [],
      "source": [
        "dir(ds)"
      ]
    },
    {
      "cell_type": "code",
      "execution_count": null,
      "metadata": {
        "id": "HqvUrUE1pnpf"
      },
      "outputs": [],
      "source": [
        "inspect(ds, methods=True)"
      ]
    },
    {
      "cell_type": "code",
      "execution_count": null,
      "metadata": {
        "id": "XYA92cbrp4P8"
      },
      "outputs": [],
      "source": [
        "inspect(ds, all=True)"
      ]
    },
    {
      "cell_type": "markdown",
      "metadata": {
        "id": "s_-yn5fdpgBm"
      },
      "source": [
        "On peut vérifier la taille de l'image:"
      ]
    },
    {
      "cell_type": "code",
      "execution_count": null,
      "metadata": {
        "id": "_OMsmTBMpaaG"
      },
      "outputs": [],
      "source": [
        "print(\"Size is {} x {} x {}\".format(ds.RasterXSize,\n",
        "                                    ds.RasterYSize,\n",
        "                                    ds.RasterCount))"
      ]
    },
    {
      "cell_type": "markdown",
      "metadata": {
        "id": "F8kelWwBkXB8"
      },
      "source": [
        "Obtenir la projection du raster et imprimer son code EPSG:"
      ]
    },
    {
      "cell_type": "code",
      "execution_count": null,
      "metadata": {
        "id": "QdI6bjpUkR3a"
      },
      "outputs": [],
      "source": [
        "prj=ds.GetProjection()\n",
        "srs=osr.SpatialReference(wkt=prj)\n",
        "epsg_code= srs.GetAttrValue('authority', 1)\n",
        "print (\"EPSG code: \", epsg_code)\n",
        "print(f'https://epsg.io/?q={epsg_code}')"
      ]
    },
    {
      "cell_type": "code",
      "execution_count": null,
      "metadata": {
        "id": "rb3rUnm7ktoq"
      },
      "outputs": [],
      "source": [
        "## using GetGeoTransform we can get the upper left X and upper left y coordinates\n",
        "ulx, xres, xskew, uly, yskew, yres  = ds.GetGeoTransform()"
      ]
    },
    {
      "cell_type": "code",
      "execution_count": null,
      "metadata": {
        "id": "8t3gvPChkvjs"
      },
      "outputs": [],
      "source": [
        " ## Calculate lower right x and lower right y we have the coordinates to build a polygon\n",
        "## these values will be returned and be inputs into build bounds\n",
        "lrx = ulx + (ds.RasterXSize * xres)\n",
        "lry = uly + (ds.RasterYSize * yres)"
      ]
    },
    {
      "cell_type": "code",
      "execution_count": null,
      "metadata": {
        "id": "z8jMzPJDk25K"
      },
      "outputs": [],
      "source": [
        "## rows and columns of the imagery (if needed)\n",
        "cols = ds.RasterXSize\n",
        "rows = ds.RasterYSize"
      ]
    },
    {
      "cell_type": "code",
      "execution_count": null,
      "metadata": {
        "id": "_sADoJYdk7oy"
      },
      "outputs": [],
      "source": [
        "## print it all out to command line\n",
        "print (\"Number of columns: \" + str(cols))\n",
        "print (\"Number of rows: \" + str(rows))"
      ]
    },
    {
      "cell_type": "code",
      "execution_count": null,
      "metadata": {
        "id": "A9dGHysMlIXr"
      },
      "outputs": [],
      "source": [
        "print (\"___\")\n",
        "print (\"upper left x, upper left y, lower right x, lower right y:\")\n",
        "print (ulx)\n",
        "print (uly)\n",
        "print (lrx)\n",
        "print (lry)"
      ]
    },
    {
      "cell_type": "code",
      "execution_count": null,
      "metadata": {
        "id": "JEMq6QPClO2U"
      },
      "outputs": [],
      "source": [
        "coords = [(ulx,lry), (ulx,uly), (lrx,uly), (lrx,lry)]\n",
        "print(\"coords\")\n",
        "print(coords)"
      ]
    },
    {
      "cell_type": "markdown",
      "metadata": {
        "id": "brJG0Kv20lfH"
      },
      "source": [
        "Conversion vers une matrice de type `numpy.ndarray`:"
      ]
    },
    {
      "cell_type": "code",
      "execution_count": null,
      "metadata": {
        "id": "5qSGUkqGoll3"
      },
      "outputs": [],
      "source": [
        "import numpy as np\n",
        "image = []\n",
        "target_bands= [1,2,3] # Dans GDAL les bandes commencent à 1\n",
        "for channel in target_bands:\n",
        "    image_arr = ds.GetRasterBand(channel).ReadAsArray()\n",
        "    nodatavalue= ds.GetRasterBand(channel).GetNoDataValue()\n",
        "    assert image_arr is not None, f\"Band not found: {channel}\"\n",
        "    image.append(image_arr)\n",
        "image = np.dstack(image) # transform la liste de matrices en une matrice 3d\n",
        "ds = None # c'est important de libérer le fichier une fois utilisé"
      ]
    },
    {
      "cell_type": "code",
      "execution_count": null,
      "metadata": {
        "id": "GCl_2XrvfUOk"
      },
      "outputs": [],
      "source": [
        "type(image)"
      ]
    },
    {
      "cell_type": "code",
      "execution_count": null,
      "metadata": {
        "id": "6HFgyLIGqhhe"
      },
      "outputs": [],
      "source": [
        "print(image.shape)\n",
        "print(image.dtype)"
      ]
    },
    {
      "cell_type": "markdown",
      "metadata": {
        "id": "bRbzLeIApCz5"
      },
      "source": [
        "## 1.2 RasterIO\n",
        "\n",
        "RasterIO emballe GDAL et est plus facile à utiliser.\n",
        "\n",
        "La librairie Rasterio offre de nombreuses fonctionnalités pour manipuler des données raster géospatiales en Python. Voici un aperçu de ses principales capacités :\n",
        "\n",
        "### Lecture et écriture de données raster\n",
        "\n",
        "- Lecture et écriture de nombreux formats de fichiers raster géospatiaux (GeoTIFF, NetCDF, JPEG2000, etc.)[1][2]\n",
        "- Accès aux métadonnées des fichiers raster (système de coordonnées, emprise, résolution, etc.)[1]\n",
        "- Lecture et écriture de bandes individuelles ou multiples[5]\n",
        "- Support de la lecture/écriture par fenêtres (portions du raster)[5]\n",
        "\n",
        "### Manipulation des données\n",
        "\n",
        "- Conversion des données raster en tableaux NumPy pour faciliter les traitements[1][2]\n",
        "- Rééchantillonnage et reprojection des données[1]\n",
        "- Extraction de formes vectorielles à partir de données raster[3]\n",
        "- Calcul de statistiques sur les données raster[4]\n",
        "\n",
        "### Géoréférencement\n",
        "\n",
        "- Gestion des systèmes de coordonnées et transformations[1]\n",
        "- Conversion entre coordonnées image (lignes/colonnes) et coordonnées géographiques[1]\n",
        "\n",
        "### Fonctionnalités avancées\n",
        "\n",
        "- Support de la lecture/écriture de fichiers volumineux grâce à l'accès par fenêtres[5]\n",
        "- Intégration avec d'autres bibliothèques scientifiques Python comme NumPy, SciPy, etc.[2]\n",
        "- Interface en ligne de commande \"rio\" pour certaines opérations courantes[2]\n",
        "\n",
        "### Performance\n",
        "\n",
        "- Lecture/écriture rapide et efficace des données raster[2]\n",
        "- Optimisations pour le traitement de grands volumes de données[5]\n",
        "\n",
        "Rasterio s'appuie sur la bibliothèque GDAL pour la prise en charge des formats, tout en fournissant une API Python plus intuitive et plus facile à utiliser pour les développeurs Python[1][2]. Elle est largement utilisée dans le domaine de la géomatique et de la télédétection pour le traitement de données raster géospatiales.\n",
        "\n",
        "**Références**:\n",
        "\n",
        "[1] https://rasterio.readthedocs.io/en/stable/\n",
        "\n",
        "[2] https://pypi.org/project/rasterio/1.3.0.post1/\n",
        "\n",
        "[3] https://rasterio.readthedocs.io/en/latest/api/rasterio.features.html\n",
        "\n",
        "[4] https://briques-de-geomatique.readthedocs.io/fr/latest/logiciels-outils.html\n",
        "\n",
        "[5] https://rasterio.readthedocs.io/en/stable/topics/reading.html\n",
        "\n",
        "[6] https://briques-de-geomatique.readthedocs.io/fr/latest/format-donnees-import.html\n",
        "\n",
        "[7] https://rasterio.readthedocs.io/en/stable/quickstart.html\n",
        "\n",
        "[8] https://rasterio.readthedocs.io/en/stable/installation.html"
      ]
    },
    {
      "cell_type": "code",
      "execution_count": null,
      "metadata": {
        "id": "-HUa9pCoEq83"
      },
      "outputs": [],
      "source": [
        "import rasterio\n",
        "img_name = '/content/output_8bit.tif'\n",
        "with rasterio.open(img_name) as src:\n",
        "  print('CRS:',src.crs)\n",
        "  print('WKT:',src.crs.to_wkt())\n",
        "  meta = src.meta\n",
        "  print('nodata: ',src.nodatavals)\n",
        "  print('meta: ',meta)\n",
        "  types= {i: dtype for i, dtype in zip(src.indexes, src.dtypes)}\n",
        "  print(types)"
      ]
    },
    {
      "cell_type": "markdown",
      "metadata": {
        "id": "ti35JoE1Wqa7"
      },
      "source": [
        "`rio info` permet d'obtenir de l'information sur l'image:"
      ]
    },
    {
      "cell_type": "code",
      "execution_count": null,
      "metadata": {
        "id": "51KmfhtpaYsm"
      },
      "outputs": [],
      "source": [
        "info = !rio info --indent 2 $img_name"
      ]
    },
    {
      "cell_type": "code",
      "execution_count": null,
      "metadata": {
        "id": "Dt-nmapRae93"
      },
      "outputs": [],
      "source": [
        "print('\\n'.join(info))"
      ]
    },
    {
      "cell_type": "code",
      "execution_count": null,
      "metadata": {
        "id": "y1WWJGlJgHNM"
      },
      "outputs": [],
      "source": [
        "!rio info --indent 2 $img_name"
      ]
    },
    {
      "cell_type": "markdown",
      "metadata": {
        "id": "vtRfuEV23GJz"
      },
      "source": [
        "Certains logiciels de traitement d'images en python organisent les tableaux différemment de rasterio. L'interprétation d'un tableau à 3 dimensions lu par rasterio est la suivante `(bands, rows, columns)`.\n",
        "\n",
        "Tandis que les logiciels de traitement d'images comme `scikit-image`, `pillow` et matplotlib sont généralement commandés `(rows, columns, bands)`."
      ]
    },
    {
      "cell_type": "code",
      "execution_count": null,
      "metadata": {
        "id": "99SBZksB2eSO"
      },
      "outputs": [],
      "source": [
        "import rasterio\n",
        "from rasterio.plot import reshape_as_raster, reshape_as_image\n",
        "with rasterio.open(img_name) as src:\n",
        "  raster = src.read()\n",
        "  print('raster shape: ',raster.shape)\n",
        "\n",
        "  image = reshape_as_image(raster)\n",
        "  print('image shape: ',image.shape)\n",
        "\n",
        "  raster2 = reshape_as_raster(image)\n",
        "  print('raster shape: ',raster2.shape)"
      ]
    },
    {
      "cell_type": "markdown",
      "metadata": {
        "id": "B-6M0Kt8XTGO"
      },
      "source": [
        "On peut visualiser avec matplotlib, observez le système de coordonnées:"
      ]
    },
    {
      "cell_type": "code",
      "execution_count": null,
      "metadata": {
        "id": "0OSjYI4bVzcW"
      },
      "outputs": [],
      "source": [
        "import matplotlib.pyplot as plt\n",
        "plt.imshow?"
      ]
    },
    {
      "cell_type": "code",
      "execution_count": null,
      "metadata": {
        "id": "eBaKvhT3tEKa"
      },
      "outputs": [],
      "source": [
        "import rasterio\n",
        "import matplotlib.pyplot as plt\n",
        "with rasterio.open(img_name) as src:\n",
        "  plt.imshow(src.read(1), cmap='pink')"
      ]
    },
    {
      "cell_type": "code",
      "execution_count": null,
      "metadata": {
        "id": "3mIlWktaGjGs"
      },
      "outputs": [],
      "source": [
        "\n",
        "from rasterio.plot import show\n",
        "with rasterio.open(img_name) as src:\n",
        "  show(src)"
      ]
    },
    {
      "cell_type": "markdown",
      "metadata": {
        "id": "jE6Xh_DuanS_"
      },
      "source": [
        "Consultons l'histogramme des 3 bandes:"
      ]
    },
    {
      "cell_type": "code",
      "execution_count": null,
      "metadata": {
        "id": "LpZmAIMmuUSG"
      },
      "outputs": [],
      "source": [
        "from rasterio.plot import show_hist\n",
        "\n",
        "img_name = '/content/054947080020_01/054947080020_01_P001_PSH/15SEP16155020-S2AS-054947080020_01_P001.TIF'\n",
        "#img_name = '/content/output_8bit.tif'\n",
        "with rasterio.open(img_name) as src:\n",
        "  show_hist(\n",
        "      src, bins=50, lw=0.0, stacked=False, alpha=0.3,\n",
        "      histtype='stepfilled', title=\"Histogram\")"
      ]
    },
    {
      "cell_type": "markdown",
      "metadata": {
        "id": "m9sRji8EbBnr"
      },
      "source": [
        "Vous aurez de la difficulté à visualiser en 16 bit:"
      ]
    },
    {
      "cell_type": "code",
      "execution_count": null,
      "metadata": {
        "id": "KMI10_CtEOCV"
      },
      "outputs": [],
      "source": [
        "img_name = '/content/054947080020_01/054947080020_01_P001_PSH/15SEP16155020-S2AS-054947080020_01_P001.TIF'\n",
        "#img_name = '/content/output_8bit.tif'\n",
        "fig, ax = plt.subplots(figsize=(27,27))\n",
        "from rasterio.plot import show\n",
        "with rasterio.open(img_name) as src:\n",
        "  show(src.read([1,2,3]),transform=src.transform)"
      ]
    },
    {
      "cell_type": "markdown",
      "metadata": {
        "id": "TsElx2bxYWbl"
      },
      "source": [
        "### Visualisation du masque no-data"
      ]
    },
    {
      "cell_type": "code",
      "execution_count": null,
      "metadata": {
        "id": "R80bnBAVurqN"
      },
      "outputs": [],
      "source": [
        "img_name = '/content/054947080020_01/054947080020_01_P001_PSH/15SEP16155020-S2AS-054947080020_01_P001.TIF'\n",
        "#img_name = '/content/output_8bit.tif'\n",
        "with rasterio.open(img_name) as src:\n",
        "  msk = src.read_masks(1)\n",
        "  plt.imshow(msk)"
      ]
    },
    {
      "cell_type": "markdown",
      "metadata": {
        "id": "Yhk9_rJ0SX1i"
      },
      "source": [
        "### Visualisation et passage en 8bit avec numpy:"
      ]
    },
    {
      "cell_type": "code",
      "execution_count": null,
      "metadata": {
        "id": "3btJ7ZpQOx1u"
      },
      "outputs": [],
      "source": [
        "img_name = '/content/054947080020_01/054947080020_01_P001_PSH/15SEP16155020-S2AS-054947080020_01_P001.TIF'\n",
        "import numpy as np\n",
        "import rasterio\n",
        "import matplotlib.pyplot as plt\n",
        "with rasterio.open(img_name) as src:\n",
        "  img = src.read()\n",
        "  print(img.shape)\n",
        "  img = np.swapaxes(img, 0, 2) # il faut mettre la dimension des bandes en dernier\n",
        "  print(img.shape)\n",
        "  print(np.max(img))\n",
        "  img = 1+254 * (img / float(np.max(img))) # scaling des valeurs entre 0 et 255\n",
        "  plt.figure(figsize=(10,10))\n",
        "  plt.imshow(img.astype(np.uint8))"
      ]
    },
    {
      "cell_type": "markdown",
      "metadata": {
        "id": "qlfK_L5lUhwn"
      },
      "source": [
        "# 2. Égalisation d'histogramme\n",
        "\n",
        "L'égalisation d'histogramme est une technique importante en traitement d'image pour améliorer le contraste global d'une image. Voici les principes clés de cette méthode :\n",
        "\n",
        "### Principe de base\n",
        "\n",
        "L'égalisation d'histogramme vise à redistribuer les intensités des pixels d'une image de manière plus uniforme sur toute la plage de valeurs disponibles[1][6]. L'objectif est d'obtenir un histogramme plus équilibré, ce qui se traduit généralement par une amélioration du contraste de l'image.\n",
        "\n",
        "### Étapes du processus\n",
        "\n",
        "1. **Calcul de l'histogramme initial** : On détermine la distribution des intensités de pixels dans l'image d'origine.\n",
        "\n",
        "2. **Calcul de l'histogramme cumulé** : On calcule l'histogramme cumulé, qui comptabilise pour chaque niveau de gris le nombre total de pixels ayant une intensité inférieure ou égale[4].\n",
        "\n",
        "3. **Transformation des intensités** : On applique une fonction de transformation non linéaire basée sur l'histogramme cumulé pour modifier les intensités des pixels[1].\n",
        "\n",
        "4. **Redistribution des intensités** : Les nouvelles intensités sont réparties sur toute la plage disponible, généralement de 0 à 255 pour une image en niveaux de gris 8 bits[1].\n",
        "\n",
        "### Effets sur l'image\n",
        "\n",
        "- **Amélioration du contraste** : L'égalisation d'histogramme augmente le contraste global de l'image, en particulier pour les images à faible contraste initial[8].\n",
        "\n",
        "- **Étalement de la dynamique** : Les valeurs d'intensité sont étalées sur toute la plage disponible, ce qui peut faire ressortir des détails auparavant peu visibles[3].\n",
        "\n",
        "- **Uniformisation de la distribution** : L'histogramme résultant tend vers une distribution plus uniforme, bien que parfaitement plate en pratique[2].\n",
        "\n",
        "### Considérations importantes\n",
        "\n",
        "- Cette technique est particulièrement efficace pour les images sombres ou à faible contraste.\n",
        "- Elle peut parfois produire des résultats peu naturels ou exagérer le bruit dans certaines images.\n",
        "- Pour les images couleur, l'égalisation est généralement appliquée sur la composante de luminance uniquement.\n",
        "\n",
        "En résumé, l'égalisation d'histogramme est une méthode puissante pour améliorer automatiquement le contraste d'une image en redistribuant ses intensités de manière plus uniforme, ce qui peut révéler des détails auparavant difficiles à percevoir.\n",
        "\n",
        "**Références**:\n",
        "\n",
        "[1] https://fortierq.github.io/nb/hist_equal/\n",
        "\n",
        "[2] https://perso.esiee.fr/~perretb/I5FM/TAI/histogramme/index.html\n",
        "\n",
        "[3] http://bnazarian.free.fr/MyUploads/IN_GBM_03_PRE_TRAITEMENTS.PDF\n",
        "\n",
        "[4] http://ressources.unit.eu/cours/videocommunication/UNIT_Image%20Processing_nantes/Version%20FR/Chapitre%202/Ressources/Transformation%20d'histogramme/Rchap2_TransfoHisto_FR%5Bfinal%5D.pdf\n",
        "\n",
        "[5] http://www.normalesup.org/~pmaurel/IMA/CM/ima01_intro_imprimable.pdf\n",
        "\n",
        "[6] https://fr.wikipedia.org/wiki/Histogramme_(imagerie_num%C3%A9rique)\n",
        "\n",
        "[7] http://w4.uqo.ca/iglewski/ens/inf4173/2009h/Lariviere_final.pdf\n",
        "\n",
        "[8] https://fastercapital.com/fr/contenu/Egalisation-de-l-histogramme---equilibre---amelioration-des-images-grace-a-l-egalisation-de-l-histogramme.html\n",
        "\n",
        "![](https://upload.wikimedia.org/wikipedia/commons/c/ca/Histogrammeinebnung.png)"
      ]
    },
    {
      "cell_type": "code",
      "execution_count": null,
      "metadata": {
        "id": "ocbZORnqSWjF"
      },
      "outputs": [],
      "source": [
        "def image_histogram_equalisation(image):\n",
        "    # get image histogram\n",
        "    image_histogram, bins = np.histogram(image.flatten(), 256, normed=True)\n",
        "    cdf = image_histogram.cumsum() # cumulative distribution function\n",
        "    cdf = (255-1) * cdf / cdf[-1] # normalize\n",
        "    # use linear interpolation of cdf to find new pixel values\n",
        "    image_equalized = np.interp(image.flatten(), bins[:-1], cdf)\n",
        "\n",
        "    return image_equalized.reshape(image.shape).astype('uint8')\n"
      ]
    },
    {
      "cell_type": "code",
      "execution_count": null,
      "metadata": {
        "id": "MzrilRcWVegj"
      },
      "outputs": [],
      "source": [
        "img_he = image_histogram_equalisation(img[:,:,::-1])"
      ]
    },
    {
      "cell_type": "code",
      "execution_count": null,
      "metadata": {
        "id": "fAjezbmYTg9D"
      },
      "outputs": [],
      "source": [
        "plt.figure(figsize=(10,10))\n",
        "plt.imshow(img_he)"
      ]
    },
    {
      "cell_type": "code",
      "execution_count": null,
      "metadata": {
        "id": "1mkkwOGbd7-j"
      },
      "outputs": [],
      "source": [
        "import numpy as np\n",
        "import rasterio\n",
        "from scipy.stats import norm\n",
        "\n",
        "def gaussian_cdf(size=256):\n",
        "    x = np.linspace(-3, 3, size)\n",
        "    y = norm.cdf(x)\n",
        "    return y\n",
        "\n",
        "def cdf(im):\n",
        "    \"\"\"\n",
        "    Computes the CDF of an image\n",
        "    \"\"\"\n",
        "    hist, _ = np.histogram(im.flatten(), 256, [0, 256])\n",
        "    cdf = hist.cumsum()\n",
        "    return cdf / cdf[-1]\n",
        "\n",
        "def hist_matching(c, c_t, im):\n",
        "    \"\"\"\n",
        "    c: CDF of input image\n",
        "    c_t: CDF of template (Gaussian in this case)\n",
        "    im: input image\n",
        "    \"\"\"\n",
        "    pixels = np.arange(256)\n",
        "    new_pixels = np.interp(c, c_t, pixels)\n",
        "    return new_pixels[im].astype(np.uint8)\n",
        "\n",
        "\n",
        "# Generate Gaussian CDF\n",
        "gaussian_cumulative = gaussian_cdf()\n",
        "\n",
        "img_name = '/content/output_8bit.tif'\n",
        "import numpy as np\n",
        "import rasterio\n",
        "import matplotlib.pyplot as plt\n",
        "with rasterio.open(img_name) as src:\n",
        "  image = src.read(1)\n",
        "  profile = src.profile\n",
        "  # Compute CDF of the input image\n",
        "  image_cumulative = cdf(image)\n",
        "\n",
        "  # Perform histogram matching\n",
        "  matched = hist_matching(image_cumulative, gaussian_cumulative, image)\n",
        "\n",
        "# Write the result\n",
        "profile.update(dtype=rasterio.uint8, count=1)\n",
        "with rasterio.open('output_image.tif', 'w', **profile) as dst:\n",
        "    dst.write(matched, 1)\n",
        "\n",
        "print(\"Histogram matching completed. Output saved as 'output_image.tif'\")"
      ]
    },
    {
      "cell_type": "code",
      "execution_count": null,
      "metadata": {
        "id": "cElhxHs4eppZ"
      },
      "outputs": [],
      "source": [
        "plt.figure(figsize=(10,10))\n",
        "plt.imshow(matched)"
      ]
    },
    {
      "cell_type": "code",
      "execution_count": null,
      "metadata": {
        "id": "wfTK4UxDWlk-"
      },
      "outputs": [],
      "source": []
    },
    {
      "cell_type": "markdown",
      "metadata": {
        "id": "y0-KuHsMY97K"
      },
      "source": [
        "# 3. K-means Classification"
      ]
    },
    {
      "cell_type": "code",
      "execution_count": null,
      "metadata": {
        "id": "PnAc-aHfZlTy"
      },
      "outputs": [],
      "source": [
        "from sklearn.cluster import KMeans\n",
        "#import gdal\n",
        "import numpy as np"
      ]
    },
    {
      "cell_type": "code",
      "execution_count": null,
      "metadata": {
        "id": "2F_KdBc3AL4P"
      },
      "outputs": [],
      "source": [
        "help(KMeans)"
      ]
    },
    {
      "cell_type": "code",
      "execution_count": null,
      "metadata": {
        "id": "evO0lUY0Zq85"
      },
      "outputs": [],
      "source": [
        "img_he= img.reshape((img.shape[0]*img.shape[1],img.shape[2]))\n",
        "print(img_he.shape)"
      ]
    },
    {
      "cell_type": "code",
      "execution_count": null,
      "metadata": {
        "id": "mMcHU_gXbDsg"
      },
      "outputs": [],
      "source": [
        "%timeit\n",
        "km = KMeans(n_clusters=7)\n",
        "km.fit(img_he)\n",
        "km.predict(img_he)"
      ]
    },
    {
      "cell_type": "code",
      "execution_count": null,
      "metadata": {
        "id": "aaGPKuDgbLF5"
      },
      "outputs": [],
      "source": [
        "out_dat = km.labels_.reshape((img.shape[0], img.shape[1]))"
      ]
    },
    {
      "cell_type": "code",
      "execution_count": null,
      "metadata": {
        "id": "4RRHOVdDd9xl"
      },
      "outputs": [],
      "source": [
        "plt.figure(figsize=(10,10))\n",
        "plt.imshow(out_dat)"
      ]
    },
    {
      "cell_type": "code",
      "execution_count": null,
      "metadata": {
        "id": "YItJHBcaeujd"
      },
      "outputs": [],
      "source": [
        "with rasterio.open(img_name) as src:\n",
        "  print('CRS:',src.crs)\n",
        "  with rasterio.open(\n",
        "      '/content/new.tif',\n",
        "      'w',\n",
        "      driver='GTiff',\n",
        "      height=out_dat.shape[0],\n",
        "      width=out_dat.shape[1],\n",
        "      count=1,\n",
        "      dtype=out_dat.dtype,\n",
        "      crs=src.crs,\n",
        "      transform=src.transform,\n",
        "  ) as dst_ds:\n",
        "    dst_ds.write(out_dat, 1)"
      ]
    },
    {
      "cell_type": "markdown",
      "metadata": {
        "id": "VwuPfAxZneZv"
      },
      "source": [
        "Sauvegarde du fichier:"
      ]
    },
    {
      "cell_type": "code",
      "execution_count": null,
      "metadata": {
        "id": "dd08jwMpmimZ"
      },
      "outputs": [],
      "source": [
        "with gdal.Open(img_name, gdal.GA_ReadOnly) as gdst:\n",
        "  driverTiff = gdal.GetDriverByName('GTiff')\n",
        "  clfds = driverTiff.Create('/content/classified.tif', gdst.RasterXSize, gdst.RasterYSize, 1, gdal.GDT_Float32)\n",
        "  clfds.SetGeoTransform(gdst.GetGeoTransform())\n",
        "  clfds.SetProjection(gdst.GetProjection())\n",
        "  clfds.GetRasterBand(1).SetNoDataValue(255)\n",
        "  clfds.GetRasterBand(1).WriteArray(out_dat)\n",
        "  clfds = None"
      ]
    },
    {
      "cell_type": "code",
      "execution_count": null,
      "metadata": {
        "id": "OWZWPe_YnxiG"
      },
      "outputs": [],
      "source": [
        "with rasterio.open('/content/classified.tif') as src:\n",
        "  show(src)"
      ]
    },
    {
      "cell_type": "code",
      "execution_count": null,
      "metadata": {
        "id": "5BJuBtTWWoGA"
      },
      "outputs": [],
      "source": [
        "!wget https://github.com/sfoucher/TraitementImagesPythonVol1/raw/refs/heads/main/data/chapitre01/subset_1_of_S2A_MSIL2A_20240625T153941_N0510_R011_T18TYR_20240625T221903_resampled.tif"
      ]
    },
    {
      "cell_type": "markdown",
      "metadata": {
        "id": "Mz-Fwa7PfSSX"
      },
      "source": [
        "# Xarray\n",
        "Xarray est une bibliothèque Python puissante conçue pour travailler avec des tableaux multidimensionnels étiquetés[1][3]. Voici les principales caractéristiques de Xarray :\n",
        "\n",
        "### Fonctionnalités clés\n",
        "\n",
        "- **Tableaux étiquetés** : Xarray introduit des étiquettes sous forme de dimensions, coordonnées et attributs sur des tableaux de type NumPy[3].\n",
        "\n",
        "- **Structures de données** : Les deux structures de données principales sont DataArray (tableau étiqueté) et Dataset (collection de DataArrays partageant les mêmes coordonnées)[5].\n",
        "\n",
        "- **Interopérabilité** : Xarray s'intègre bien avec l'écosystème scientifique Python, notamment NumPy, Pandas, Dask et Matplotlib[3].\n",
        "\n",
        "- **Opérations avancées** : Elle offre des fonctionnalités pour l'analyse et la visualisation de données multidimensionnelles[3].\n",
        "\n",
        "### Avantages\n",
        "\n",
        "- **Intuitivité** : L'utilisation d'étiquettes rend le code plus lisible et moins sujet aux erreurs[3].\n",
        "\n",
        "- **Flexibilité** : Xarray permet de sélectionner des données par étiquette plutôt que par position, facilitant la manipulation des données[5].\n",
        "\n",
        "- **Vectorisation** : Les opérations mathématiques sont vectorisées sur plusieurs dimensions en se basant sur les noms des dimensions[3].\n",
        "\n",
        "- **E/S efficace** : Xarray prend en charge la lecture et l'écriture de divers formats de données, notamment NetCDF, HDF, Zarr et GRIB[3].\n",
        "\n",
        "### Utilisation\n",
        "\n",
        "Xarray est particulièrement utile pour travailler avec des données scientifiques multidimensionnelles, comme des séries temporelles climatiques ou des images satellite[1]. Elle simplifie considérablement la manipulation, l'analyse et la visualisation de ces types de données complexes.\n",
        "\n",
        "En résumé, Xarray est un outil puissant qui combine la flexibilité de Pandas avec la puissance de calcul de NumPy pour les tableaux multidimensionnels, offrant ainsi une solution efficace pour l'analyse de données scientifiques en Python.\n",
        "\n",
        "Citations:\n",
        "[1] https://docs.xarray.dev/en/stable/\n",
        "\n",
        "[2] https://www.data-bird.co/blog/bibliotheque-python\n",
        "\n",
        "[3] https://xarray.dev\n",
        "\n",
        "[4] https://openclassrooms.com/fr/courses/7771531-decouvrez-les-librairies-python-pour-la-data-science/7857439-manipulez-le-data-frame\n",
        "\n",
        "[5] https://docs.xarray.dev/en/stable/getting-started-guide/quick-overview.html\n",
        "\n",
        "[6] https://docs.python.org/3.7/library/\n",
        "\n",
        "[7] https://sist.pages.in2p3.fr/webinaire_netcdf_2024/python-xarray.html\n",
        "\n",
        "[8] https://training.digitalearthafrica.org/fr/latest/python_basics/05_xarray.html\n"
      ]
    },
    {
      "cell_type": "code",
      "execution_count": null,
      "metadata": {
        "id": "GnIr3X7fhODc"
      },
      "outputs": [],
      "source": [
        "!pip install rioxarray"
      ]
    },
    {
      "cell_type": "code",
      "execution_count": null,
      "metadata": {
        "id": "dJ1du7V4fWwC"
      },
      "outputs": [],
      "source": [
        "import rioxarray as xr\n",
        "\n",
        "ds = xr.open_rasterio(img_name)\n",
        "ds"
      ]
    },
    {
      "cell_type": "code",
      "execution_count": null,
      "metadata": {
        "id": "wBUUllNdg_5J"
      },
      "outputs": [],
      "source": [
        "inspect(ds,methods=True)"
      ]
    },
    {
      "cell_type": "code",
      "execution_count": null,
      "metadata": {
        "id": "m-f_3MO4hjY8"
      },
      "outputs": [],
      "source": [
        "ds.band"
      ]
    },
    {
      "cell_type": "code",
      "execution_count": null,
      "metadata": {
        "id": "ltxbQmgUhv5_"
      },
      "outputs": [],
      "source": [
        "#with xr.set_options(display_style=\"html\"):\n",
        "display(ds)"
      ]
    },
    {
      "cell_type": "code",
      "execution_count": null,
      "metadata": {
        "id": "tYgHQY0Ih8F7"
      },
      "outputs": [],
      "source": [
        "da= ds.band\n",
        "#with xr.set_options(display_style=\"html\"):\n",
        "display(da)"
      ]
    },
    {
      "cell_type": "code",
      "execution_count": null,
      "metadata": {
        "id": "ec_cRxSjiLVB"
      },
      "outputs": [],
      "source": [
        "ds.dims"
      ]
    },
    {
      "cell_type": "code",
      "execution_count": null,
      "metadata": {
        "id": "2BneXo4zkJu9"
      },
      "outputs": [],
      "source": [
        "ds.attrs"
      ]
    },
    {
      "cell_type": "markdown",
      "metadata": {
        "id": "CUQU-Dz2mRN-"
      },
      "source": [
        "On peut sélectionner les données directement par *slicing* à la NumPy:"
      ]
    },
    {
      "cell_type": "code",
      "execution_count": null,
      "metadata": {
        "id": "8McuWWKxlrx-"
      },
      "outputs": [],
      "source": [
        "ds.data[:30, 20:40]"
      ]
    },
    {
      "cell_type": "markdown",
      "metadata": {
        "id": "xCxJZNU5mi3G"
      },
      "source": [
        "On peut aussi utiliser la fonction `isel` sur le dataset:"
      ]
    },
    {
      "cell_type": "code",
      "execution_count": null,
      "metadata": {
        "id": "HUBWXgEklXyh"
      },
      "outputs": [],
      "source": [
        "ds.isel(x=slice(None, 30), y=slice(20, 40))"
      ]
    },
    {
      "cell_type": "markdown",
      "metadata": {
        "id": "2GkXVrS9msjS"
      },
      "source": [
        "Un autre façon de faire est d'utiliser les étiquettes des axes:"
      ]
    },
    {
      "cell_type": "code",
      "execution_count": null,
      "metadata": {
        "id": "_AKltccPnBQw"
      },
      "outputs": [],
      "source": [
        "out= ds.isel(band=1).sel(x=slice(4682000, 4682500,10), y=slice(330500,331000,10))\n",
        "out"
      ]
    },
    {
      "cell_type": "code",
      "execution_count": null,
      "metadata": {
        "id": "5-pBDTafOGVz"
      },
      "outputs": [],
      "source": [
        "ds.sel(band=2).sel(y=4686000, method=\"nearest\").plot()"
      ]
    },
    {
      "cell_type": "code",
      "execution_count": null,
      "metadata": {
        "id": "mDD5az_jrfcg"
      },
      "outputs": [],
      "source": [
        "ds.isel(band=1).plot.imshow()"
      ]
    },
    {
      "cell_type": "code",
      "execution_count": null,
      "metadata": {
        "id": "avccBgNtS_pv"
      },
      "outputs": [],
      "source": [
        "ds.plot.imshow(robust=True)"
      ]
    }
  ],
  "metadata": {
    "colab": {
      "provenance": []
    },
    "kernelspec": {
      "display_name": "Python 3",
      "name": "python3"
    },
    "language_info": {
      "name": "python"
    }
  },
  "nbformat": 4,
  "nbformat_minor": 0
}
