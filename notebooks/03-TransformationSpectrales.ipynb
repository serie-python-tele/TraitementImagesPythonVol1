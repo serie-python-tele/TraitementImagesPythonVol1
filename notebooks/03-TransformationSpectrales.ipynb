{
  "cells": [
    {
      "cell_type": "markdown",
      "metadata": {},
      "source": [
        "# Transformations spectrales {#sec-chap03}\n",
        "\n",
        "Dans ce chapitre, nous abordons quelques techniques de réhaussement et de visualisation d'images. Ce chapitre est aussi disponible sous la forme d'un notebook Python:\n",
        "[![](https://colab.research.google.com/assets/colab-badge.svg)](https://colab.research.google.com/github/sfoucher/TraitementImagesPythonVol1/blob/main/notebooks/02-RehaussementVisualisationImages.ipynb) \n",
        "\n",
        "Les librairies qui vont être explorées dans ce chapitre sont les suivantes:\n",
        "* SciPy \n",
        "* NumPy \n",
        "* OpenCV\n",
        "* RasterIO \n",
        "* [rioxarray](https://corteva.github.io/rioxarray/stable/index.html)\n",
        "* xarray \n",
        "\n",
        "Dans l'environnement Google Colab, seul `rioxarray` et GDAL doivent être installés:"
      ]
    },
    {
      "cell_type": "code",
      "metadata": {},
      "source": [
        "%%capture\n",
        "!apt-get update\n",
        "!apt-get install gdal-bin libgdal-dev\n",
        "!pip install -q rioxarray\n",
        "!pip install -qU \"geemap[workshop]\""
      ],
      "execution_count": null,
      "outputs": []
    },
    {
      "cell_type": "markdown",
      "metadata": {},
      "source": [
        "## Qu'est ce que l'information spectrale?\n",
        "\n",
        "L'information spectrale touche à l'exploitation de la dimension spectrale des images (c.à.d le long des bandes spectrales de l'image). \n",
        "\n",
        "## Indices spectraux {#sec-031}\n",
        "\n",
        "## Réduction de dimension {#sec-032}\n",
        "\n",
        "### Analyses en composantes principales {#sec-0311}\n",
        "\n",
        "\n",
        "## Exercices de révision {#sec-037}\n",
        "\n",
        "::: bloc_exercice\n",
        "::: bloc_exercice-header\n",
        "::: bloc_exercice-icon\n",
        ":::\n",
        "**Exercice 1.** À compléter\n",
        ":::\n",
        "::: bloc_exercice-body"
      ]
    },
    {
      "cell_type": "code",
      "metadata": {
        "message": false
      },
      "source": [
        "#| echo: true\n",
        "#| warning: false\n",
        "#| eval: false\n",
        "library(sf)\n",
        "library(terra)\n",
        "# ...\n",
        "# à compléter"
      ],
      "execution_count": null,
      "outputs": []
    },
    {
      "cell_type": "markdown",
      "metadata": {},
      "source": [
        "Correction à la [section @sec-08031].\n",
        ":::\n",
        ":::\n",
        "\n",
        "::: bloc_exercice\n",
        "::: bloc_exercice-header\n",
        "::: bloc_exercice-icon\n",
        ":::\n",
        "**Exercice 2.** À compléter\n",
        ":::\n",
        "::: bloc_exercice-body"
      ]
    },
    {
      "cell_type": "code",
      "metadata": {
        "message": false
      },
      "source": [
        "#| echo: true\n",
        "#| warning: false\n",
        "#| eval: false\n",
        "library(sf)\n",
        "library(terra)\n",
        "# ...\n",
        "# à compléter"
      ],
      "execution_count": null,
      "outputs": []
    },
    {
      "cell_type": "markdown",
      "metadata": {},
      "source": [
        "Correction à la [section @sec-08032].\n",
        ":::\n",
        ":::\n",
        "\n",
        "::: bloc_exercice\n",
        "::: bloc_exercice-header\n",
        "::: bloc_exercice-icon\n",
        ":::\n",
        "**Exercice 3.** À compléter\n",
        ":::\n",
        "::: bloc_exercice-body"
      ]
    },
    {
      "cell_type": "code",
      "metadata": {
        "message": false
      },
      "source": [
        "#| echo: true\n",
        "#| warning: false\n",
        "#| eval: false\n",
        "library(sf)\n",
        "library(terra)\n",
        "# ...\n",
        "# à compléter"
      ],
      "execution_count": null,
      "outputs": []
    },
    {
      "cell_type": "markdown",
      "metadata": {},
      "source": [
        "Correction à la [section @sec-08033].\n",
        ":::\n",
        ":::"
      ]
    }
  ],
  "metadata": {
    "kernelspec": {
      "name": "python3",
      "language": "python",
      "display_name": "Python 3 (ipykernel)",
      "path": "/home/sfoucher/miniconda3/share/jupyter/kernels/python3"
    }
  },
  "nbformat": 4,
  "nbformat_minor": 4
}