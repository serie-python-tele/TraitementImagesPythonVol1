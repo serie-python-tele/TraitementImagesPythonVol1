{
  "cells": [
    {
      "cell_type": "markdown",
      "metadata": {},
      "source": [
        "---\n",
        "jupyter: python3\n",
        "from: markdown+emoji\n",
        "execute:\n",
        "  echo: true\n",
        "  eval: true\n",
        "  message: false\n",
        "  warning: false\n",
        "---"
      ]
    },
    {
      "cell_type": "code",
      "metadata": {},
      "source": [
        "#| echo: false\n",
        "#| output: false\n",
        "import matplotlib.pyplot as plt\n",
        "plt.rcParams['axes.titlesize'] = 10\n",
        "plt.rcParams['axes.labelsize'] = 10\n",
        "plt.rcParams['xtick.labelsize'] = 10\n",
        "plt.rcParams['ytick.labelsize'] = 10\n",
        "plt.rcParams['legend.fontsize'] = 10\n",
        "plt.rcParams[\"image.aspect\"]= 'equal'\n",
        "plt.rcParams['figure.dpi'] = 100\n",
        "import warnings\n",
        "warnings.filterwarnings('ignore')"
      ],
      "execution_count": null,
      "outputs": []
    },
    {
      "cell_type": "markdown",
      "metadata": {},
      "source": [
        "# Transformations spectrales {#sec-chap03}\n",
        "\n",
        "## Préambule\n",
        "\n",
        "Assurez-vous de lire ce préambule avant d'exécutez le reste du notebook.\n",
        "\n",
        "### Objectifs\n",
        "\n",
        "Dans ce chapitre, nous abordons l'exploitation de la dimension spectrale des images satellites. Ce chapitre est aussi disponible sous la forme d'un notebook Python:\n",
        "\n",
        "[![](images/colab.png)](https://colab.research.google.com/github/sfoucher/TraitementImagesPythonVol1/blob/main/notebooks/03-TransformationSpectrales.ipynb)\n",
        "\n",
        "### Librairies\n",
        "\n",
        "Les librairies qui vont être explorées dans ce chapitre sont les suivantes:\n",
        "\n",
        "-   [SciPy](https://scipy.org/)\n",
        "\n",
        "-   [NumPy](https://numpy.org/)\n",
        "\n",
        "-   [spyindex](https://github.com/awesome-spectral-indices/spyndex)\n",
        "\n",
        "-   [Rasterio](https://rasterio.readthedocs.io/en/stable/)\n",
        "\n",
        "-   [Xarray](https://docs.xarray.dev/en/stable/)\n",
        "\n",
        "-   [rioxarray](https://corteva.github.io/rioxarray/stable/index.html)\n",
        "\n",
        "Dans l'environnement Google Colab, seul `rioxarray` doit être installés:"
      ]
    },
    {
      "cell_type": "code",
      "metadata": {},
      "source": [
        "#| eval: false\n",
        "%%capture\n",
        "!pip install -qU matplotlib rioxarray xrscipy scikit-image pyarrow spyndex"
      ],
      "execution_count": null,
      "outputs": []
    },
    {
      "cell_type": "markdown",
      "metadata": {},
      "source": [
        "Vérifier les importations:"
      ]
    },
    {
      "cell_type": "code",
      "metadata": {},
      "source": [
        "import numpy as np\n",
        "import rioxarray as rxr\n",
        "from scipy import signal\n",
        "import xarray as xr\n",
        "import xrscipy\n",
        "import matplotlib.pyplot as plt\n",
        "import spyndex\n",
        "import rasterio as rio"
      ],
      "execution_count": null,
      "outputs": []
    },
    {
      "cell_type": "markdown",
      "metadata": {},
      "source": [
        "### Images utilisées\n",
        "\n",
        "Nous allons utilisez les images suivantes dans ce chapitre:"
      ]
    },
    {
      "cell_type": "code",
      "metadata": {},
      "source": [
        "#| eval: false\n",
        "%%capture\n",
        "import gdown\n",
        "\n",
        "gdown.download('https://drive.google.com/uc?export=download&confirm=pbef&id=1a6Ypg0g1Oy4AJt9XWKWfnR12NW1XhNg_', output= 'RGBNIR_of_S2A.tif')\n",
        "gdown.download('https://drive.google.com/uc?export=download&confirm=pbef&id=1a6O3L_abOfU7h94K22At8qtBuLMGErwo', output= 'sentinel2.tif')\n",
        "gdown.download('https://drive.google.com/uc?export=download&confirm=pbef&id=1_zwCLN-x7XJcNHJCH6Z8upEdUXtVtvs1', output= 'berkeley.jpg')\n",
        "gdown.download('https://drive.google.com/uc?export=download&confirm=pbef&id=1dM6IVqjba6GHwTLmI7CpX8GP2z5txUq6', output= 'SAR.tif')\n",
        "gdown.download('https://drive.google.com/uc?export=download&confirm=pbef&id=1aAq7crc_LoaLC3kG3HkQ6Fv5JfG0mswg', output= 'carte.tif')\n",
        "gdown.download('https://drive.google.com/uc?export=download&confirm=pbef&id=1iCZNYTv0qEZRzPhe22nPdpV4Ks7NsY3b', output= 'ASCIIdata_splib07b_rsSentinel2.zip')\n",
        "!unzip -q ASCIIdata_splib07b_rsSentinel2.zip"
      ],
      "execution_count": null,
      "outputs": []
    },
    {
      "cell_type": "markdown",
      "metadata": {},
      "source": [
        "Vérifiez que vous êtes capable de les lire :"
      ]
    },
    {
      "cell_type": "code",
      "metadata": {},
      "source": [
        "#| output: false\n",
        "\n",
        "with rxr.open_rasterio('berkeley.jpg', mask_and_scale= True) as img_rgb:\n",
        "    print(img_rgb)\n",
        "with rxr.open_rasterio('RGBNIR_of_S2A.tif', mask_and_scale= True) as img_rgbnir:\n",
        "    print(img_rgbnir)\n",
        "with rxr.open_rasterio('sentinel2.tif', mask_and_scale= True) as img_s2:\n",
        "    print(img_s2)\n",
        "with rxr.open_rasterio('carte.tif', mask_and_scale= True) as img_carte:\n",
        "    print(img_carte)"
      ],
      "execution_count": null,
      "outputs": []
    },
    {
      "cell_type": "markdown",
      "metadata": {},
      "source": [
        "## Qu'est ce que l'information spectrale?\n",
        "\n",
        "L'information spectrale touche à l'exploitation de la dimension spectrale des images (c.à.d le long des bandes spectrales de l'image). La taille de cette dimension spectrale dépend du type de capteurs considéré. Un capteur à très haute résolution spectrale par exemple aura très peu de bandes (4 ou 5). Un capteur multispectral pourra contenir une quinzaine de bande. À l'autre extrême, on trouvera les capteurs hyperspectraux qui peuvent contenir des centaines de bandes spectrales.\n",
        "\n",
        "![Positions des bandes spectrales pour quelques capteurs ([source](https://landsat.gsfc.nasa.gov/article/sentinel-2a-launches-our-compliments-our-complements/))](images/Landsat.v.Sentinel-2-1.png){fig-align=\"center\" width=\"6in\"}\n",
        "\n",
        "Pour une surface donnée, la forme des valeurs le long de l'axe spectrale caractérise le type de matériau observé ainsi que son état. On parle souvent alors de signature spectrale. On peut voir celle-ci comme une généralisation de la couleur d'un matériau au delà des bandes visibles du spectre. L'exploitation de ces signatures spectrales est probablement un des principes les plus importants en télédétection qui le distingue de la vison par ordinateur. L'[USGS](https://www.sciencebase.gov/catalog/item/586e8c88e4b0f5ce109fccae) maintient une base de données spectrales acquises en laboratoire [@Kokaly-2017]. On peut observer sur la figure ci-dessous comment la forme et l'amplitude de trois signatures différentes peut changer en fonction du type de surface."
      ]
    },
    {
      "cell_type": "code",
      "metadata": {},
      "source": [
        "#| echo: false\n",
        "#| fig-cap: \"Exemples de signatures spectrales pour trois surfaces différentes pour les bandes spectrales de Sentinel-2\"\n",
        "HOME= !pwd\n",
        "with open(f'{HOME[0]}/ASCIIdata_splib07b_rsSentinel2/S07SNTL2_Wavelengths_Sentinel2_(13_bands)_microns.txt','r') as f:\n",
        "    # Read all lines, skipping the first line\n",
        "    lines = f.read().split('\\n')[1:]  \n",
        "    # Filter out empty or whitespace-only lines before converting to float\n",
        "    band_pos = [float(s.replace(' ', ''))*1000 for s in lines if s.strip()]\n",
        "\n",
        "with open('ASCIIdata_splib07b_rsSentinel2/ChapterV_Vegetation/S07SNTL2_Rangeland_C03-004_S08%_G27%_ASDFRa_AREF.txt','r') as f:\n",
        "    lines = f.read().split('\\n')[1:]  \n",
        "    LawnGrass = [float(s.replace(' ', '')) for s in lines if s.strip()]\n",
        "\n",
        "with open('ASCIIdata_splib07b_rsSentinel2/ChapterL_Liquids/S07SNTL2_Water+Montmor_SWy-2+0.50g-l_ASDFRa_AREF.txt','r') as f:\n",
        "    lines = f.read().split('\\n')[1:]  \n",
        "    Water = [float(s.replace(' ', '')) for s in lines if s.strip()]\n",
        "\n",
        "\n",
        "with open('ASCIIdata_splib07b_rsSentinel2/ChapterA_ArtificialMaterials/S07SNTL2_Concrete_GDS375_Lt_Gry_Road_ASDFRa_AREF.txt','r') as f:\n",
        "    lines = f.read().split('\\n')[1:]  \n",
        "    Concrete = [float(s.replace(' ', '')) for s in lines if s.strip()]\n",
        "fig, ax= plt.subplots(figsize = (8,5))\n",
        "plt.plot(band_pos,LawnGrass, 'g.-')\n",
        "plt.plot(band_pos,Water, 'b.-')\n",
        "plt.plot(band_pos,Concrete, 'y.-')\n",
        "plt.legend(['Prairie','Eau','Béton'])\n",
        "ax.grid('on')\n",
        "ax.set_xlabel('Longueur d\\'onde (nm)')\n",
        "ax.set_ylabel('Réflectance')"
      ],
      "execution_count": null,
      "outputs": []
    },
    {
      "cell_type": "markdown",
      "metadata": {},
      "source": [
        "## Indices spectraux\n",
        "\n",
        "Il existe une vaste littérature sur les indices spectraux, le choix d'un indice plutôt qu'un autre dépend fortement de l'application visée, nous allons simplement couvrir les principes de base ici. Le principe d'un indice spectral consiste à mettre en valeur certaines caractéristiques saillantes du spectre comme des pentes, des gradients, etc.\n",
        "\n",
        "La librairie Python [Awesome Spectral Indices](https://awesome-ee-spectral-indices.readthedocs.io/en/latest/) maintient une liste de plus de 200 indices spectraux (radar et optiques). La liste complète est affichable avec la commande suivante:"
      ]
    },
    {
      "cell_type": "code",
      "metadata": {},
      "source": [
        "spyndex.indices"
      ],
      "execution_count": null,
      "outputs": []
    },
    {
      "cell_type": "markdown",
      "metadata": {},
      "source": [
        "Le détail d'un indice particulier, par exemple le \\`NDVI\\`, est aussi affichable:"
      ]
    },
    {
      "cell_type": "code",
      "metadata": {},
      "source": [
        "spyndex.indices[\"NDVI\"]"
      ],
      "execution_count": null,
      "outputs": []
    },
    {
      "cell_type": "markdown",
      "metadata": {},
      "source": [
        "`spyndex` pré-suppose une nomenclature prédéfinie des [bandes](https://awesome-ee-spectral-indices.readthedocs.io/en/latest/#expressions), on peut voir la correspondance sur le tableau ci-dessous:"
      ]
    },
    {
      "cell_type": "code",
      "metadata": {},
      "source": [
        "spyndex.bands"
      ],
      "execution_count": null,
      "outputs": []
    },
    {
      "cell_type": "markdown",
      "metadata": {},
      "source": [
        "| Index | Noms | Spyndex | Noms                      |\n",
        "|-------|------|---------|---------------------------|\n",
        "| 1     | B01  | A       | Aérosol                   |\n",
        "| 2     | B02  | B       | Bleu                      |\n",
        "| 3     | B03  | G       | Vert                      |\n",
        "| 4     | B04  | R       | Rouge                     |\n",
        "| 5     | B05  | RE1     | Red edge 1                |\n",
        "| 6     | B06  | RE1     | Red edge 2                |\n",
        "| 7     | B07  | RE2     | Red edge 3                |\n",
        "| 8     | B08  | N       | Proche-infrarouge 1       |\n",
        "| 9     | B08A | N2      | Proche-infrarouge 2       |\n",
        "| 10    | B09  | \\-      | Vapeur d'eau              |\n",
        "| 11    | B11  | S1      | Infra-rouge onde courte 1 |\n",
        "| 12    | B12  | S2      | Infra-rouge onde courte 1 |\n",
        "\n",
        ": Noms des bandes Sentinel-2\n",
        "\n",
        "Deux options sont possibles, on peut soit renommer les noms des bandes avec `xarray` ou \"mapper\" les noms vers les noms appropriés. Regardons les dimensions de notre jeux de données:"
      ]
    },
    {
      "cell_type": "code",
      "metadata": {},
      "source": [
        "img_s2.dims"
      ],
      "execution_count": null,
      "outputs": []
    },
    {
      "cell_type": "markdown",
      "metadata": {},
      "source": [
        "On peut simplement changer les index (`coords`) de la dimension `band`:"
      ]
    },
    {
      "cell_type": "code",
      "metadata": {},
      "source": [
        "img_s2 = img_s2.sel(band = list(range(1,13))).assign_coords({'band':[\"A\", \"B\", \"G\", \"R\", \"RE1\", \"RE2\", \"RE3\", \"N\", \"N2\", \"WV\", \"S1\", \"S2\"]})\n",
        "img_s2=img_s2/10000 # normalisation en réflectance"
      ],
      "execution_count": null,
      "outputs": []
    },
    {
      "cell_type": "code",
      "metadata": {},
      "source": [
        "from rasterio import plot\n",
        "idx = spyndex.computeIndex(\n",
        "    index = [\"NDVI\",\"GNDVI\",\"SAVI\"],\n",
        "    params = {\n",
        "        \"N\": img_s2.sel(band = \"N\"),\n",
        "        \"R\": img_s2.sel(band = \"R\"),\n",
        "        \"G\": img_s2.sel(band = \"G\"),\n",
        "        \"L\": 0.5\n",
        "    }\n",
        ")\n",
        "\n",
        "# Plot the indices (and the RGB image for comparison)\n",
        "fig, ax = plt.subplots(2,2,figsize = (9,9))\n",
        "[a.axis('off') for a in ax.flatten()]\n",
        "plot.show(img_s2.sel(band = [\"R\",\"G\",\"B\"]).data / 0.3,ax = ax[0,0],title = \"RGB\")\n",
        "plot.show(idx.sel(index = \"NDVI\"),ax = ax[0,1],title = \"NDVI\")\n",
        "plot.show(idx.sel(index = \"GNDVI\"),ax = ax[1,0],title = \"GNDVI\")\n",
        "plot.show(idx.sel(index = \"SAVI\"),ax = ax[1,1],title = \"SAVI\")"
      ],
      "execution_count": null,
      "outputs": []
    },
    {
      "cell_type": "markdown",
      "metadata": {},
      "source": [
        "On peut vérifier l'utilité des indices en vérifiant leur séparabilité pour certaines classes d'intérêts. Nous reprenons ici l'exemple de la section [@sec-05.02.02] pour vérifier l'utilité des indices `NDVI`, `NDWI` et `NDBI`:"
      ]
    },
    {
      "cell_type": "code",
      "metadata": {},
      "source": [
        "#| eval: false\n",
        "#| echo: false\n",
        "#| output: false\n",
        "#| warning: false\n",
        "from matplotlib.colors import ListedColormap\n",
        "import rasterio\n",
        "import geopandas\n",
        "from shapely.geometry import Point\n",
        "import pandas as pd\n",
        "\n",
        "couleurs_classes= {'NoData': 'black', 'Commercial': 'yellow', 'Nuages': 'lightgrey', \n",
        "                    'Foret': 'darkgreen', 'Faible_végétation': 'green', 'Sol_nu': 'saddlebrown',\n",
        "                  'Roche': 'dimgray', 'Route': 'red', 'Urbain': 'orange', 'Eau': 'blue', 'Tourbe': 'salmon', 'Végétation éparse': 'darkgoldenrod', 'Roche avec végétation': 'darkseagreen'}\n",
        "nom_classes= [*couleurs_classes.keys()]\n",
        "couleurs_classes= [*couleurs_classes.values()]\n",
        "cmap_classes = ListedColormap(couleurs_classes)\n",
        "\n",
        "img_carte= img_carte.squeeze()\n",
        "class_counts = np.unique(img_carte.data, return_counts=True)\n",
        "\n",
        "# Liste vide des points échantillonnées\n",
        "sampled_points = []\n",
        "class_labels= [] # contient les étiquettes des classes\n",
        "for class_label in range(1,13): # pour chacune des 12 classes\n",
        "  # On cherche tous les pixels pour cette étiquette\n",
        "  class_pixels = np.argwhere(img_carte.data == class_label)\n",
        "\n",
        "  # On se limite à 100 pixels par classe\n",
        "  n_samples = min(100, len(class_pixels))\n",
        "\n",
        "  # On les choisit les positions aléatoirement\n",
        "  np.random.seed(0) # ceci permet de répliquer le tirage aléatoire\n",
        "  sampled_indices = np.random.choice(len(class_pixels), n_samples, replace=False)\n",
        "\n",
        "  # On prends les positions en lignes, colonnes\n",
        "  sampled_pixels = class_pixels[sampled_indices]\n",
        "\n",
        "  # On ajoute les points à la liste\n",
        "  sampled_points.extend(sampled_pixels)\n",
        "  class_labels.extend(np.array([class_label]*n_samples)[:,np.newaxis])\n",
        "\n",
        "# Conversion en NumPy array\n",
        "sampled_points = np.array(sampled_points)\n",
        "class_labels = np.array(class_labels)\n",
        "# On peut naviguer les points à l'aide de la géoréférence\n",
        "transformer = rasterio.transform.AffineTransformer(img_carte.rio.transform())\n",
        "transform_sampled_points= transformer.xy(sampled_points[:,0], sampled_points[:,1])\n",
        "\n",
        "points = [Point(xy) for xy in zip(transform_sampled_points[0], transform_sampled_points[1])]\n",
        "gdf = geopandas.GeoDataFrame(range(1,len(points)+1), geometry=points, crs=img_carte.rio.crs)\n",
        "coord_list = [(x, y) for x, y in zip(gdf[\"geometry\"].x, gdf[\"geometry\"].y)]\n",
        "with rasterio.open('sentinel2.tif') as src:\n",
        "  gdf[\"value\"] = [x[0:12]/10000.0 for x in src.sample(coord_list)]\n",
        "gdf['class']= class_labels\n",
        "#gdf.head()"
      ],
      "execution_count": null,
      "outputs": []
    },
    {
      "cell_type": "code",
      "metadata": {},
      "source": [
        "#| eval: false\n",
        "#| warning: false\n",
        "\n",
        "import pandas as pd\n",
        "import seaborn as sns\n",
        "\n",
        "# On sélectionne trois classes\n",
        "class_selected= [1,3,9]\n",
        "df= pd.concat([gdf[gdf['class'] ==c] for c in class_selected], ignore_index=True)\n",
        "idx[\"Land Cover\"] = [nom_classes[l] for l in df[\"class\"].tolist()]\n",
        "# Compute the desired spectral indices\n",
        "idx = spyndex.computeIndex(\n",
        "    index = [\"NDVI\",\"NDWI\",\"NDBI\"],\n",
        "    params = {\n",
        "        \"N\": df[\"SR_B8\"],\n",
        "        \"R\": df[\"SR_B4\"],\n",
        "        \"G\": df[\"SR_B3\"],\n",
        "        \"S1\": df[\"SR_B11\"]\n",
        "    }\n",
        ")\n",
        "\n",
        "colors= [couleurs_classes[c] for c in class_selected]\n",
        "# Plot a pairplot to check the indices behaviour\n",
        "plt.figure(figsize = (15,15))\n",
        "g = sns.PairGrid(idx,hue = \"Land Cover\",palette = sns.color_palette(colors))\n",
        "g.map_lower(sns.scatterplot)\n",
        "g.map_upper(sns.kdeplot,fill = True,alpha = .5)\n",
        "g.map_diag(sns.kdeplot,fill = True)\n",
        "g.add_legend()\n",
        "plt.show()"
      ],
      "execution_count": null,
      "outputs": []
    },
    {
      "cell_type": "markdown",
      "metadata": {},
      "source": [
        "![Visualisation des points d'une image Sentinel-2 pour trois classes](images/fig-classes-indices.png){fig-align=\"center\"}\n",
        "\n",
        "```{=html}\n",
        "<!--\n",
        "## Réduction de dimension\n",
        "\n",
        "La réduction de dimension vise à ne retenir que l'information principale d'un jeu de données. L'objectif est parfois d'éliminer le bruit d'un capteur ou de faciliter la visualisation en ne retenant que 3 bandes principales. Le degré d'information est souvent mesuré par la variance d'une bande, c'est à dire son contraste. L'analyse en composante principale vise alors à ranger l'information contenue dans une image en ordre de variance décroissante.\n",
        "\n",
        "### Analyses en composantes principales\n",
        "\n",
        "L'analyse en composantes principales (ACP) est probablement la plus employée. En théorie, l'ACP n'est valide seulement que sur des données Gaussiennes c'est à dire que le nuage de points des données a la forme d'une ellipse à N dimensions. Cette ellipse est caractérisée par des directions principales (grand axe versus petit axe). La première composante est celle du grand axe de l'ellipse pour laquelle la donnée présente le maximum de variation. L'ACP est une décomposition linéaire, c'est à dire que les composantes principales sont des sommes pondérées des valeurs originales.\n",
        "-->\n",
        "```"
      ]
    },
    {
      "cell_type": "code",
      "metadata": {
        "results": "asis"
      },
      "source": [
        "#| echo: false\n",
        "#| eval: false\n",
        "from code_complementaire.quizz_functions import *\n",
        "Chap01Quiz = Quiz(\"quiz/Chap01.yml\", \"Chap01\")\n",
        "render_quizz(Chap01Quiz)"
      ],
      "execution_count": null,
      "outputs": []
    }
  ],
  "metadata": {
    "kernelspec": {
      "display_name": "Python 3",
      "language": "python",
      "name": "python3"
    }
  },
  "nbformat": 4,
  "nbformat_minor": 4
}