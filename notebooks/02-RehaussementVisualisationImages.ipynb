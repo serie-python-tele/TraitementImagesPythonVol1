{
  "cells": [
    {
      "cell_type": "markdown",
      "metadata": {},
      "source": [
        "---\n",
        "jupyter: python3\n",
        "execute:\n",
        "  echo: true\n",
        "  eval: false\n",
        "  message: false\n",
        "  warning: false\n",
        "---\n",
        "\n",
        "# Réhaussement et visualisation d'images {#sec-chap02}\n",
        "\n",
        "Dans ce chapitre, nous abordons quelques techniques de réhaussement et de visualisation d'images. Ce chapitre est aussi disponible sous la forme d'un notebook Python:\n",
        "[![](https://colab.research.google.com/assets/colab-badge.svg)](https://colab.research.google.com/github/sfoucher/TraitementImagesPythonVol1/blob/main/notebooks/02-RehaussementVisualisationImages.ipynb) \n",
        "\n",
        "Les librairies qui vont être explorées dans ce chapitre sont les suivantes:\n",
        "* SciPy ![](https://docs.scipy.org/doc/scipy/_static/logo.svg){width=\"20pt\" fig-align=\"center\"}\n",
        "* NumPy ![](https://numpy.org/images/logo.svg){width=\"20pt\" fig-align=\"center\"}\n",
        "* OpenCV\n",
        "* RasterIO \n",
        "* [rioxarray](https://corteva.github.io/rioxarray/stable/index.html)\n",
        "* xarray ![](https://docs.xarray.dev/en/stable/_static/Xarray_Logo_RGB_Final.svg){height=\"30pt\" fig-align=\"center\"}\n",
        "\n",
        "\n",
        "Dans l'environnement Google Colab, seul `rioxarray` et GDAL doivent être installé:"
      ]
    },
    {
      "cell_type": "code",
      "metadata": {},
      "source": [
        "!apt-get update\n",
        "!apt-get install gdal-bin libgdal-dev\n",
        "!pip install -q rioxarray"
      ],
      "execution_count": null,
      "outputs": []
    },
    {
      "cell_type": "markdown",
      "metadata": {},
      "source": [
        "## Réhaussements visuels\n",
        "\n",
        "Le but du réhaussement visuel d'une image vise principalement à améliorer la qualité visuelle d'une image en améliorant le contraste, la dynamique ou la texture d'une image. Ce réhaussement ne modifie pas la donnée d'origine mais est plutôt appliquée dynamiquement à l'affichage pour des fins d'inspection visuelle.\n",
        "\n",
        "### Statistiques d'une image\n",
        "\n",
        "On peut considérer un ensemble de statistique globales pour chacune des bandes d'une image:\n",
        "- valeurs minimales et maximales\n",
        "- valeurs moyennes, médianes\n",
        "- écart-types, skewness et kurtosis \n",
        "Ces statistiques doivent être calculées pour chaque bande d'une image multispectrale.\n"
      ]
    },
    {
      "cell_type": "code",
      "metadata": {},
      "source": [
        "#| lst-label: lst-lecturerasterioPNG\n",
        "#| lst-cap: Lecture d'une image en format PNG avec OpenCV\n",
        "\n",
        "!wget https://github.com/sfoucher/TraitementImagesPythonVol1/raw/refs/heads/main/data/chapitre01/subset_RGBNIR_of_S2A_MSIL2A_20240625T153941_N0510_R011_T18TYR_20240625T221903.tif -O RGBNIR_of_S2A.tif\n",
        "\n",
        "!gdalinfo RGBNIR_of_S2A.tif"
      ],
      "execution_count": null,
      "outputs": []
    },
    {
      "cell_type": "markdown",
      "metadata": {},
      "source": [
        "#### Histogramme\n",
        "\n",
        "### Réhaussements linéaires\n",
        "\n",
        "Le réhaussement linéaire d'une image est la forme la plus simple de réhaussement, elle consiste 1) à optimiser les valeurs des pixels d'une image afin de maximiser la dynamique disponibles à l'affichage, ou 2) changer le format de stockage des valeurs (e.g. de 8 bit à 16 bit):\n",
        "\n",
        "$$ \\text{nouvelle valeur d'un pixel} = \\frac{\\text{valeur d'un pixel} - min_0}{max_0 - min_0}\\times (max_1 - min_1)+min_1$$\n",
        "Par cette opération, on passe de la dynamique de départ ($max_0 - min_0$) vers la dynamique cible ($max_1 - min_1$). Bien que cette opération semble triviale, il est important d'être conscient des trois contraintes suivantes:\n",
        "1. **Faire attention à la dynamique cible**, ainsi, pour sauvegarder une image en format 8 bit, on utilisera alors $max_1=255$ et $min_1=0$.\n",
        "2. **Préservation de la valeur de no data** : il faut faire attention à la valeur $min_1$ dans le cas d'une valeur présente pour *no_data*. Par exemple, si *no_data=0* alors il faut s'assurer que $min_1>0$.\n",
        "3. **Précision du calcul** : si possible réaliser la division ci-dessus en format *float*\n",
        "\n",
        "### Réhaussements non linéaires\n",
        "\n",
        "\n",
        "Calcul d'histogrammes, étirement, égalisation, styling\n",
        "\n",
        "### Composés couleurs\n",
        "\n",
        "Le système visuel humain est sensible seulement à la partie visible du spectre électromagnétique qui compose les couleurs de l'arc-en-ciel du bleu au rouge. L'ensemble des couleurs du spectre visible peut être obtenu à partir du mélange de trois couleurs primaires (rouge, vert et bleu). Ce système de décomposition à trois couleurs est à la base de la plupart des systèmes de visualisation ou de représentation de l'information de couleur. On peut trouver des variantes comme le système HSV (*Hue-Satuation-Value*) utilisé en encodage de données vidéos.\n",
        "\n",
        "## Visualisation sur le Web\n",
        "\n",
        "La meilleure pratique pour visualiser une image de grande taille est d'utiliser un service de type Web Mapping Service (WMS). Ce type de service nécessite une architecture client-serveur qui est plus complexe à mettre en place.\n",
        "\n",
        "## Visualisation 3D\n",
        "\n",
        "drapper une image satellite sur un DEM\n",
        "\n",
        "\n",
        "## Quiz de révision du chapitre\n",
        "\n",
        "## Exercices de révision {#sec-027}\n"
      ]
    }
  ],
  "metadata": {
    "kernelspec": {
      "name": "python3",
      "language": "python",
      "display_name": "Python 3 (ipykernel)",
      "path": "/home/sfoucher/miniconda3/share/jupyter/kernels/python3"
    }
  },
  "nbformat": 4,
  "nbformat_minor": 4
}