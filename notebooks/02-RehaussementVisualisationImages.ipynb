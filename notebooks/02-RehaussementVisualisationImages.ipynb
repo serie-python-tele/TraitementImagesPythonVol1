{
  "cells": [
    {
      "cell_type": "markdown",
      "metadata": {},
      "source": [
        "---\n",
        "jupyter: python3\n",
        "from: markdown+emoji\n",
        "execute:\n",
        "  echo: true\n",
        "  eval: true\n",
        "  message: false\n",
        "  warning: false\n",
        "---"
      ]
    },
    {
      "cell_type": "code",
      "metadata": {},
      "source": [
        "#| echo: false\n",
        "#| output: false\n",
        "import matplotlib.pyplot as plt\n",
        "plt.rcParams['axes.titlesize'] = 10\n",
        "plt.rcParams['axes.labelsize'] = 10\n",
        "plt.rcParams['xtick.labelsize'] = 10\n",
        "plt.rcParams['ytick.labelsize'] = 10\n",
        "plt.rcParams['legend.fontsize'] = 10\n",
        "plt.rcParams['image.aspect'] = 'equal'\n",
        "plt.rcParams['image.cmap'] = 'gray'"
      ],
      "execution_count": null,
      "outputs": []
    },
    {
      "cell_type": "markdown",
      "metadata": {},
      "source": [
        "# Réhaussement et visualisation d'images {#sec-chap02}\n",
        "\n",
        "Assurez-vous de lire ce préambule avant d'exécutez le reste du notebook.\n",
        "\n",
        "## Préambule\n",
        "### Objectifs\n",
        "Dans ce chapitre, nous abordons quelques techniques de réhaussement et de visualisation d'images. Ce chapitre est aussi disponible sous la forme d'un notebook Python:\n",
        "\n",
        "[![](images/colab.png)](https://colab.research.google.com/github/sfoucher/TraitementImagesPythonVol1/blob/main/notebooks/02-RehaussementVisualisationImages.ipynb){target=\"_blank\"} \n",
        "\n",
        "### Librairies\n",
        "Les librairies qui vont être explorées dans ce chapitre sont les suivantes:\n",
        "\n",
        "* [SciPy](https://scipy.org/)\n",
        "\n",
        "* [NumPy](https://numpy.org/) \n",
        "\n",
        "* [opencv-python · PyPI](https://pypi.org/project/opencv-python/)\n",
        "\n",
        "* [scikit-image](https://scikit-image.org/)\n",
        "\n",
        "* [Rasterio](https://rasterio.readthedocs.io/en/stable/)\n",
        "\n",
        "* [Xarray](https://docs.xarray.dev/en/stable/)\n",
        "\n",
        "* [rioxarray](https://corteva.github.io/rioxarray/stable/index.html)\n",
        "\n",
        "\n",
        "\n",
        "Dans l'environnement Google Colab, seul `rioxarray` et GDAL doivent être installés:"
      ]
    },
    {
      "cell_type": "code",
      "metadata": {},
      "source": [
        "#| eval: false\n",
        "%%capture\n",
        "!apt-get update\n",
        "!apt-get install gdal-bin libgdal-dev\n",
        "!pip install -q rioxarray\n",
        "!pip install -qU \"geemap[workshop]\""
      ],
      "execution_count": null,
      "outputs": []
    },
    {
      "cell_type": "markdown",
      "metadata": {},
      "source": [
        "Dans l'environnement Google Colab, on peut s'assurer que les librairies  sont installées:"
      ]
    },
    {
      "cell_type": "code",
      "metadata": {},
      "source": [
        "%%capture\n",
        "!pip install -qU matplotlib rioxarray xrscipy scikit-image"
      ],
      "execution_count": null,
      "outputs": []
    },
    {
      "cell_type": "markdown",
      "metadata": {},
      "source": [
        "Vérifier les importations:"
      ]
    },
    {
      "cell_type": "code",
      "metadata": {},
      "source": [
        "import numpy as np\n",
        "import rioxarray as rxr\n",
        "from scipy import signal\n",
        "import xarray as xr\n",
        "import xrscipy\n",
        "import matplotlib.pyplot as plt"
      ],
      "execution_count": null,
      "outputs": []
    },
    {
      "cell_type": "markdown",
      "metadata": {},
      "source": [
        "### Données\n",
        "Nous allons utilisez les images suivantes dans ce chapitre:"
      ]
    },
    {
      "cell_type": "code",
      "metadata": {},
      "source": [
        "#| eval: false\n",
        "%%capture\n",
        "import gdown\n",
        "\n",
        "gdown.download('https://drive.google.com/uc?export=download&confirm=pbef&id=1a6Ypg0g1Oy4AJt9XWKWfnR12NW1XhNg_', output= 'RGBNIR_of_S2A.tif')\n",
        "gdown.download('https://drive.google.com/uc?export=download&confirm=pbef&id=1a6O3L_abOfU7h94K22At8qtBuLMGErwo', output= 'sentinel2.tif')\n",
        "gdown.download('https://drive.google.com/uc?export=download&confirm=pbef&id=1_zwCLN-x7XJcNHJCH6Z8upEdUXtVtvs1', output= 'berkeley.jpg')\n",
        "gdown.download('https://drive.google.com/uc?export=download&confirm=pbef&id=1dM6IVqjba6GHwTLmI7CpX8GP2z5txUq6', output= 'SAR.tif')"
      ],
      "execution_count": null,
      "outputs": []
    },
    {
      "cell_type": "markdown",
      "metadata": {},
      "source": [
        "Vérifiez que vous êtes capable de les lire :"
      ]
    },
    {
      "cell_type": "code",
      "metadata": {},
      "source": [
        "#| output: false\n",
        "\n",
        "with rxr.open_rasterio('berkeley.jpg', mask_and_scale= True) as img_rgb:\n",
        "    print(img_rgb)\n",
        "with rxr.open_rasterio('sentinel2.tif', mask_and_scale= True) as img_s2:\n",
        "    print(img_s2)\n",
        "with rxr.open_rasterio('RGBNIR_of_S2A.tif', mask_and_scale= True) as img_rgbnir:\n",
        "    print(img_rgbnir)\n",
        "with rxr.open_rasterio('SAR.tif', mask_and_scale= True) as img_SAR:\n",
        "    print(img_SAR)"
      ],
      "execution_count": null,
      "outputs": []
    },
    {
      "cell_type": "markdown",
      "metadata": {},
      "source": [
        "## Visualisation en Python\n",
        "\n",
        "Il faut d'entrée mentionner que Python n'est pas vraiment fait pour visualiser de la donnée de grande taille, le niveau d'interactivité est aussi assez limité. Pour une visualisation interactives, il est plutôt conseillé d'utiliser un outil comme [QGIS](https://qgis.org/). Néanmoins, il est possible de visualiser de petites images avec la librairie [`matplotlib`](https://matplotlib.org/stable/) qui est la librairie principale de visualisation en Python. Cette librairie est extrêmement riche et versatile, nous ne présenterons que les bases nécessaires pour démarrer. Le lecteur désirant aller plus loin pourra consulter les nombreux tutoriels disponibles comme [celui-ci](https://matplotlib.org/stable/tutorials/index.html).\n",
        "\n",
        "La fonction de base pour créer une figure est `subplots`, la largeur et hauteur en pouces de la figure peuvent être contrôlées via le paramètre `figsize`:"
      ]
    },
    {
      "cell_type": "code",
      "metadata": {},
      "source": [
        "import matplotlib.pyplot as plt\n",
        "fig, ax= plt.subplots(figsize=(6, 5))\n",
        "plt.show()"
      ],
      "execution_count": null,
      "outputs": []
    },
    {
      "cell_type": "markdown",
      "metadata": {},
      "source": [
        "Pour l'affichage des images, la fonction `imshow` permet d'afficher une matrice 2D à une dimension en format float ou une matrice RVB avec 3 bandes. Il est important que les dimensions de la matrice soient dans l'ordre hauteur, largeur et bande."
      ]
    },
    {
      "cell_type": "code",
      "metadata": {},
      "source": [
        "import matplotlib.pyplot as plt\n",
        "fig, ax= plt.subplots(figsize=(6, 5))\n",
        "plt.imshow(img_rgbnir[0].data)\n",
        "plt.show()"
      ],
      "execution_count": null,
      "outputs": []
    },
    {
      "cell_type": "markdown",
      "metadata": {},
      "source": [
        "Pour un affichage à 3 bandes, les valeurs seront clippées entre 0 et 1, il est donc nécessaire de normaliser les valeurs avant l'affichage:"
      ]
    },
    {
      "cell_type": "code",
      "metadata": {},
      "source": [
        "import matplotlib.pyplot as plt\n",
        "fig, ax= plt.subplots(figsize=(6, 5))\n",
        "plt.imshow(img_rgbnir.data.transpose(1,2,0)/2500.0)\n",
        "plt.show()"
      ],
      "execution_count": null,
      "outputs": []
    },
    {
      "cell_type": "markdown",
      "metadata": {},
      "source": [
        "On remarquera les valeurs des axes `x` et `y` avec une origine en haut à gauche. Ceci est un référentiel purement matricielle (lignes et colonnes), il n'y a pas de géoréférence ici. Pour pallier à cette limitation, les librairies `rasterio` et `xarray` proposent une extension de la fonction `imshow` permettant d'afficher les coordonnées cartographiques ainsi qu'un contrôle la dynamique de l'image:"
      ]
    },
    {
      "cell_type": "code",
      "metadata": {},
      "source": [
        "import rioxarray as rxr\n",
        "fig, ax= plt.subplots(figsize=(6, 5))\n",
        "img_rgbnir.sel(band=[1,2,3]).plot.imshow(vmin=86, vmax=5000)\n",
        "ax.set_title('Imshow avec rioxarray')\n",
        "plt.show()"
      ],
      "execution_count": null,
      "outputs": []
    },
    {
      "cell_type": "markdown",
      "metadata": {},
      "source": [
        "<!--\n",
        "### Visualisation sur le Web\n",
        "\n",
        "Une des meilleures pratiques pour visualiser une image de grande taille est d'utiliser un service de type Web Mapping Service (WMS). Cependant, type de service nécessite une architecture client-serveur qui est plus complexe à mettre en place.\n",
        "\n",
        "Google Earth Engine offre des moyens de visualiser de la donnée locale:\n",
        "_Working with Local Geospatial Data_ — via [17. Geemap — Introduction to GIS Programming](https://geog-312.gishub.org/book/geospatial/geemap.html#working-with-local-geospatial-data)\n",
        "\n",
        "via [data/raster at main · opengeos/data](https://github.com/opengeos/data/tree/main/raster)\n",
        "\n",
        "\n",
        "\n",
        "### Visualisation 3D\n",
        "\n",
        "drapper une image satellite sur un DEM\n",
        "\n",
        "\n",
        "## Exercices de révision \n",
        "-->\n",
        "\n",
        "## Réhaussements visuels\n",
        "\n",
        "Le but du réhaussement visuel d'une image vise principalement à améliorer la qualité visuelle d'une image en améliorant le contraste, la dynamique ou la texture d'une image. De manière générale, ce réhaussement ne modifie pas la donnée d'origine mais est plutôt appliquée dynamiquement à l'affichage pour des fins d'inspection visuelle.\n",
        "\n",
        "### Statistiques d'une image\n",
        "\n",
        "On peut considérer un ensemble de statistique globales pour chacune des bandes d'une image:\n",
        "- valeurs minimales et maximales\n",
        "- valeurs moyennes, médianes et quantiles\n",
        "- écart-types, skewness et kurtosis \n",
        "Ces statistiques doivent être calculées pour chaque bande d'une image multispectrale.\n",
        "\n",
        "En ligne de commande, `gdalinfo` permet d'interroger rapidement un fichier image pour connaitre les statistiques de base:"
      ]
    },
    {
      "cell_type": "code",
      "metadata": {},
      "source": [
        "!gdalinfo -stats landsat7.tif"
      ],
      "execution_count": null,
      "outputs": []
    },
    {
      "cell_type": "markdown",
      "metadata": {},
      "source": [
        "Les librairies de base comme `xarray` et `numpy` peuvent facilement produire des statistiques comme avec la fonction [stats](https://rasterio.readthedocs.io/en/stable/api/rasterio.io.html#rasterio.io.BufferedDatasetWriter.stats):"
      ]
    },
    {
      "cell_type": "code",
      "metadata": {},
      "source": [
        "#| eval: false\n",
        "\n",
        "import rasterio as rio\n",
        "import numpy as np\n",
        "with rio.open('landsat7.tif') as src:\n",
        "    stats= src.stats()\n",
        "    print(stats)"
      ],
      "execution_count": null,
      "outputs": []
    },
    {
      "cell_type": "markdown",
      "metadata": {},
      "source": [
        "La librairie `xarray` donne accès à des fonctionnalités plus sophistiquées comme le calcul des quantiles:"
      ]
    },
    {
      "cell_type": "code",
      "metadata": {},
      "source": [
        "import rioxarray as riox\n",
        "with riox.open_rasterio('landsat7.tif', masked= True) as src:\n",
        "    print(src)\n",
        "quantiles = src.quantile(dim=['x','y'], q=[.025,.25,.5,.75,.975])\n",
        "quantiles"
      ],
      "execution_count": null,
      "outputs": []
    },
    {
      "cell_type": "markdown",
      "metadata": {},
      "source": [
        "#### Calcul de l'histogramme\n",
        "\n",
        "Le calcul d'un histogramme pour une image (une bande) permet d'avoir une vue plus détaillée de la répartition des valeurs radiométriques. Le calcul d'un histogramme nécessite minimalement de faire le choix d'une valeur du nombre de *bins* (ou de la largeur). Un *bin* est un intervalle de valeurs pour lequel on peut calculer le nombre de valeurs observées dans l'image. La fonction de base pour ce type de calcul est la fonction `numpy.histogram()`:"
      ]
    },
    {
      "cell_type": "code",
      "metadata": {},
      "source": [
        "import numpy as np\n",
        "array = np.random.randint(0,10,100) # 100 valeurs aléatoires entre 0 et 10\n",
        "hist, bin_limites = np.histogram(array, density=True)\n",
        "print('valeurs :',hist)\n",
        "print(';imites :',bin_limites)"
      ],
      "execution_count": null,
      "outputs": []
    },
    {
      "cell_type": "markdown",
      "metadata": {},
      "source": [
        "Le calcul se fait avec 10 intervalles par défaut."
      ]
    },
    {
      "cell_type": "code",
      "metadata": {},
      "source": [
        "plt.bar(bin_limites[:-1],hist)\n",
        "plt.show()"
      ],
      "execution_count": null,
      "outputs": []
    },
    {
      "cell_type": "markdown",
      "metadata": {},
      "source": [
        "Pour des besoins de visualisation, le calcul des valeurs extrêmes de l'histogramme peut aussi se faire via les quantiles comme discutés auparavant.\n",
        "\n",
        "##### Visualisation des histogrammes\n",
        "\n",
        "La librarie `rasterio` est probablement l'outil le plus simples pour visualiser rapidement des histogrammes sur une image multi-spectrale:"
      ]
    },
    {
      "cell_type": "code",
      "metadata": {},
      "source": [
        "import rasterio as rio\n",
        "from rasterio.plot import show_hist\n",
        "with rio.open('RGBNIR_of_S2A.tif') as src:\n",
        "  show_hist(src, bins=50, lw=0.0, stacked=False, alpha=0.3,histtype='stepfilled', title=\"Histogram\")"
      ],
      "execution_count": null,
      "outputs": []
    },
    {
      "cell_type": "markdown",
      "metadata": {},
      "source": [
        "### Réhaussements linéaires\n",
        "\n",
        "Le réhaussement linéaire (*linear stretch*) d'une image est la forme la plus simple de réhaussement, elle consiste 1) à optimiser les valeurs des pixels d'une image afin de maximiser la dynamique disponibles à l'affichage, ou 2) changer le format de stockage des valeurs (e.g. de 8 bit à 16 bit):\n",
        "\n",
        "$$ \\text{nouvelle valeur d'un pixel} = \\frac{\\text{valeur d'un pixel} - min_0}{max_0 - min_0}\\times (max_1 - min_1)+min_1$${#eq-rehauss-lin}\n",
        "\n",
        "Par cette opération, on passe de la dynamique de départ ($max_0 - min_0$) vers la dynamique cible ($max_1 - min_1$). Bien que cette opération semble triviale, il est important d'être conscient des trois contraintes suivantes:\n",
        "1. **Faire attention à la dynamique cible**, ainsi, pour sauvegarder une image en format 8 bit, on utilisera alors $max_1=255$ et $min_1=0$.\n",
        "2. **Préservation de la valeur de no data** : il faut faire attention à la valeur $min_1$ dans le cas d'une valeur présente pour *no_data*. Par exemple, si *no_data=0* alors il faut s'assurer que $min_1>0$.\n",
        "3. **Précision du calcul** : si possible réaliser la division ci-dessus en format *float*\n",
        "\n",
        "#### Cas des histogrammes asymétriques\n",
        "\n",
        "Dans certains cas, la distribution de valeurs est très asymétrique et présente une longue queue avec des valeurs extrêmes élevées. Le cas des images SAR est particulièrement représentatif de ce type de données. En effet, celles-ci peuvent présenter une distribution de valeurs de type exponentiel. Il est alors préférable d'utiliser des [percentiles](https://fr.wikipedia.org/wiki/Centile) au préalable afin d'explorer la forme de l'histogramme et la distribution des valeurs:"
      ]
    },
    {
      "cell_type": "code",
      "metadata": {},
      "source": [
        "NO_DATA_FLOAT= -999.0\n",
        "# on prend tous les pixels de la première bande\n",
        "values = img_SAR[0].values.flatten().astype(float)\n",
        "# on exclut les valeurs invalides\n",
        "values = values[~np.isnan(values)]\n",
        "# on exclut le no data\n",
        "values = values[values!=NO_DATA_FLOAT]\n",
        "# calcul des percentiles\n",
        "percentiles_position= (0,0.1,1,2,50,98,99,99.9,100)\n",
        "percentiles= dict(zip(percentiles_position, np.percentile(values, percentiles_position)))\n",
        "print(percentiles)"
      ],
      "execution_count": null,
      "outputs": []
    },
    {
      "cell_type": "markdown",
      "metadata": {},
      "source": [
        "La première observation que l'on peut faire est que la valeur médiane (`0.012`) est très faible, 50% des valeurs sont inférieures cette valeur alors que valeur maximale (`483`) est 10,000 fois plus élevée! Une façon de visualiser cette distribution de valeurs est d'utiliser [`boxplot`](https://matplotlib.org/stable/api/_as_gen/matplotlib.pyplot.boxplot.html) et [`violinplot`](https://matplotlib.org/stable/api/_as_gen/matplotlib.pyplot.violinplot.html) de la librairie `matplotlib`:"
      ]
    },
    {
      "cell_type": "code",
      "metadata": {},
      "source": [
        "fig, ax = plt.subplots(nrows=2, ncols=1, figsize=(6, 4), sharex=True)\n",
        "ax[0].set_title('Distribution de la bande 0 de img_SAR', fontsize='small')\n",
        "ax[0].grid(True)\n",
        "ax[0].violinplot(values, orientation  ='horizontal', \n",
        "                 quantiles =(0.01,0.02,0.50,0.98,0.99),\n",
        "                  showmeans=False,\n",
        "                  showmedians=True)\n",
        "ax[1].set_xlabel('Valeur des pixels')\n",
        "ax[1].grid(True)\n",
        "bplot = ax[1].boxplot(values, notch = True, orientation  ='horizontal')\n",
        "plt.tight_layout()\n",
        "plt.show()"
      ],
      "execution_count": null,
      "outputs": []
    },
    {
      "cell_type": "markdown",
      "metadata": {},
      "source": [
        "Afin de visualiser correctement l'histogramme, il faut se limiter à un interval de valeurs plus petit. Dans le code ci-dessous, on impose à la fonction histogramme de compter les valeurs de pixels dans des intervalles de valeurs fixés par la fonction `np.linspace(percentiles[0.1],percentiles[99.9], 50)` où `percentiles[0.1]` et `percentiles[99.9]` sont les $0.1\\%$ et $99.9\\%$ percentiles respectivement:"
      ]
    },
    {
      "cell_type": "code",
      "metadata": {},
      "source": [
        "hist, bin_edges = np.histogram(values, \n",
        "                                bins=np.linspace(percentiles[0.1], \n",
        "                                percentiles[99.9], 50), \n",
        "                                density=True)\n",
        "\n",
        "fig, ax = plt.subplots(nrows=2,ncols=1,figsize=(6, 5), sharex=True)\n",
        "ax[0].bar(bin_edges[:-1], \n",
        "                hist*(bin_edges[1]-bin_edges[0]), \n",
        "                width= (bin_edges[1]-bin_edges[0]), \n",
        "                edgecolor= 'w')\n",
        "ax[0].set_title(\"Distribution de probabilité (PDF)\")\n",
        "ax[0].set_ylabel(\"Densité de probabilité\")\n",
        "ax[0].grid(True)\n",
        "\n",
        "ax[1].plot(bin_edges[:-1], \n",
        "            hist.cumsum()*(bin_edges[1]-bin_edges[0]))\n",
        "ax[1].set_title(\"Distribution de probabilité cumulée (CDF)\")\n",
        "ax[1].set_xlabel(\"Valeur du pixel\")\n",
        "ax[1].set_ylabel(\"Probabilité cumulée\")\n",
        "ax[1].grid(True)\n",
        "plt.tight_layout()\n",
        "plt.show()                              "
      ],
      "execution_count": null,
      "outputs": []
    },
    {
      "cell_type": "markdown",
      "metadata": {},
      "source": [
        "Au niveau de l'affichage avec `matplotlib`, la dynamique peut être contrôlée directement via les paramètres `vmin` et `vmax` comme ceci: "
      ]
    },
    {
      "cell_type": "code",
      "metadata": {},
      "source": [
        "fig, ax = plt.subplots(nrows=2, ncols=2, figsize=(6, 5), sharex=True, sharey=True)\n",
        "[a.axis('off') for a in ax.flatten()]\n",
        "ax[0,0].imshow(img_SAR[0].values, vmin=percentiles[0], vmax=percentiles[100])\n",
        "ax[0,0].set_title(f\"0% - 100%={percentiles[0]:2.1f} - {percentiles[100]:2.1f}\")\n",
        "ax[0,1].imshow(img_SAR[0].values, vmin=percentiles[0.1], vmax=percentiles[99.9]) \n",
        "ax[0,1].set_title(f\"0.1% - 99.9%={percentiles[0.1]:2.1f} - {percentiles[99.9]:2.1f}\")\n",
        "ax[1,0].imshow(img_SAR[0].values, vmin=percentiles[1], vmax=percentiles[99]) \n",
        "ax[1,0].set_title(f\"1% - 99%={percentiles[1]:2.1f} - {percentiles[99]:2.1f}\")\n",
        "ax[1,1].imshow(img_SAR[0].values, vmin=percentiles[2], vmax=percentiles[98]) \n",
        "ax[1,1].set_title(f\"2% - 98%={percentiles[2]:2.1f} - {percentiles[98]:2.1f}\")\n",
        "plt.tight_layout()"
      ],
      "execution_count": null,
      "outputs": []
    },
    {
      "cell_type": "markdown",
      "metadata": {},
      "source": [
        "### Réhaussements non linéaires\n",
        "\n",
        "\n",
        "#### Réhaussement par fonctions\n",
        "<!--\n",
        "Calcul d'histogrammes, étirement, égalisation, styling\n",
        "-->\n",
        "Le réhaussenent par fonction consiste à appliquer une fonction non linéaire afin de modifier la dynamique de l'image. Par exemple, pour une image radar, une transformation populaire est dd'afficher les valeurs de rétrodiffusion en décibel (`dB`) via la fonction `log10()`."
      ]
    },
    {
      "cell_type": "code",
      "metadata": {},
      "source": [
        "percentiles_position= (0,0.1,1,2,50,98,99,99.9,100)\n",
        "values= np.log10(img_SAR[0]).data\n",
        "percentiles_db= dict(zip(percentiles_position, np.percentile(values, percentiles_position)))\n",
        "print(percentiles_db)"
      ],
      "execution_count": null,
      "outputs": []
    },
    {
      "cell_type": "markdown",
      "metadata": {},
      "source": [
        "Les boxplots on une bien meilleure distribution proche d'une distribution Gaussienne:"
      ]
    },
    {
      "cell_type": "code",
      "metadata": {},
      "source": [
        "#| echo: false\n",
        "fig, ax = plt.subplots(nrows=2, ncols=1, figsize=(6, 4), sharex=True)\n",
        "ax[0].set_title('Distribution de la bande 0 de img_SAR en dB', fontsize='small')\n",
        "ax[0].grid(True)\n",
        "ax[0].violinplot(values.flatten(), orientation  ='horizontal', \n",
        "                 quantiles =(0.01,0.02,0.50,0.98,0.99),\n",
        "                  showmeans=False,\n",
        "                  showmedians=True,\n",
        "                 showextrema = True)\n",
        "ax[1].set_xlabel('Valeur des pixels')\n",
        "ax[1].grid(True)\n",
        "bplot = ax[1].boxplot(values.flatten(), notch = True, orientation  ='horizontal')\n",
        "plt.tight_layout()\n",
        "plt.show()"
      ],
      "execution_count": null,
      "outputs": []
    },
    {
      "cell_type": "markdown",
      "metadata": {},
      "source": [
        "Ainsi que les images:"
      ]
    },
    {
      "cell_type": "code",
      "metadata": {},
      "source": [
        "#| echo: false\n",
        "fig, ax = plt.subplots(nrows=2, ncols=2, figsize=(6, 5), sharex=True, sharey=True)\n",
        "[a.axis('off') for a in ax.flatten()]\n",
        "ax[0,0].imshow(values, vmin=percentiles_db[0], vmax=percentiles_db[100])\n",
        "ax[0,0].set_title(f\"0% - 100%={percentiles_db[0]:2.1f} - {percentiles_db[100]:2.1f}\")\n",
        "ax[0,1].imshow(values, vmin=percentiles_db[0.1], vmax=percentiles_db[99.9]) \n",
        "ax[0,1].set_title(f\"0.1% - 99.9%={percentiles_db[0.1]:2.1f} - {percentiles_db[99.9]:2.1f}\")\n",
        "ax[1,0].imshow(values, vmin=percentiles_db[1], vmax=percentiles_db[99]) \n",
        "ax[1,0].set_title(f\"1% - 99%={percentiles_db[1]:2.1f} - {percentiles_db[99]:2.1f}\")\n",
        "ax[1,1].imshow(values, vmin=percentiles_db[2], vmax=percentiles_db[98]) \n",
        "ax[1,1].set_title(f\"2% - 98%={percentiles_db[2]:2.1f} - {percentiles_db[98]:2.1f}\")\n",
        "plt.tight_layout()"
      ],
      "execution_count": null,
      "outputs": []
    },
    {
      "cell_type": "markdown",
      "metadata": {},
      "source": [
        "<!--\n",
        "Exercise: trouver une autre transformation possible pour l'image SAR.\n",
        "-->\n",
        "#### Égalisation d'histogramme\n",
        "\n",
        "L'égalisation d'histogramme consiste à modifier les valeurs des pixels d'une image source de façon à ce que la distribution cumulée des valeurs (CDF) deviennent similaire à celle d'une image cible. La CDF (*Cumulative Distribution Function*) est simplement la somme cumulée des valeurs de l'histogramme:\n",
        "\n",
        "$$\n",
        "CDF_{source}(i)= \\frac{1}{K}\\sum_{j=0}^{j \\leq i} hist_{source}(j)\n",
        "$$\n",
        "avec $K$ choisit de façon à ce que la dernière valeur soit égale à 1 ($CDF_{source}(i_{max})=1$). De la même manière, $CDF_{cible}$ est la CDF d'une image cible. La formule générale pour l'égalisation d'histogramme est la suivante: \n",
        "$$\n",
        "j = CDF_{cible}^{-1}(CDF_{source}(i))\n",
        "$$\n",
        "\n",
        "On peut choisir $CDF_{cible}$ comme correspondant à une image où chaque valeur de pixel est équiprobable (d'où le terme *égalisation*), ce qui veut dire $hist_{cible}(j)=1/L$ avec $L$ égale au nombre de valeurs possibles dans l'image (par exemple $L=256$).\n",
        "$$\n",
        "j = L \\times CDF_{source}(i)\n",
        "$$\n",
        "On peut appliquer cette procédure sur l'image SAR en dB de la façon suivante:"
      ]
    },
    {
      "cell_type": "code",
      "metadata": {},
      "source": [
        "values= np.sort(np.log10(img_SAR[0].data.flatten()))\n",
        "cdf_x= np.linspace(values[0], values[-1], 1000)\n",
        "cdf_source= np.interp(cdf_x, values, np.arange(len(values))/len(values)*255)\n",
        "values_eq=np.interp(np.log10(img_SAR[0].data), cdf_x, cdf_source).astype('uint8')\n",
        "plt.imshow(values_eq)\n",
        "plt.axis('off')"
      ],
      "execution_count": null,
      "outputs": []
    },
    {
      "cell_type": "markdown",
      "metadata": {},
      "source": [
        "<!--\n",
        "Exercise: changer la CDF cible pour une Gaussienne\n",
        "-->\n",
        "\n",
        "#### Palettes de couleur\n",
        "\n",
        "Les palettes de couleurs sont appliquées dynamiquement à l'affichage sur une image à une seule bande. La librairie `matplotlib` contient un nombre important de [palettes](https://matplotlib.org/stable/users/explain/colors/colormaps.html)."
      ]
    },
    {
      "cell_type": "code",
      "metadata": {},
      "source": [
        "# | output: false\n",
        "from matplotlib import colormaps\n",
        "list(colormaps)"
      ],
      "execution_count": null,
      "outputs": []
    },
    {
      "cell_type": "markdown",
      "metadata": {},
      "source": [
        "Voici quelques exemples ci-dessous, les valeurs de l'image doivent être normalisées entre 0 et 1 ou entre 0 et 255 sinon les paramètres `vmin` et `vmax` doivent être spécifiés. On peut observer comment ces palettes révèlent les détails de l'image malgré une image originalement très sombre."
      ]
    },
    {
      "cell_type": "code",
      "metadata": {},
      "source": [
        "fig, ax = plt.subplots(nrows=2, ncols=2, figsize=(6, 5), sharex=True, sharey=True)\n",
        "[a.axis('off') for a in ax.flatten()]\n",
        "ax[0,0].imshow(img_SAR[0].data, vmin=percentiles[2], vmax=percentiles[98], cmap='jet')\n",
        "ax[0,0].set_title(f\"jet\")\n",
        "ax[0,1].imshow(img_SAR[0].data, vmin=percentiles[2], vmax=percentiles[98], cmap='hot')\n",
        "ax[0,1].set_title(f\"hot\")\n",
        "ax[1,0].imshow(img_SAR[0].data, vmin=percentiles[2], vmax=percentiles[98], cmap='hsv')\n",
        "ax[1,0].set_title(f\"hsv\")\n",
        "ax[1,1].imshow(img_SAR[0].data, vmin=percentiles[2], vmax=percentiles[98], cmap='terrain')\n",
        "ax[1,1].set_title(f\"terrain\")\n",
        "plt.tight_layout()"
      ],
      "execution_count": null,
      "outputs": []
    },
    {
      "cell_type": "markdown",
      "metadata": {},
      "source": [
        "Il peut être utile d'ajouter une barre de couleurs afin d'indiquer la correspondance entre les couleurs et les valeurs numériques:"
      ]
    },
    {
      "cell_type": "code",
      "metadata": {},
      "source": [
        "import matplotlib as mpl\n",
        "fig, ax = plt.subplots(figsize=(6, 6))\n",
        "cmap= mpl.colormaps.get_cmap('jet').with_extremes(under='white', over='magenta')\n",
        "h=plt.imshow(img_SAR[0].data, norm=mpl.colors.LogNorm(vmin=percentiles[2], vmax=percentiles[98]),\n",
        "                   cmap=cmap)\n",
        "fig.colorbar(h, ax=ax,  orientation='horizontal', label=\"Intensité\", extend='both')\n",
        "ax.axis('off') "
      ],
      "execution_count": null,
      "outputs": []
    },
    {
      "cell_type": "markdown",
      "metadata": {},
      "source": [
        "### Composés couleurs\n",
        "\n",
        "Le système visuel humain est sensible seulement à la partie visible du spectre électromagnétique qui compose les couleurs de l'arc-en-ciel du bleu au rouge. L'ensemble des couleurs du spectre visible peut être obtenu à partir du mélange de trois couleurs primaires (rouge, vert et bleu). Ce système de décomposition à trois couleurs est à la base de la plupart des systèmes de visualisation ou de représentation de l'information de couleur. Si on prend le cas des images Sentinel-2, 12 bandes sont disponibles, plusieurs composés couleurs sont donc possibles (voir le site de [Copernicus](https://custom-scripts.sentinel-hub.com/custom-scripts/sentinel-2/composites/)). Voici quelques exemples possibles, chaque composé mettant en valeur des propriétés différentes de la surface."
      ]
    },
    {
      "cell_type": "code",
      "metadata": {},
      "source": [
        "import rioxarray as rxr\n",
        "fig, ax= plt.subplots(nrows=2, ncols= 2, figsize=(8, 6), sharex=True, sharey=True)\n",
        "img_s2.sel(band=[4,3,2]).plot.imshow(vmin=86, vmax=4000, ax=ax[0,0])\n",
        "ax[0,0].set_title('RVB')\n",
        "img_s2.sel(band=[8,3,2]).plot.imshow(vmin=86, vmax=4000, ax=ax[0,1])\n",
        "ax[0,1].set_title('NIR,V,B')\n",
        "img_s2.sel(band=[12,8,4]).plot.imshow(vmin=86, vmax=4000, ax=ax[1,0])\n",
        "ax[1,0].set_title('SWIR2,NIR,R')\n",
        "img_s2.sel(band=[12,11,4]).plot.imshow(vmin=86, vmax=4000, ax=ax[1,1])\n",
        "ax[1,1].set_title('SWIR2,SWIR1,NIR')\n",
        "plt.tight_layout()\n",
        "plt.show()"
      ],
      "execution_count": null,
      "outputs": []
    }
  ],
  "metadata": {
    "kernelspec": {
      "display_name": "Python 3",
      "language": "python",
      "name": "python3"
    }
  },
  "nbformat": 4,
  "nbformat_minor": 4
}