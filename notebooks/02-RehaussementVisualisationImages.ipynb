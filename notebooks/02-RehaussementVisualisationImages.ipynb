{
  "cells": [
    {
      "cell_type": "markdown",
      "metadata": {},
      "source": [
        "---\n",
        "jupyter: python3\n",
        "execute:\n",
        "  echo: true\n",
        "  eval: false\n",
        "  message: false\n",
        "  warning: false\n",
        "---\n",
        "\n",
        "# Réhaussement et visualisation d'images {#sec-chap02}\n",
        "\n",
        "## Préambule\n",
        "Dans ce chapitre, nous abordons quelques techniques de réhaussement et de visualisation d'images. Ce chapitre est aussi disponible sous la forme d'un notebook Python:\n",
        "[![](https://colab.research.google.com/assets/colab-badge.svg)](https://colab.research.google.com/github/sfoucher/TraitementImagesPythonVol1/blob/main/notebooks/02-RehaussementVisualisationImages.ipynb){target=\"_blank\"} \n",
        "\n",
        "Les librairies qui vont être explorées dans ce chapitre sont les suivantes:\n",
        "* SciPy \n",
        "* NumPy \n",
        "* OpenCV\n",
        "* RasterIO \n",
        "* Geemap\n",
        "* [rioxarray](https://corteva.github.io/rioxarray/stable/index.html)\n",
        "* xarray \n",
        "\n",
        "\n",
        "\n",
        "Dans l'environnement Google Colab, seul `rioxarray` et GDAL doivent être installés:"
      ]
    },
    {
      "cell_type": "code",
      "metadata": {},
      "source": [
        "%%capture\n",
        "!apt-get update\n",
        "!apt-get install gdal-bin libgdal-dev\n",
        "!pip install -q rioxarray\n",
        "!pip install -qU \"geemap[workshop]\""
      ],
      "execution_count": null,
      "outputs": []
    },
    {
      "cell_type": "markdown",
      "metadata": {},
      "source": [
        "### Images utilisées\n",
        "\n",
        "Nous allons utilisés ces deux images dans ce chapitre:"
      ]
    },
    {
      "cell_type": "code",
      "metadata": {},
      "source": [
        "!wget https://github.com/sfoucher/TraitementImagesPythonVol1/raw/refs/heads/main/data/chapitre01/subset_RGBNIR_of_S2A_MSIL2A_20240625T153941_N0510_R011_T18TYR_20240625T221903.tif -O RGBNIR_of_S2A.tif\n",
        "!wget https://github.com/sfoucher/opengeos-data/raw/refs/heads/main/raster/landsat7.tif -O landsat7.tif"
      ],
      "execution_count": null,
      "outputs": []
    },
    {
      "cell_type": "markdown",
      "metadata": {},
      "source": [
        "## Réhaussements visuels\n",
        "\n",
        "Le but du réhaussement visuel d'une image vise principalement à améliorer la qualité visuelle d'une image en améliorant le contraste, la dynamique ou la texture d'une image. De manière générale, ce réhaussement ne modifie pas la donnée d'origine mais est plutôt appliquée dynamiquement à l'affichage pour des fins d'inspection visuelle.\n",
        "\n",
        "### Statistiques d'une image\n",
        "\n",
        "On peut considérer un ensemble de statistique globales pour chacune des bandes d'une image:\n",
        "- valeurs minimales et maximales\n",
        "- valeurs moyennes, médianes et quantiles\n",
        "- écart-types, skewness et kurtosis \n",
        "Ces statistiques doivent être calculées pour chaque bande d'une image multispectrale.\n",
        "\n",
        "En ligne de commande, `gdalinfo` permet d'interroger rapidement un fichier image pour connaitre les statistiques de base:"
      ]
    },
    {
      "cell_type": "code",
      "metadata": {},
      "source": [
        "#| lst-label: lst-gdalstats\n",
        "#| lst-cap: Statistiques d'une image avec gdal\n",
        "#| eval: true\n",
        "\n",
        "!gdalinfo -stats landsat7.tif"
      ],
      "execution_count": null,
      "outputs": []
    },
    {
      "cell_type": "markdown",
      "metadata": {},
      "source": [
        "Les librairies de base comme `xarray` et `numpy` peuvent facilement produire des statistiques comme avec la fonction [stats](https://rasterio.readthedocs.io/en/stable/api/rasterio.io.html#rasterio.io.BufferedDatasetWriter.stats):"
      ]
    },
    {
      "cell_type": "code",
      "metadata": {},
      "source": [
        "#| eval: false\n",
        "\n",
        "import rasterio as rio\n",
        "import numpy as np\n",
        "with rio.open('landsat7.tif') as src:\n",
        "    stats= src.stats()\n",
        "    print(stats)"
      ],
      "execution_count": null,
      "outputs": []
    },
    {
      "cell_type": "markdown",
      "metadata": {},
      "source": [
        "La librairie `xarray` donne accès à des fonctionnalités plus sophistiquées comme le calcul des quantiles:"
      ]
    },
    {
      "cell_type": "code",
      "metadata": {},
      "source": [
        "#| eval: true\n",
        "\n",
        "import rioxarray as riox\n",
        "with riox.open_rasterio('landsat7.tif', masked= True) as src:\n",
        "    print(src)\n",
        "quantiles = src.quantile(dim=['x','y'], q=[.025,.25,.5,.75,.975])\n",
        "quantiles"
      ],
      "execution_count": null,
      "outputs": []
    },
    {
      "cell_type": "markdown",
      "metadata": {},
      "source": [
        "#### Calcul de l'histogramme\n",
        "\n",
        "Le calcul d'un histogramme pour une image (une bande) permet d'avoir une vue plus détaillée de la répartition des valeurs radiométriques. Le calcul d'un histogramme nécessite minimalement de faire le choix d'une valeur du nombre de *bins* (ou de la largeur). Un *bin* est un intervalle de valeurs pour lequel on peut calculer le nombre de valeurs observées dans l'image. La fonction de base pour ce type de calcul est la fonction `numpy.histogram()`:"
      ]
    },
    {
      "cell_type": "code",
      "metadata": {},
      "source": [
        "#| eval: true\n",
        "import numpy as np\n",
        "array = np.random.randint(0,10,100) # 100 valeurs aléatoires entre 0 et 10\n",
        "hist, bin_limites = np.histogram(array, density=True)\n",
        "print('valeurs :',hist)\n",
        "print(';imites :',bin_limites)"
      ],
      "execution_count": null,
      "outputs": []
    },
    {
      "cell_type": "markdown",
      "metadata": {},
      "source": [
        "Le calcul se fait avec 10 intervalles par défaut.\n",
        "\n",
        "Pour des besoins de visualisation, le calcul des valeurs extrêmes de l'histogramme peut aussi se faire via les quantiles comme discutés auparavant.\n",
        "\n",
        "##### Visualisation des histogrammes\n",
        "\n",
        "La librarie `rasterio` est probablement l'outil le plus simples pour visualiser rapidement des histogrammes sur une image multi-spectrale:"
      ]
    },
    {
      "cell_type": "code",
      "metadata": {},
      "source": [
        "#| eval: true\n",
        "import rasterio as rio\n",
        "from rasterio.plot import show_hist\n",
        "with rio.open('RGBNIR_of_S2A.tif') as src:\n",
        "  show_hist(src, bins=50, lw=0.0, stacked=False, alpha=0.3,histtype='stepfilled', title=\"Histogram\")"
      ],
      "execution_count": null,
      "outputs": []
    },
    {
      "cell_type": "markdown",
      "metadata": {},
      "source": [
        "### Réhaussements linéaires\n",
        "\n",
        "Le réhaussement linéaire d'une image est la forme la plus simple de réhaussement, elle consiste 1) à optimiser les valeurs des pixels d'une image afin de maximiser la dynamique disponibles à l'affichage, ou 2) changer le format de stockage des valeurs (e.g. de 8 bit à 16 bit):\n",
        "\n",
        "$$ \\text{nouvelle valeur d'un pixel} = \\frac{\\text{valeur d'un pixel} - min_0}{max_0 - min_0}\\times (max_1 - min_1)+min_1$$\n",
        "Par cette opération, on passe de la dynamique de départ ($max_0 - min_0$) vers la dynamique cible ($max_1 - min_1$). Bien que cette opération semble triviale, il est important d'être conscient des trois contraintes suivantes:\n",
        "1. **Faire attention à la dynamique cible**, ainsi, pour sauvegarder une image en format 8 bit, on utilisera alors $max_1=255$ et $min_1=0$.\n",
        "2. **Préservation de la valeur de no data** : il faut faire attention à la valeur $min_1$ dans le cas d'une valeur présente pour *no_data*. Par exemple, si *no_data=0* alors il faut s'assurer que $min_1>0$.\n",
        "3. **Précision du calcul** : si possible réaliser la division ci-dessus en format *float*\n",
        "\n",
        "### Réhaussements non linéaires\n",
        "\n",
        "\n",
        "Calcul d'histogrammes, étirement, égalisation, styling\n",
        "\n",
        "### Composés couleurs\n",
        "\n",
        "Le système visuel humain est sensible seulement à la partie visible du spectre électromagnétique qui compose les couleurs de l'arc-en-ciel du bleu au rouge. L'ensemble des couleurs du spectre visible peut être obtenu à partir du mélange de trois couleurs primaires (rouge, vert et bleu). Ce système de décomposition à trois couleurs est à la base de la plupart des systèmes de visualisation ou de représentation de l'information de couleur. On peut trouver des variantes comme le système HSV (*Hue-Saturation-Value*) utilisé en encodage de données vidéos.\n",
        "\n",
        "## Visualisation\n",
        "\n",
        "### Visualisation en Python\n",
        "\n",
        "Il faut d'entrée mentionner que Python n'est pas vraiment fait pour visualiser de la donnée de grande taille, le niveau d'interactivité est aussi plus limité. Néanmoins, il est possible de visualiser de petites images avec la librairie Matplotlib. \n",
        "\n",
        "### Outils de visualisation\n",
        "\n",
        "Il existe plusieurs outils gratuits de visualisation d'une image satellite, on peut mentionner les deux principaux:\n",
        "- QGIS\n",
        "- ESA Snap\n",
        "\n",
        "\n",
        "### Visualisation sur le Web\n",
        "\n",
        "Une des meilleures pratiques pour visualiser une image de grande taille est d'utiliser un service de type Web Mapping Service (WMS). Cependant, type de service nécessite une architecture client-serveur qui est plus complexe à mettre en place.\n",
        "\n",
        "Google Earth Engine offre des moyens de visualiser de la donnée locale:\n",
        "🔖 _Working with Local Geospatial Data_ — via [17. Geemap — Introduction to GIS Programming](https://geog-312.gishub.org/book/geospatial/geemap.html#working-with-local-geospatial-data)\n",
        "\n",
        "🔖 __ — via [data/raster at main · opengeos/data](https://github.com/opengeos/data/tree/main/raster)\n",
        "\n",
        "\n",
        "\n",
        "### Visualisation 3D\n",
        "\n",
        "drapper une image satellite sur un DEM\n",
        "\n",
        "\n",
        "## Quiz de révision du chapitre\n",
        "\n",
        "## Exercices de révision \n"
      ]
    }
  ],
  "metadata": {
    "kernelspec": {
      "name": "python3",
      "language": "python",
      "display_name": "Python 3 (ipykernel)",
      "path": "/home/sfoucher/miniconda3/share/jupyter/kernels/python3"
    }
  },
  "nbformat": 4,
  "nbformat_minor": 4
}