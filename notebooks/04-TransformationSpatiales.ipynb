{
  "cells": [
    {
      "cell_type": "markdown",
      "metadata": {},
      "source": [
        "---\n",
        "jupyter: python3\n",
        "execute:\n",
        "  echo: true\n",
        "  eval: false\n",
        "  message: false\n",
        "  warning: false\n",
        "---\n",
        "\n",
        "# Transformations spatiales {#sec-chap04}\n",
        "\n",
        "\n",
        "\n",
        "## :rocket: Préambule\n",
        "### :dart: Objectifs\n",
        "Dans ce chapitre, nous abordons quelques techniques de traitement d'images dans le domaine spatial uniquement. Ce chapitre est aussi disponible sous la forme d'un notebook Python sur Google Colab:\n",
        "\n",
        "[![](https://colab.research.google.com/assets/colab-badge.svg)](https://colab.research.google.com/github/sfoucher/TraitementImagesPythonVol1/blob/main/notebooks/04-TransformationSpatiales.ipynb){target=\"_blank\"} \n",
        "\n",
        "### Librairies\n",
        "Les librairies qui vont être explorées dans ce chapitre sont les suivantes:\n",
        "* SciPy \n",
        "\n",
        "* NumPy \n",
        "\n",
        "* OpenCV\n",
        "\n",
        "* RasterIO \n",
        "\n",
        "* Geemap\n",
        "\n",
        "* [rioxarray](https://corteva.github.io/rioxarray/stable/index.html)\n",
        "\n",
        "* xarray \n",
        "\n",
        "Dans l'environnement Google Colab, seul `rioxarray` doit être installés:"
      ]
    },
    {
      "cell_type": "code",
      "metadata": {},
      "source": [
        "%%capture\n",
        "!pip install -qU rioxarray xrscipy"
      ],
      "execution_count": null,
      "outputs": []
    },
    {
      "cell_type": "markdown",
      "metadata": {},
      "source": [
        "Vérifier les importations:"
      ]
    },
    {
      "cell_type": "code",
      "metadata": {},
      "source": [
        "#| eval: true\n",
        "import numpy as np\n",
        "import rioxarray as rxr\n",
        "from scipy import signal\n",
        "import xarray as xr\n",
        "import xrscipy"
      ],
      "execution_count": null,
      "outputs": []
    },
    {
      "cell_type": "markdown",
      "metadata": {},
      "source": [
        "### Images utilisées\n",
        "\n",
        "Nous allons utilisez les images suivantes dans ce chapitre:"
      ]
    },
    {
      "cell_type": "code",
      "metadata": {},
      "source": [
        "!wget https://github.com/sfoucher/TraitementImagesPythonVol1/raw/refs/heads/main/data/chapitre01/subset_RGBNIR_of_S2A_MSIL2A_20240625T153941_N0510_R011_T18TYR_20240625T221903.tif -O RGBNIR_of_S2A.tif\n",
        "!wget https://github.com/sfoucher/opengeos-data/raw/refs/heads/main/raster/landsat7.tif -O landsat7.tif\n",
        "!wget https://github.com/sfoucher/opengeos-data/raw/refs/heads/main/images/berkeley.jpg -O berkeley.jpg"
      ],
      "execution_count": null,
      "outputs": []
    },
    {
      "cell_type": "markdown",
      "metadata": {},
      "source": [
        "Vérifiez que vous êtes capable de les lire :"
      ]
    },
    {
      "cell_type": "code",
      "metadata": {},
      "source": [
        "#| eval: true\n",
        "#| output: false\n",
        "\n",
        "with rxr.open_rasterio('berkeley.jpg', mask_and_scale= True) as img_rgb:\n",
        "    print(img_rgb)\n",
        "with rxr.open_rasterio('RGBNIR_of_S2A.tif', mask_and_scale= True) as img_rgbnir:\n",
        "    print(img_rgbnir)"
      ],
      "execution_count": null,
      "outputs": []
    },
    {
      "cell_type": "markdown",
      "metadata": {},
      "source": [
        "## Analyse fréquentielle\n",
        "\n",
        "L'analyse fréquentielle, issue du traitement du signal, permet d'avoir un autre point de vue sur les données à partir de ses composantes harmoniques. La modifications des composantes de Fourier modifie l'ensemble de l'image et permet de corriger des problèmes systématiques comme des artefacts ou du bruit de capteur.\n",
        "\n",
        "### La transformée de Fourier\n",
        "\n",
        "La transformée de Fourier permet de transformer une image dans un espace fréquentielle. Cette transformée est complètement reversible. Dans le cas des images numériques, on parle de `2D-FFT` (*2D-Fast Fourier Transform*). \n",
        "\n",
        "Dans le cas d'un signal périodique:"
      ]
    },
    {
      "cell_type": "code",
      "metadata": {},
      "source": [
        "#| eval: true\n",
        "arr = xr.DataArray(np.sin(np.linspace(0, 15.7, 30)) ** 2,\n",
        "                   dims=('x'), coords={'x': np.linspace(0, 5, 30)})"
      ],
      "execution_count": null,
      "outputs": []
    },
    {
      "cell_type": "markdown",
      "metadata": {},
      "source": [
        "### Filtrage fréquentielle\n",
        "\n",
        "\n",
        "### L'aliasing\n",
        "\n",
        "## Filtrage d'image\n",
        "\n",
        "Le filtrage d'image a plusieurs objectifs en télédétection:\n",
        "\n",
        "1. La réduction du bruit afin d'améliorer la résolution radiométrique et améliorer la lisibilité de l'image.\n",
        "\n",
        "2. Le réhaussement de l'image afin d'améliorer le contraste ou faire ressortir les contours.\n",
        "\n",
        "3. La production de nouvelles caractéristiques: c.à.d dériver de nouvelles images mettant en valeur certaines informations dans l'image comme la texture, les contours, etc.\n",
        "\n",
        "Il existe de nombreuses méthodes de filtrage dans la littérature, on peut rassembler ces filtres en quatre grandes catégories: \n",
        "\n",
        "1. Le filtrage peut-être global ou local, c.à.d prendre en compte toute l'image pour filtrer (ex: filtrage par Fourier) ou seulement localement avec une fenêtre ou un voisinage local.  \n",
        "\n",
        "2. La fonction de filtrage peut-être linéaire ou non linéaire.\n",
        "\n",
        "3. La fonction de filtrage peut être stationnaire ou adaptative\n",
        "\n",
        "4. Le filtrage peut-être mono-échelle ou multi-échelles \n",
        "\n",
        "### Filtrage linéaire stationnaire\n",
        "\n",
        "Un filtrage linéaire stationnaire consiste à appliquer une même pondération locale des valeurs des pixels dans une fenêtre glissante. La taille de cette fenêtre est généralement impaire (3,5, etc.) afin de définir une position centrale et une fenêtre symétrique.\n",
        " \n",
        ":::{.callout-note}\n",
        "Mettre une figure ici\n",
        ":::\n",
        "\n",
        "Le filtre le plus simple est certainement le filtre moyen qui consiste à appliquer le même poids uniforme dans la fenêtre glissante.\n",
        "\n",
        "$$\n",
        "F= \\frac{1}{25}\\left[\n",
        "\\begin{array}{c|c|c|c|c}\n",
        "1 & 1 & 1 & 1 & 1 \\\\\n",
        "\\hline\n",
        "1 & 1 & 1 & 1 & 1 \\\\\n",
        "\\hline\n",
        "1 & 1 & 1 & 1 & 1 \\\\\n",
        "\\hline\n",
        "1 & 1 & 1 & 1 & 1 \\\\\n",
        "\\hline\n",
        "1 & 1 & 1 & 1 & 1\n",
        "\\end{array}\n",
        "\\right]\n",
        "$$\n",
        "\n",
        "En python, on dispose des fonctions `rolling` et `sliding_window` définis dans la librairie numpy. Par exemple pour le cas du filtre moyen on peut construire une nouvelle vue de l'image avec deux nouvelles  dimensions `x_win` et `y_win`:"
      ]
    },
    {
      "cell_type": "code",
      "metadata": {},
      "source": [
        "#| eval: true\n",
        "import rioxarray as rxr\n",
        "rolling_win = img_rgb.rolling(x=5, y=5,  min_periods= 3, center= True).construct(x=\"x_win\", y=\"y_win\", keep_attrs= True)\n",
        "print(rolling_win[0,0,1,...])\n",
        "print(rolling_win.shape)"
      ],
      "execution_count": null,
      "outputs": []
    },
    {
      "cell_type": "markdown",
      "metadata": {},
      "source": [
        "L'avantage de cette approche est qu'il n'y a pas d'utilisation inutile de la mémoire. Noter les `nan` sur les bords de l'image car la fenêtre déborde sur les bordures de l'image. Par la suite un opérateur moyenne peut être appliqué."
      ]
    },
    {
      "cell_type": "code",
      "metadata": {},
      "source": [
        "#| eval: true\n",
        "filtre_moyen= rolling_win.mean(dim= ['x_win', 'y_win'], skipna= True)\n",
        "#print(median_filter)\n",
        "filtre_moyen.astype('int').plot.imshow(rgb=\"band\")"
      ],
      "execution_count": null,
      "outputs": []
    },
    {
      "cell_type": "markdown",
      "metadata": {},
      "source": [
        ":::{.callout-note}\n",
        "Filtre de Sobel, filtre Prewitt\n",
        ":::\n",
        "\n",
        "#### Filtrage par convolution\n",
        "\n",
        "La façon la plus efficace d'appliquer un filtre linéaire est d'appliquer une convolution. La convolution est généralement très efficace car elle est peut être calculée dans le domaine fréquentielle."
      ]
    },
    {
      "cell_type": "code",
      "metadata": {},
      "source": [
        "#| eval: true\n",
        "\n",
        "scharr = np.array([[ -3-3j, 0-10j,  +3 -3j],\n",
        "                   [-10+0j, 0+ 0j, +10 +0j],\n",
        "                   [ -3+3j, 0+10j,  +3 +3j]]) # Gx + j*Gy\n",
        "print(img_rgb.isel(band=0).shape)\n",
        "grad = signal.convolve2d(img_rgb.isel(band=0), scharr, boundary='symm', mode='same')\n",
        "# on reconstruit un xarray à partir du résultat:\n",
        "arr = xr.DataArray(np.abs(grad), dims=(\"y\", \"x\"), coords= {'x': img_rgb.coords['x'], 'y': img_rgb.coords['y'], 'spatial_ref': 0})\n",
        "print(arr)\n",
        "arr.plot.imshow()"
      ],
      "execution_count": null,
      "outputs": []
    },
    {
      "cell_type": "markdown",
      "metadata": {},
      "source": [
        "#### Filtrage par une couche convolutionnelle\n",
        "\n",
        "Une couche convolutionnelle est simplement un ensemble de filtres appliqués sur la donnée d'entrée. Ce type de filtrage est à la base des réseaux dits convolutionnels qui seront abordés dans le tome 2.\n",
        "\n",
        "### Filtrage adaptatif\n",
        "\n",
        "Les filtrages adaptatifs consistent à appliquer un traitement en fonction du contenu local d'une image. Le filtre n'est alors plus stationnaire et sa réponse peut varier en fonction du contenu local.\n",
        "\n",
        "## Segmentation {#sec-043}\n",
        "\n",
        "## Vectorisation et rasterisation {#sec-044}\n",
        "\n",
        "## Analyse de terrain {#sec-045}\n",
        "\n",
        "### Élévation {#sec-0451}\n",
        "### Pente {#sec-0452}\n",
        "### Ombrage{#sec-0453}\n",
        "### Visibilité {#sec-0454}\n",
        "\n",
        "\n",
        "## Quiz de révision du chapitre {#sec-046}"
      ]
    },
    {
      "cell_type": "code",
      "metadata": {
        "message": false,
        "results": "asis"
      },
      "source": [
        "#| label: quizChapitre06\n",
        "#| echo: false\n",
        "#| eval: false\n",
        "#| warning: false\n",
        "\n",
        "source(\"code_complementaire/QuizzFunctions.R\")\n",
        "Chap06Quiz <- quizz(\"quiz/Chap06.yml\", \"Chap06\")\n",
        "render_quizz(Chap06Quiz)"
      ],
      "execution_count": null,
      "outputs": []
    },
    {
      "cell_type": "markdown",
      "metadata": {},
      "source": [
        "## Exercices de révision {#sec-047}"
      ]
    }
  ],
  "metadata": {
    "kernelspec": {
      "name": "python3",
      "language": "python",
      "display_name": "Python 3 (ipykernel)",
      "path": "/home/sfoucher/miniconda3/share/jupyter/kernels/python3"
    }
  },
  "nbformat": 4,
  "nbformat_minor": 4
}