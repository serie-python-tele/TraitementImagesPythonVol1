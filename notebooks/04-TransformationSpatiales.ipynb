{
  "cells": [
    {
      "cell_type": "markdown",
      "metadata": {},
      "source": [
        "---\n",
        "jupyter: python3\n",
        "from: markdown+emoji\n",
        "execute:\n",
        "  echo: true\n",
        "  eval: true\n",
        "  message: false\n",
        "  warning: false\n",
        "---\n",
        "\n",
        "# Transformations spatiales {#sec-chap04}\n",
        "\n",
        "## :rocket: Préambule\n",
        "\n",
        "Assurez-vous de lire ce préambule avant d'exécutez le reste du notebook.\n",
        "\n",
        "### :dart: Objectifs\n",
        "\n",
        "Dans ce chapitre, nous abordons quelques techniques de traitement d'images dans le domaine spatial uniquement. Ce chapitre est aussi disponible sous la forme d'un notebook Python sur Google Colab:\n",
        "\n",
        "[![](images/colab.png)](https://colab.research.google.com/github/sfoucher/TraitementImagesPythonVol1/blob/main/notebooks/04-TransformationSpatiales.ipynb)\n",
        "\n",
        "### Librairies\n",
        "\n",
        "Les librairies utilisées dans ce chapitre sont les suivantes:\n",
        "\n",
        "-   [SciPy -](https://scipy.org/)\n",
        "\n",
        "-   [NumPy -](https://numpy.org/)\n",
        "\n",
        "-   [opencv-python · PyPI](https://pypi.org/project/opencv-python/)\n",
        "\n",
        "-   [scikit-image](https://scikit-image.org/)\n",
        "\n",
        "-   [Rasterio](https://rasterio.readthedocs.io/en/stable/)\n",
        "\n",
        "-   [Xarray](https://docs.xarray.dev/en/stable/)\n",
        "\n",
        "-   [rioxarray](https://corteva.github.io/rioxarray/stable/index.html)\n",
        "\n",
        "Dans l'environnement Google Colab, seul `rioxarray` doit être installés:"
      ]
    },
    {
      "cell_type": "code",
      "metadata": {},
      "source": [
        "%%capture\n",
        "!pip install -qU matplotlib rioxarray xrscipy scikit-image"
      ],
      "execution_count": null,
      "outputs": []
    },
    {
      "cell_type": "markdown",
      "metadata": {},
      "source": [
        "Vérifier les importations:"
      ]
    },
    {
      "cell_type": "code",
      "metadata": {},
      "source": [
        "import numpy as np\n",
        "import numpy.fft\n",
        "import rioxarray as rxr\n",
        "from scipy import signal, ndimage\n",
        "import xarray as xr\n",
        "import xrscipy\n",
        "import matplotlib.pyplot as plt\n",
        "from skimage import data, measure, graph, segmentation, color\n",
        "from skimage.color import rgb2gray\n",
        "from skimage.segmentation import slic, mark_boundaries\n",
        "import pandas as pd"
      ],
      "execution_count": null,
      "outputs": []
    },
    {
      "cell_type": "markdown",
      "metadata": {},
      "source": [
        "### Images utilisées\n",
        "\n",
        "Nous allons utilisez les images suivantes dans ce chapitre:"
      ]
    },
    {
      "cell_type": "code",
      "metadata": {},
      "source": [
        "#| eval: false\n",
        "%%capture\n",
        "import gdown\n",
        "\n",
        "gdown.download('https://drive.google.com/uc?export=download&confirm=pbef&id=1a6Ypg0g1Oy4AJt9XWKWfnR12NW1XhNg_', output= 'RGBNIR_of_S2A.tif')\n",
        "gdown.download('https://drive.google.com/uc?export=download&confirm=pbef&id=1a4PQ68Ru8zBphbQ22j0sgJ4D2quw-Wo6', output= 'landsat7.tif')\n",
        "gdown.download('https://drive.google.com/uc?export=download&confirm=pbef&id=1_zwCLN-x7XJcNHJCH6Z8upEdUXtVtvs1', output= 'berkeley.jpg')\n",
        "gdown.download('https://drive.google.com/uc?export=download&confirm=pbef&id=1dM6IVqjba6GHwTLmI7CpX8GP2z5txUq6', output= 'SAR.tif')"
      ],
      "execution_count": null,
      "outputs": []
    },
    {
      "cell_type": "markdown",
      "metadata": {},
      "source": [
        "Vérifiez que vous êtes capable de les lire :"
      ]
    },
    {
      "cell_type": "code",
      "metadata": {},
      "source": [
        "#| output: false\n",
        "\n",
        "with rxr.open_rasterio('berkeley.jpg', mask_and_scale= True) as img_rgb:\n",
        "    print(img_rgb)\n",
        "with rxr.open_rasterio('RGBNIR_of_S2A.tif', mask_and_scale= True) as img_rgbnir:\n",
        "    print(img_rgbnir)\n",
        "with rxr.open_rasterio('SAR.tif', mask_and_scale= True) as img_SAR:\n",
        "    print(img_SAR)"
      ],
      "execution_count": null,
      "outputs": []
    },
    {
      "cell_type": "markdown",
      "metadata": {},
      "source": [
        "## Analyse fréquentielle\n",
        "\n",
        "L'analyse fréquentielle, issue du traitement du signal, permet d'avoir un autre point de vue sur les données à partir de ses composantes harmoniques. La modifications de ces composantes de Fourier modifie l'ensemble de l'image et permet de corriger des problèmes systématiques comme des artefacts ou du bruit de capteur. Bien que ce domaine soit un peu éloigné de la télédétection, les images issues des capteurs sont toutes sujettes à des étapes de traitement du signal et il faut donc en connaître les grands principes afin de pouvoir comprendre certains enjeux lors des traitements.\n",
        "\n",
        "### La transformée de Fourier\n",
        "\n",
        "La transformée de Fourier permet de transformer une image dans un espace fréquentielle. Cette transformée est complètement reversible. Dans le cas des images numériques, on parle de `2D-DFT` (*2D-Discrete Fourier Transform*) qui est un algorithme optimisé pour le calcul fréquentiel [@Cooley-1965]. La *1D-DFT* peu s'écrire simplement comme une projection sur une série d'exponentielles complexes:\n",
        "\n",
        "$$X[k] = \\sum_{n=0 \\ldots N-1} x[n] \\times \\exp(-j \\times 2\\pi \\times k \\times n/N))$$ {#eq-dft}\n",
        "\n",
        "La transformée inverse prend une forme similaire:\n",
        "\n",
        "$$x[k] = \\frac{1}{N}\\sum_{n=0 \\ldots N-1} X[n] \\times \\exp(j \\times 2\\pi \\times k \\times n/N))$$ {#eq-idft}\n",
        "\n",
        "Le signal d'origine est donc reconstruit à partir d'une somme de sinusoïdes complexes $\\exp(j2\\pi \\frac{k}{N}n))$ de fréquence $k/N$. Noter qu'à partir de $k=N/2$, les sinusoïdes se répètent à un signe près et forme un miroir des composantes, la convention est alors de mettre ces composantes dans une espace négatif $[-N/2,\\ldots,-1]$.\n",
        "\n",
        "Dans le cas d'un simple signal périodique à une dimension avec une fréquence de 4/16 (donc 4 périodes sur 16) on obtient deux pics de fréquence à la position de 4 cycles observés sur $N=16$ observations. Les puissances de Fourier sont affichés dans un espace fréquentiel en cycles par unité d'espacement de l'échantillon (avec zéro au début) variant entre -1 et +1. Par exemple, si l'espacement des échantillons est en secondes, l'unité de fréquence est cycles/seconde (ou Hz). Dans le cas de N échantillons, le pic sera observé à la fréquence $+/- 4/16=0.25$ cycles/secondes. La fréquence d'échantillonnage $F_s$ du signal a aussi beaucoup d'importance aussi et doit être au moins a deux fois la plus haute fréquence observée (ici $F_s > 0.5$) sinon un phénomène de repliement appelé aliasing sera observé."
      ]
    },
    {
      "cell_type": "code",
      "metadata": {},
      "source": [
        "import math\n",
        "Fs= 2.0\n",
        "Ts= 1/Fs\n",
        "N= 16\n",
        "arr = xr.DataArray(np.sin(2*math.pi*np.arange(0,N,Ts)*4/16),\n",
        "                   dims=('x'), coords={'x': np.arange(0,N,Ts)})\n",
        "fourier = np.fft.fft(arr)\n",
        "freq = np.fft.fftfreq(fourier.size, d=Ts)\n",
        "fourier = xr.DataArray(fourier,\n",
        "                   dims=('f'), coords={'f': freq})\n",
        "\n",
        "fig, axes = plt.subplots(nrows=1, ncols=2, figsize=(10, 4))\n",
        "plt.subplot(1, 2, 1)\n",
        "arr.plot.line(color='red', linestyle='dashed', marker='o', markerfacecolor='blue')\n",
        "axes[0].set_title(\"Signal périodique\")\n",
        "plt.subplot(1, 2, 2)\n",
        "np.abs(fourier).plot.line(color='red', linestyle='dashed', marker='o', markerfacecolor='blue')\n",
        "axes[1].set_title(\"Composantes de Fourier (amplitude)\")\n",
        "plt.show()"
      ],
      "execution_count": null,
      "outputs": []
    },
    {
      "cell_type": "markdown",
      "metadata": {},
      "source": [
        "### Filtrage fréquentielle\n",
        "\n",
        "Un filtrage fréquentiel consiste à modifier le spectre de Fourier afin d'éliminer ou de réduire certaines composantes fréquentielles. On peut distinguer trois grandes catégories de filtres fréquentiels:\n",
        "\n",
        "1.  Les filtres passe-bas qui ne préservent que les basses fréquences pour, par exemple, lisser une image.\n",
        "\n",
        "2.  Les filtres passe-hauts qui ne préservent que les hautes fréquences pour ne préserver que les détails.\n",
        "\n",
        "3.  Les filtres passe-bandes qui vont préserver les fréquences dans une bande de fréquence particulière.\n",
        "\n",
        "La librairie `Scipy` contient différents filtres fréquentielles. Notez, qu'un filtrage fréquentielle est une simple multiplication de la réponse du filtre $F[k]$ par les composantes fréquentielles du signal à filtrer $X[k]$:\n",
        "\n",
        "$$\n",
        "X_f[k] = F[k] \\times X[k]\n",
        "$$ {#eq-fourier-filter}\n",
        "\n",
        "À noter que cette multiplication dans l'espace de Fourier est équivalente à une opération de convolution dans l'espace originale du signal $x$:\n",
        "\n",
        "$$\n",
        "x_f = IDFT^{-1}[F]*x\n",
        "$$ {#eq-convolve}"
      ]
    },
    {
      "cell_type": "code",
      "metadata": {},
      "source": [
        "fig, (ax1, ax2) = plt.subplots(1, 2, figsize=(10, 4))\n",
        "input_ = numpy.fft.fft2(img_rgb.to_numpy()) \n",
        "result = [ndimage.fourier_gaussian(input_[b], sigma=4) for b in range(3)] # on filtre chaque bande avec un filtre Gaussien\n",
        "result = numpy.fft.ifft2(result)\n",
        "ax1.imshow(img_rgb.to_numpy().transpose(1, 2, 0).astype('uint8'))\n",
        "ax1.set_title('Originale')\n",
        "ax2.imshow(result.real.transpose(1, 2, 0).astype('uint8'))  # La partie imaginaire n'est pas utile ici\n",
        "ax2.set_title('Filtrage Gaussien')\n",
        "plt.show()"
      ],
      "execution_count": null,
      "outputs": []
    },
    {
      "cell_type": "markdown",
      "metadata": {},
      "source": [
        "### L'aliasing\n",
        "\n",
        "L'aliasing est un problème fréquent en traitement du signal. Il résulte d'une fréquence d'échantillonnage trop faible par rapport au contenu fréquentielle du signal. Ceci peut se produire lorsque vous sous-échantillonner fortement une image avec un facteur de décimation (par exemple 1 pixel sur 2). En prenant un pixel sur 2, on réduit la fréquence d'échantillonnage d'un facteur 2 ce qui nous impose de réduire le contenu fréquentielle de l'image et donc les fréquences maximales de l'image. L'image présente alors un aspect faussement texturée avec beaucoup de haute fréquences:"
      ]
    },
    {
      "cell_type": "code",
      "metadata": {},
      "source": [
        "fig, axes = plt.subplots(nrows=1, ncols=2, figsize=(10, 4))\n",
        "plt.subplot(1, 2, 1)\n",
        "img_rgb.astype('int').plot.imshow(rgb=\"band\")\n",
        "axes[0].set_title(\"Originale\")\n",
        "plt.subplot(1, 2, 2)\n",
        "img_rgb[:,::4,::4].astype('int').plot.imshow(rgb=\"band\")\n",
        "axes[1].set_title(\"Décimée par un facteur 4\")\n",
        "plt.show()"
      ],
      "execution_count": null,
      "outputs": []
    },
    {
      "cell_type": "markdown",
      "metadata": {},
      "source": [
        "Une façon de réduire le contenu fréquentiel est de filtrer par un filtre passe-bas pour réduire les hautes fréquences par exemple avec un filtre Gaussien:"
      ]
    },
    {
      "cell_type": "code",
      "metadata": {},
      "source": [
        "from scipy.ndimage import gaussian_filter\n",
        "q= 4\n",
        "sigma= q*1.1774/math.pi\n",
        "arr = xr.DataArray(gaussian_filter(img_rgb.to_numpy(), sigma= (0,sigma,sigma)), dims=('band',\"y\", \"x\"), coords= {'x': img_rgb.coords['x'], 'y': img_rgb.coords['y'], 'spatial_ref': 0})\n",
        "\n",
        "fig, axes = plt.subplots(nrows=1, ncols=2, figsize=(10, 4))\n",
        "plt.subplot(1, 2, 1)\n",
        "img_rgb.astype('int').plot.imshow(rgb=\"band\")\n",
        "axes[0].set_title(\"Originale\")\n",
        "plt.subplot(1, 2, 2)\n",
        "arr[:,::q,::q].astype('int').plot.imshow(rgb=\"band\")\n",
        "axes[1].set_title(\"Décimée par un facteur 4\")\n",
        "plt.show()"
      ],
      "execution_count": null,
      "outputs": []
    },
    {
      "cell_type": "markdown",
      "metadata": {},
      "source": [
        "La fonction [`decimate`](https://docs.scipy.org/doc/scipy/reference/generated/scipy.signal.decimate.html#scipy.signal.decimate) dans `scipy.signal` réalise l'opération de décimation (*downsampling*) en une seule étape:"
      ]
    },
    {
      "cell_type": "code",
      "metadata": {},
      "source": [
        "import xrscipy.signal as dsp\n",
        "\n",
        "fig, axes = plt.subplots(nrows=1, ncols=2, figsize=(10, 4))\n",
        "plt.subplot(1, 2, 1)\n",
        "img_rgb.astype('int').plot.imshow(rgb=\"band\")\n",
        "axes[0].set_title(\"Originale\")\n",
        "plt.subplot(1, 2, 2)\n",
        "dsp.decimate(img_rgb, q=4, dim='x').astype('int').plot.imshow(rgb=\"band\")\n",
        "axes[1].set_title(\"Décimée par un facteur 4\")"
      ],
      "execution_count": null,
      "outputs": []
    },
    {
      "cell_type": "markdown",
      "metadata": {},
      "source": [
        "## Filtrage d'image\n",
        "\n",
        "Le filtrage d'image a plusieurs objectifs en télédétection:\n",
        "\n",
        "1.  La réduction du bruit afin d'améliorer la résolution radiométrique et améliorer la lisibilité de l'image.\n",
        "\n",
        "2.  Le réhaussement de l'image afin d'améliorer le contraste ou faire ressortir les contours.\n",
        "\n",
        "3.  La production de nouvelles caractéristiques: c.à.d dériver de nouvelles images mettant en valeur certaines informations dans l'image comme la texture, les contours, etc.\n",
        "\n",
        "Il existe de nombreuses méthodes de filtrage dans la littérature, on peut rassembler ces filtres en quatre grandes catégories:\n",
        "\n",
        "1.  Le filtrage peut-être global ou local, c.à.d prendre en compte toute l'image pour filtrer (ex: filtrage par Fourier) ou seulement localement avec une fenêtre ou un voisinage local.\n",
        "\n",
        "2.  La fonction de filtrage peut-être linéaire ou non linéaire.\n",
        "\n",
        "3.  La fonction de filtrage peut être stationnaire ou adaptative\n",
        "\n",
        "4.  Le filtrage peut-être mono-échelle ou multi-échelles\n",
        "\n",
        "La librairie `Scipy` ([Multidimensional image processing (scipy.ndimage)](https://docs.scipy.org/doc/scipy/reference/ndimage.html)) contient une panoplie complète de filtres.\n",
        "\n",
        "### Filtrage linéaire stationnaire\n",
        "\n",
        "Un filtrage linéaire stationnaire consiste à appliquer une même pondération locale des valeurs des pixels dans une fenêtre glissante. La taille de cette fenêtre est généralement un chiffre impaire (3,5, etc.) afin de définir une position centrale et une fenêtre symétrique. La valeur calculée à partir de tous les pixels dans la fenêtre est alors attribuée au pixel central.\n",
        "\n",
        "<!--\n",
        "Mettre une figure ici\n",
        "-->\n",
        "\n",
        "Le filtre le plus simple est certainement le filtre moyen qui consiste à appliquer le même poids uniforme dans la fenêtre glissante. Par exemple pour un filtre 5x5:\n",
        "\n",
        "$$\n",
        "F= \\frac{1}{25}\\left[\n",
        "\\begin{array}{c|c|c|c|c}\n",
        "1 & 1 & 1 & 1 & 1 \\\\\n",
        "\\hline\n",
        "1 & 1 & 1 & 1 & 1 \\\\\n",
        "\\hline\n",
        "1 & 1 & 1 & 1 & 1 \\\\\n",
        "\\hline\n",
        "1 & 1 & 1 & 1 & 1 \\\\\n",
        "\\hline\n",
        "1 & 1 & 1 & 1 & 1\n",
        "\\end{array}\n",
        "\\right]\n",
        "$$ {#eq-boxfilter}\n",
        "\n",
        "En python, on dispose des fonctions `rolling` et `sliding_window` définis dans la librairie `numpy`. Par exemple pour le cas du filtre moyen on peut construire une nouvelle vue de l'image avec deux nouvelles dimensions `x_win` et `y_win`:"
      ]
    },
    {
      "cell_type": "code",
      "metadata": {},
      "source": [
        "rolling_win = img_rgb.rolling(x=5, y=5,  min_periods= 3, center= True).construct(x=\"x_win\", y=\"y_win\", keep_attrs= True)\n",
        "print(rolling_win[0,0,1,...])\n",
        "print(rolling_win.shape)"
      ],
      "execution_count": null,
      "outputs": []
    },
    {
      "cell_type": "markdown",
      "metadata": {},
      "source": [
        "L'avantage de cette approche est qu'il n'y a pas d'utilisation inutile de la mémoire. Noter les `nan` sur les bords de l'image car la fenêtre déborde sur les bordures de l'image. Par la suite un opérateur moyenne peut être appliqué sur les axes `x_win` et `y_win` correspondant aux fenêtres glissantes."
      ]
    },
    {
      "cell_type": "code",
      "metadata": {},
      "source": [
        "filtre_moyen= rolling_win.mean(dim= ['x_win', 'y_win'], skipna= True)\n",
        "fig, ax = plt.subplots(nrows=1, ncols=1, figsize=(8, 4))\n",
        "filtre_moyen.astype('int').plot.imshow(rgb=\"band\")\n",
        "ax.set_title(\"Filtre moyen 5x5\")"
      ],
      "execution_count": null,
      "outputs": []
    },
    {
      "cell_type": "markdown",
      "metadata": {},
      "source": [
        "Lorsque la taille $W$ de la fenêtre devient trop grande, il est préférable d'utiliser une convolution dans le domaine fréquentielle. La fonction `fftconvolve` de la librairie `scipy.signal` permet de faire cela:"
      ]
    },
    {
      "cell_type": "code",
      "metadata": {},
      "source": [
        "#| eval: false\n",
        "kernel = np.outer(signal.windows.gaussian(70, 8),\n",
        "                  signal.windows.gaussian(70, 8))\n",
        "blurred = signal.fftconvolve(img_rgb, kernel, mode='same')"
      ],
      "execution_count": null,
      "outputs": []
    },
    {
      "cell_type": "markdown",
      "metadata": {},
      "source": [
        "<!--\n",
        "::: callout-note\n",
        "Filtre de Sobel, filtre Prewitt\n",
        ":::\n",
        "-->\n",
        "\n",
        "#### Filtrage par convolution\n",
        "\n",
        "La façon la plus efficace d'appliquer un filtre linéaire est d'appliquer une convolution. La convolution est généralement très efficace car elle est peut être calculée dans le domaine fréquentielle. Prenons l'exemple du filtre de Scharr [@Scharr1999], ce filtre permet de détecter les contours horizontaux et verticaux:\n",
        "\n",
        "$$\n",
        "F= \\left[\n",
        "\\begin{array}{ccc}\n",
        "-3-3j & 0-10j & +3-3j \\\\\n",
        "-10+0j & 0+0j & +10+0j \\\\\n",
        "-3+3j & 0+10j & +3+3j\n",
        "\\end{array}\n",
        "\\right]\n",
        "$$ {#eq-scharr-filter}\n",
        "\n",
        "Remarquez l'utilisation de chiffres complexes afin de passer deux filtres différents sur la partie réelle et imaginaire."
      ]
    },
    {
      "cell_type": "code",
      "metadata": {},
      "source": [
        "scharr = np.array([[ -3-3j, 0-10j,  +3 -3j],\n",
        "                   [-10+0j, 0+ 0j, +10 +0j],\n",
        "                   [ -3+3j, 0+10j,  +3 +3j]]) # Gx + j*Gy\n",
        "print(img_rgb.isel(band=0).shape)\n",
        "grad = signal.convolve2d(img_rgb.isel(band=0), scharr, boundary='symm', mode='same')\n",
        "# on reconstruit un xarray à partir du résultat:\n",
        "arr = xr.DataArray(np.abs(grad), dims=(\"y\", \"x\"), coords= {'x': img_rgb.coords['x'], 'y': img_rgb.coords['y'], 'spatial_ref': 0})\n",
        "print(arr)\n",
        "fig, ax = plt.subplots(nrows=1, ncols=1, figsize=(8, 4))\n",
        "arr.plot.imshow()\n",
        "ax.set_title(\"Amplitude du filtre de Scharr\")"
      ],
      "execution_count": null,
      "outputs": []
    },
    {
      "cell_type": "markdown",
      "metadata": {},
      "source": [
        "## Gestion des bordures\n",
        "\n",
        "L'application de filtres à l'intérieur de fenêtres glissantes implique de gérer les bords de l'image car la fenêtre de traitement va nécessairement déborder de quelques pixels en dehors de l'image (généralement la moitié de la fenêtre déborde). On peut soit décider d'ignorer les valeurs en dehors de l'image en imposant une valeur `nan`, prolonger l'image de quelques lignes et colonnes avec des valeurs mirroirs ou constantes.\n",
        "\n",
        "\n",
        "#### Filtrage par une couche convolutionnelle\n",
        "\n",
        "\n",
        "**Installation de Pytorch**\n",
        "\n",
        "Cette section nécessite la librairie Pytorch avec un GPU et ne fonctionnera que sur Colab. On peut quand même installer une version locale CPU de pytorch: `pip install -qU torch==2.4.0+cpu`\n",
        "\n",
        "\n",
        "Une couche convolutionnelle est simplement un ensemble de filtres appliqués sur la donnée d'entrée. Ce type de filtrage est à la base des réseaux dits convolutionnels qui seront abordés dans le tome 2. On peut ici imposer les mêmes filtres de gradient dans la couche convolutionnelle:"
      ]
    },
    {
      "cell_type": "code",
      "metadata": {},
      "source": [
        "import torch\n",
        "import torch.nn as nn\n",
        "import numpy as np\n",
        "import matplotlib.pyplot as plt\n",
        "normalized_img= torch.tensor(img_rgb.to_numpy())\n",
        "nchannels= normalized_img.size()[0] # nombre de canaux de l'image\n",
        "\n",
        "# On forme une couche convolutionnelle\n",
        "conv_layer = nn.Conv2d(in_channels= nchannels, out_channels=2, kernel_size=3, padding=1, stride=1, dilation= 1)\n",
        "\n",
        "# Filtre de Sobel\n",
        "sobel_x = np.array([[-3, 0, 3], [-10, 0, 10], [-3, 0, 3]])\n",
        "sobel_y = np.array([[-3, -10, -3], [0, 0, 0], [3, 10, 3]])\n",
        "# Le filtre (kernel) est formé de deux filtres\n",
        "kernel = np.stack([sobel_x, sobel_y])\n",
        "kernel = kernel.reshape(2, 1, 3, 3)\n",
        "# On répète le filtre pour chaque bande\n",
        "kernel = np.tile(kernel,(1,nchannels,1,1))\n",
        "print(kernel.shape)\n",
        "kernel = torch.as_tensor(kernel,dtype=torch.float32)\n",
        "conv_layer.weight = nn.Parameter(kernel)\n",
        "conv_layer.bias = nn.Parameter(torch.zeros(2,))\n",
        "\n",
        "input= normalized_img.unsqueeze(0) # il faut ajouter une dimension pour le nombre d'échantillons\n",
        "print(input.shape)\n",
        "# Visualize the filters\n",
        "fig, axs = plt.subplots(1, 2, figsize=(8, 5))\n",
        "for i in range(2):\n",
        "    axs[i].imshow(conv_layer.weight.data.numpy()[i, 0])\n",
        "    axs[i].set_title(f'Filtre {i+1}')\n",
        "plt.show()"
      ],
      "execution_count": null,
      "outputs": []
    },
    {
      "cell_type": "markdown",
      "metadata": {},
      "source": [
        "Le résultat est alors calculé sur GPU (si disponible):"
      ]
    },
    {
      "cell_type": "code",
      "metadata": {},
      "source": [
        "import torch\n",
        "import matplotlib.pyplot as plt\n",
        "\n",
        "output = conv_layer(input)\n",
        "print(f'Image (BxCxHxW): {input.shape}')\n",
        "print(f'Sortie (BxFxHxW): {output.shape}')\n",
        "\n",
        "fig, axs = plt.subplots(1, 2, figsize=(20, 5))\n",
        "for i in range(2):\n",
        "    axs[i].imshow(output.detach().data.numpy()[0,i], vmin=-5000, vmax=5000, cmap= 'gray')\n",
        "    axs[i].set_title(f'Filtrage {i+1}')\n",
        "plt.show()"
      ],
      "execution_count": null,
      "outputs": []
    },
    {
      "cell_type": "markdown",
      "metadata": {},
      "source": [
        "### Filtrage adaptatif\n",
        "\n",
        "Les filtrages adaptatifs consistent à appliquer un traitement en fonction du contenu local d'une image. Le filtre n'est alors plus stationnaire et sa réponse peut varier en fonction du contenu local. Ce type de filtre est très utilisé pour filtrer les images SAR (Synthetic Aperture Radar) qui sont dégradées par un bruit multiplicatif que l'on appelle *speckle*. On peut voir un exemple d'une image Sentinel-1 (bande HH) sur la région de Montréal, remarquée que l'image est affichée en dB en appliquant la fonction `log10`."
      ]
    },
    {
      "cell_type": "code",
      "metadata": {},
      "source": [
        "print(img_SAR.rio.resolution())\n",
        "print(img_SAR.rio.crs)\n",
        "fig, axs = plt.subplots(1, 1, figsize=(6, 4))\n",
        "xr.ufuncs.log10(img_SAR.sel(band=1).drop(\"band\")).plot()\n",
        "axs.set_title(\"Image SAR Sentinel-1 (dB)\")"
      ],
      "execution_count": null,
      "outputs": []
    },
    {
      "cell_type": "markdown",
      "metadata": {},
      "source": [
        "Un des filtres les plus simples pour réduire le bruit est d'appliquer un filtre moyenne, par exemple un $5 \\times 5$ ci dessous:"
      ]
    },
    {
      "cell_type": "code",
      "metadata": {},
      "source": [
        "rolling_win = img_SAR.sel(band=2).rolling(x=5, y=5,  min_periods= 3, center= True).construct(x=\"x_win\", y=\"y_win\", keep_attrs= True)\n",
        "filtre_moyen= rolling_win.mean(dim= ['x_win', 'y_win'], skipna= True)\n",
        "fig, axs = plt.subplots(1, 1, figsize=(6, 4))\n",
        "xr.ufuncs.log10(filtre_moyen).plot.imshow()\n",
        "axs.set_title(\"Filtrage moyen 5x5 (dB)\")"
      ],
      "execution_count": null,
      "outputs": []
    },
    {
      "cell_type": "markdown",
      "metadata": {},
      "source": [
        "Au lieu d'appliquer un filtre moyen de manière indiscriminée, le filtre de Lee [@Lee-1986] applique une pondération en fonction du contenu local de l'image $I$ dans sa forme la plus simple:\n",
        "\n",
        "$$ \n",
        "\\begin{aligned}\n",
        "I_F & = I_M + K \\times (I - I_M) \\\\\n",
        "K & = \\frac{\\sigma^2_I}{\\sigma^2_I + \\sigma^2_{bruit}}\n",
        "\\end{aligned}\n",
        "$$ {#eq-lee-filter}\n",
        "\n",
        "Ainsi si la variance locale est élevée $K$ s'approche de $1$ préservant ainsi les détails de l'image $I$ sinon l'image moyenne $I_M$ est appliquée."
      ]
    },
    {
      "cell_type": "code",
      "metadata": {},
      "source": [
        "rolling_win = img_SAR.sel(band=2).rolling(x=5, y=5,  min_periods= 3, center= True).construct(x=\"x_win\", y=\"y_win\", keep_attrs= True)\n",
        "filtre_moyen= rolling_win.mean(dim= ['x_win', 'y_win'], skipna= True)\n",
        "ecart_type= rolling_win.std(dim= ['x_win', 'y_win'], skipna= True)\n",
        "cv= ecart_type/filtre_moyen\n",
        "ponderation = (cv - 0.25) / cv\n",
        "\n",
        "fig, axes = plt.subplots(nrows=1, ncols=2, figsize=(10, 4), sharex=True, sharey=True)\n",
        "plt.subplot(1, 2, 1)\n",
        "cv.plot.imshow( vmin=0, vmax=2)\n",
        "axes[0].set_title(\"CV\")\n",
        "plt.subplot(1, 2, 2)\n",
        "ponderation.plot.imshow( vmin=0, vmax=1) \n",
        "axes[1].set_title(\"Pondération\")\n",
        "plt.tight_layout()"
      ],
      "execution_count": null,
      "outputs": []
    },
    {
      "cell_type": "markdown",
      "metadata": {},
      "source": [
        "On zoomant sur l'image on peut clairement voir que les détails de l'image sont mieux préservés:"
      ]
    },
    {
      "cell_type": "code",
      "metadata": {},
      "source": [
        "#| echo: false\n",
        "\n",
        "filtered= filtre_moyen + ponderation * (img_SAR.sel(band=1).drop(\"band\") - filtre_moyen)\n",
        "fig, axes = plt.subplots(nrows=1, ncols=2, figsize=(10, 4), sharex=True, sharey=True)\n",
        "plt.subplot(1, 2, 1)\n",
        "xr.ufuncs.log10(filtre_moyen).isel(x=slice(None, 250),y=slice(None, 250)).plot.imshow()\n",
        "axes[0].set_title(\"Filtre moyen\")\n",
        "plt.subplot(1, 2, 2)\n",
        "xr.ufuncs.log10(filtered).isel(x=slice(None, 250),y=slice(None, 250)).plot.imshow() #cmap=plt.get_cmap('hot'),\n",
        "axes[1].set_title(\"Filtre de Lee\")\n",
        "plt.tight_layout()"
      ],
      "execution_count": null,
      "outputs": []
    },
    {
      "cell_type": "markdown",
      "metadata": {},
      "source": [
        "## Segmentation\n",
        "\n",
        "La segmentation d'image consiste à séparer une image en régions homogènes spatialement connexes (segments) où les valeurs sont uniformes selon un certain critère (couleurs, texture, etc.). Une image présente généralement beaucoup de pixels redondants, l'intérêt de ce type de méthode est essentiellement de réduire la quantité de pxiels nécessaire. En télédétection, on parle souvent d'approche objet. En vision par ordinateur, on parle parfois de super-pixel. Il existe de nombreuses méthodes de segmentation, la librairie `sickit-image` rend disponible plusieurs implémentations sur des images RVB ([Comparison of segmentation and superpixel algorithms — skimage 0.25.0 documentation](https://scikit-image.org/docs/stable/auto_examples/segmentation/plot_segmentations.html#sphx-glr-auto-examples-segmentation-plot-segmentations-py)).\n",
        "\n",
        "### Super-pixel\n",
        "\n",
        "Ce type de méthode cherche à former des régions homogènes et compactes dans l'image [@Achanta-2012]. Une des méthodes les plus simples est la méthode SLIC (*Simple Linear Iterative Clustering*), elle combine un regroupement de type K-moyenne avec une distance hybride qui prend en compte les différences de couleur entre pixels mais aussi leur distance par rapport centre du super-pixel:\n",
        "\n",
        "1.  Décomposer l'image en N régions régulières de taille $S \\times S$\n",
        "\n",
        "2.  Initialiser les centres $C_k$ de chaque segment $k$\n",
        "\n",
        "3.  Rechercher les pixels qui ont la distance la plus petite dans une région $2S \\times 2S$:\n",
        "\n",
        "$$\n",
        "D_{SLIC}= d_{couleur} + \\frac{m}{S}d_{xy}\n",
        "$$\n",
        "\n",
        "3.  Mettre à jour les centre $C_k$ de chaque segment $k$, retourner à l'étape 3\n",
        "\n",
        "Les régions évoluent rapidement avec les itérations, plus le poids $m$ est élevé, plus la forme du super-pixel est contrainte et ne suivra pas vraiment le contenu de l'image:"
      ]
    },
    {
      "cell_type": "code",
      "metadata": {},
      "source": [
        "img = img_rgb.to_numpy().astype('uint8').transpose(1,2,0) \n",
        "\n",
        "segments_slic1 = slic(img, n_segments=250, compactness=10, sigma=1, start_label=1, max_num_iter=1)\n",
        "segments_slic2 = slic(img, n_segments=250, compactness=10, sigma=1, start_label=1, max_num_iter=2)\n",
        "segments_slic100 = slic(img, n_segments=250, compactness=100, sigma=1, start_label=1, max_num_iter=10)\n",
        "segments_slic100b = slic(img, n_segments=250, compactness=10, sigma=1, start_label=1, max_num_iter=10)\n",
        "\n",
        "print(f'SLIC nombre de segments: {len(np.unique(segments_slic1))}')\n",
        "\n",
        "fig, ax = plt.subplots(2, 2, figsize=(10, 6), sharex=True, sharey=True)\n",
        "\n",
        "ax[0, 0].imshow(mark_boundaries(img, segments_slic1))\n",
        "ax[0, 0].set_title(\"Initialisation\")\n",
        "ax[0, 1].imshow(mark_boundaries(img, segments_slic2))\n",
        "ax[0, 1].set_title('2 itérations')\n",
        "ax[1, 0].imshow(mark_boundaries(img, segments_slic100))\n",
        "ax[1, 0].set_title('10 itérations avec m=100')\n",
        "ax[1, 1].imshow(mark_boundaries(img, segments_slic100b))\n",
        "ax[1, 1].set_title('10 itérations avec m=10')\n",
        "\n",
        "for a in ax.ravel():\n",
        "    a.set_axis_off()\n",
        "\n",
        "plt.tight_layout()\n",
        "plt.show()"
      ],
      "execution_count": null,
      "outputs": []
    },
    {
      "cell_type": "markdown",
      "metadata": {},
      "source": [
        "Le nombre de segments initial est probablement le paramètre le plus important. Une manière de l'estimer est d'évaluer l'échelle moyenne des segments homogènes dans l'image à analyser. On peut observer ci-dessous l'impact de passer d'une échelle 40 x 40 à 20 x 20. En prenant la moyenne de chaque segment, on peut voir tout de suite que 40 x 40 résulte en des segments trop grands mélangeant différentes classes."
      ]
    },
    {
      "cell_type": "code",
      "metadata": {},
      "source": [
        "from skimage import color, segmentation\n",
        "n_regions = int((img.shape[0] * img.shape[1])/(40*40))\n",
        "print('Nb segments: ',n_regions)\n",
        "segments_slic_40 = slic(img, n_segments=n_regions, compactness=10, sigma=1, start_label=1, max_num_iter=10)\n",
        "print(f'SLIC nombre de segments: {len(np.unique(segments_slic_40))}')\n",
        "out = color.label2rgb(segments_slic_40, img, kind='avg', bg_label=0)\n",
        "out_40 = segmentation.mark_boundaries(out, segments_slic_40, (0, 0, 0))\n",
        "\n",
        "n_regions = int((img.shape[0] * img.shape[1])/(20*20))\n",
        "print('Nb segments: ',n_regions)\n",
        "segments_slic_20 = slic(img, n_segments=n_regions, compactness=10, sigma=1, start_label=1, max_num_iter=10)\n",
        "print(f'SLIC nombre de segments: {len(np.unique(segments_slic_20))}')\n",
        "out = color.label2rgb(segments_slic_20, img, kind='avg', bg_label=0)\n",
        "out_20 = segmentation.mark_boundaries(out, segments_slic_20, (0, 0, 0))\n",
        "\n",
        "fig, ax = plt.subplots(2, 1, figsize=(6, 8), sharex=True, sharey=True)\n",
        "\n",
        "ax[0].imshow(out_40)\n",
        "ax[0].set_title(\"Initialisation avec 631 segments\")\n",
        "ax[1].imshow(out_20)\n",
        "ax[1].set_title('Initialisation avec 2526 segments')\n",
        "for a in ax.ravel():\n",
        "    a.set_axis_off()\n",
        "plt.tight_layout()\n",
        "plt.show()"
      ],
      "execution_count": null,
      "outputs": []
    },
    {
      "cell_type": "markdown",
      "metadata": {},
      "source": [
        "### Fusion des segments par graphe de proximité\n",
        "\n",
        "Une segmentation peut produire beaucoup trop de segments. On parle alors de sur-segmentation. Ceci est recherché dans certains cas pour permettre de bien capturer les détails fins de l'image. Cependant, afin de réduire le nombre de segments, un post-traitement possible est de fusionner les segments similaires selon certaines règles ou distances. Un graphe d'adjacence de régions (voir @fig-rag) est formé à partir des segments connectés où chaque noeud représente un segment et un lien une proximité (@Jaworek-2018). À partir de ce graphe, on peut fusionner les noeuds similaires à partir de leur distance radiométrique.\n",
        "\n",
        "![Graphe d'adjacence de régions, d'après (@Jaworek-2018). Chaque noeud est un segment, un lien est formé uniquement si les segments se touchent (par exemple le segment 6 ne touche que la région 5). La fonction `graph.rag_mean_color` produit un graphe à partir d'une segmentation et de l'image originale. Chaque noeud tient la couleur de chaque segment dans un attribut appelé `'mean color'.`](images/Region-adjacency-graph.png \"Graphe d'adjacence de régions\"){#fig-rag}"
      ]
    },
    {
      "cell_type": "code",
      "metadata": {},
      "source": [
        "def _weight_mean_color(graph, src, dst, n):\n",
        "    \"\"\"Fonction pour gérer la fusion des nœuds en recalculant la couleur moyenne.\n",
        "    La méthode suppose que la couleur moyenne de `dst` est déjà calculée.\n",
        "    \"\"\"\n",
        "    diff = graph.nodes[dst]['mean color'] - graph.nodes[n]['mean color']\n",
        "    diff = np.linalg.norm(diff)\n",
        "    #print(diff)\n",
        "    return {'weight': diff}\n",
        "\n",
        "\n",
        "def merge_mean_color(graph, src, dst):\n",
        "    \"\"\"Fonction appelée avant la fusion de deux nœuds d'un graphe de distance de couleur moyenne.\n",
        "      Cette méthode calcule la couleur moyenne de `dst`.\n",
        "    \"\"\"\n",
        "    graph.nodes[dst]['total color'] += graph.nodes[src]['total color']\n",
        "    graph.nodes[dst]['pixel count'] += graph.nodes[src]['pixel count']\n",
        "    graph.nodes[dst]['mean color'] = (\n",
        "        graph.nodes[dst]['total color'] / graph.nodes[dst]['pixel count']\n",
        "    )\n",
        "g = graph.rag_mean_color(img, segments_slic_20)\n",
        "print('Nombre de segments:',len(g))\n",
        "labels2 = graph.merge_hierarchical(\n",
        "    segments_slic_20,\n",
        "    g,\n",
        "    thresh=20,\n",
        "    rag_copy=False,\n",
        "    in_place_merge=True,\n",
        "    merge_func=merge_mean_color,\n",
        "    weight_func=_weight_mean_color,\n",
        ")\n",
        "print('Nombre de segments:',len(g))\n",
        "\n",
        "out1 = color.label2rgb(segments_slic_20, img, kind='avg', bg_label=0)\n",
        "out1 = segmentation.mark_boundaries(out1, segments_slic_20, (0, 0, 0))\n",
        "out2 = color.label2rgb(labels2, img, kind='avg', bg_label=0)\n",
        "out2 = segmentation.mark_boundaries(out2, labels2, (0, 0, 0))\n",
        "\n",
        "fig, ax = plt.subplots(nrows=2, sharex=True, sharey=True, figsize=(6, 8))\n",
        "\n",
        "ax[0].imshow(out1)\n",
        "ax[0].set_title(\"Avant fusion\")\n",
        "ax[1].imshow(out2)\n",
        "ax[1].set_title(\"Après fusion\")\n",
        "for a in ax:\n",
        "    a.axis('off')\n",
        "\n",
        "plt.tight_layout()"
      ],
      "execution_count": null,
      "outputs": []
    },
    {
      "cell_type": "markdown",
      "metadata": {},
      "source": [
        "### Approche objet\n",
        "\n",
        "L'approche objet consiste à traiter chaque segment comme un objet avec un ensemble de propriétés. La librairie `skimage` offre la possibilité d'enrichir chaque segment avec des [propriétés](https://scikit-image.org/docs/stable/api/skimage.measure.html#skimage.measure.regionprops) et de former un tableau:"
      ]
    },
    {
      "cell_type": "code",
      "metadata": {},
      "source": [
        "properties = ['label', 'area', 'centroid', 'num_pixels', 'intensity_mean', 'intensity_std']\n",
        "\n",
        "table=   measure.regionprops_table(labels2, intensity_image= img_rgb.to_numpy().transpose(1,2,0), properties=properties)\n",
        "\n",
        "table = pd.DataFrame(table)\n",
        "table.head(10)"
      ],
      "execution_count": null,
      "outputs": []
    },
    {
      "cell_type": "markdown",
      "metadata": {},
      "source": [
        "Ce tableau pourra être exploiter pour une tâche de classification par la suite (on parle alors de classification objet)."
      ]
    }
  ],
  "metadata": {
    "kernelspec": {
      "display_name": "Python 3",
      "language": "python",
      "name": "python3"
    }
  },
  "nbformat": 4,
  "nbformat_minor": 4
}