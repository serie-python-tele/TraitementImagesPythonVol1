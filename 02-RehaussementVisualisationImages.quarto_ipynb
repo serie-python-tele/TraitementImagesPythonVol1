{
  "cells": [
    {
      "cell_type": "markdown",
      "metadata": {},
      "source": [
        "---\n",
        "jupyter: python3\n",
        "from: markdown+emoji\n",
        "execute:\n",
        "  echo: true\n",
        "  eval: true\n",
        "  message: false\n",
        "  warning: false\n",
        "---\n",
        "\n",
        "\n",
        "\n",
        "\n",
        "\n",
        "\n",
        "# Réhaussement et visualisation d'images {#sec-chap02}\n",
        "\n",
        "Assurez-vous de lire ce préambule avant d'exécutez le reste du notebook.\n",
        "\n",
        "## Préambule\n",
        "### Objectifs\n",
        "Dans ce chapitre, nous abordons quelques techniques de réhaussement et de visualisation d'images. Ce chapitre est aussi disponible sous la forme d'un notebook Python:\n",
        "\n",
        "[![](images/colab.png)](https://colab.research.google.com/github/sfoucher/TraitementImagesPythonVol1/blob/main/notebooks/02-RehaussementVisualisationImages.ipynb){target=\"_blank\"} \n",
        "\n",
        "### Librairies\n",
        "Les librairies qui vont être explorées dans ce chapitre sont les suivantes:\n",
        "\n",
        "* [SciPy](https://scipy.org/)\n",
        "\n",
        "* [NumPy](https://numpy.org/) \n",
        "\n",
        "* [opencv-python · PyPI](https://pypi.org/project/opencv-python/)\n",
        "\n",
        "* [scikit-image](https://scikit-image.org/)\n",
        "\n",
        "* [Rasterio](https://rasterio.readthedocs.io/en/stable/)\n",
        "\n",
        "* [Xarray](https://docs.xarray.dev/en/stable/)\n",
        "\n",
        "* [rioxarray](https://corteva.github.io/rioxarray/stable/index.html)\n",
        "\n",
        "\n",
        "\n",
        "Dans l'environnement Google Colab, seul `rioxarray` et GDAL doivent être installés:\n"
      ],
      "id": "ab3fded0"
    },
    {
      "cell_type": "code",
      "metadata": {},
      "source": [
        "#| eval: false\n",
        "%%capture\n",
        "!apt-get update\n",
        "!apt-get install gdal-bin libgdal-dev\n",
        "!pip install -q rioxarray\n",
        "!pip install -qU \"geemap[workshop]\""
      ],
      "id": "230b5e87",
      "execution_count": null,
      "outputs": []
    },
    {
      "cell_type": "markdown",
      "metadata": {},
      "source": [
        "Dans l'environnement Google Colab, on peut s'assurer que les librairies  sont installées:\n"
      ],
      "id": "eac758d6"
    },
    {
      "cell_type": "code",
      "metadata": {},
      "source": [
        "%%capture\n",
        "!pip install -qU matplotlib rioxarray xrscipy scikit-image"
      ],
      "id": "643c25ff",
      "execution_count": null,
      "outputs": []
    },
    {
      "cell_type": "markdown",
      "metadata": {},
      "source": [
        "Vérifier les importations:\n"
      ],
      "id": "ddd8475e"
    },
    {
      "cell_type": "code",
      "metadata": {},
      "source": [
        "import numpy as np\n",
        "import rioxarray as rxr\n",
        "from scipy import signal\n",
        "import xarray as xr\n",
        "import xrscipy\n",
        "import matplotlib.pyplot as plt"
      ],
      "id": "73517edb",
      "execution_count": null,
      "outputs": []
    },
    {
      "cell_type": "markdown",
      "metadata": {},
      "source": [
        "### Données\n",
        "Nous allons utilisez les images suivantes dans ce chapitre:\n"
      ],
      "id": "03330ed3"
    },
    {
      "cell_type": "code",
      "metadata": {},
      "source": [
        "#| eval: false\n",
        "%%capture\n",
        "import gdown\n",
        "\n",
        "gdown.download('https://drive.google.com/uc?export=download&confirm=pbef&id=1a6Ypg0g1Oy4AJt9XWKWfnR12NW1XhNg_', output= 'RGBNIR_of_S2A.tif')\n",
        "gdown.download('https://drive.google.com/uc?export=download&confirm=pbef&id=1a4PQ68Ru8zBphbQ22j0sgJ4D2quw-Wo6', output= 'landsat7.tif')\n",
        "gdown.download('https://drive.google.com/uc?export=download&confirm=pbef&id=1_zwCLN-x7XJcNHJCH6Z8upEdUXtVtvs1', output= 'berkeley.jpg')\n",
        "gdown.download('https://drive.google.com/uc?export=download&confirm=pbef&id=1dM6IVqjba6GHwTLmI7CpX8GP2z5txUq6', output= 'SAR.tif')"
      ],
      "id": "dd61eeb8",
      "execution_count": null,
      "outputs": []
    },
    {
      "cell_type": "markdown",
      "metadata": {},
      "source": [
        "Vérifiez que vous êtes capable de les lire :\n"
      ],
      "id": "edd7fcaf"
    },
    {
      "cell_type": "code",
      "metadata": {},
      "source": [
        "#| output: false\n",
        "\n",
        "with rxr.open_rasterio('berkeley.jpg', mask_and_scale= True) as img_rgb:\n",
        "    print(img_rgb)\n",
        "with rxr.open_rasterio('RGBNIR_of_S2A.tif', mask_and_scale= True) as img_rgbnir:\n",
        "    print(img_rgbnir)\n",
        "with rxr.open_rasterio('SAR.tif', mask_and_scale= True) as img_SAR:\n",
        "    print(img_SAR)"
      ],
      "id": "4984c2e4",
      "execution_count": null,
      "outputs": []
    },
    {
      "cell_type": "markdown",
      "metadata": {},
      "source": [
        "## Réhaussements visuels\n",
        "\n",
        "Le but du réhaussement visuel d'une image vise principalement à améliorer la qualité visuelle d'une image en améliorant le contraste, la dynamique ou la texture d'une image. De manière générale, ce réhaussement ne modifie pas la donnée d'origine mais est plutôt appliquée dynamiquement à l'affichage pour des fins d'inspection visuelle.\n",
        "\n",
        "### Statistiques d'une image\n",
        "\n",
        "On peut considérer un ensemble de statistique globales pour chacune des bandes d'une image:\n",
        "- valeurs minimales et maximales\n",
        "- valeurs moyennes, médianes et quantiles\n",
        "- écart-types, skewness et kurtosis \n",
        "Ces statistiques doivent être calculées pour chaque bande d'une image multispectrale.\n",
        "\n",
        "En ligne de commande, `gdalinfo` permet d'interroger rapidement un fichier image pour connaitre les statistiques de base:\n"
      ],
      "id": "a1f8cea7"
    },
    {
      "cell_type": "code",
      "metadata": {},
      "source": [
        "!gdalinfo -stats landsat7.tif"
      ],
      "id": "a2571995",
      "execution_count": null,
      "outputs": []
    },
    {
      "cell_type": "markdown",
      "metadata": {},
      "source": [
        "Les librairies de base comme `xarray` et `numpy` peuvent facilement produire des statistiques comme avec la fonction [stats](https://rasterio.readthedocs.io/en/stable/api/rasterio.io.html#rasterio.io.BufferedDatasetWriter.stats):\n"
      ],
      "id": "3fd2a4d6"
    },
    {
      "cell_type": "code",
      "metadata": {},
      "source": [
        "#| eval: false\n",
        "\n",
        "import rasterio as rio\n",
        "import numpy as np\n",
        "with rio.open('landsat7.tif') as src:\n",
        "    stats= src.stats()\n",
        "    print(stats)"
      ],
      "id": "07a996d9",
      "execution_count": null,
      "outputs": []
    },
    {
      "cell_type": "markdown",
      "metadata": {},
      "source": [
        "La librairie `xarray` donne accès à des fonctionnalités plus sophistiquées comme le calcul des quantiles:\n"
      ],
      "id": "158715ee"
    },
    {
      "cell_type": "code",
      "metadata": {},
      "source": [
        "import rioxarray as riox\n",
        "with riox.open_rasterio('landsat7.tif', masked= True) as src:\n",
        "    print(src)\n",
        "quantiles = src.quantile(dim=['x','y'], q=[.025,.25,.5,.75,.975])\n",
        "quantiles"
      ],
      "id": "a982c394",
      "execution_count": null,
      "outputs": []
    },
    {
      "cell_type": "markdown",
      "metadata": {},
      "source": [
        "#### Calcul de l'histogramme\n",
        "\n",
        "Le calcul d'un histogramme pour une image (une bande) permet d'avoir une vue plus détaillée de la répartition des valeurs radiométriques. Le calcul d'un histogramme nécessite minimalement de faire le choix d'une valeur du nombre de *bins* (ou de la largeur). Un *bin* est un intervalle de valeurs pour lequel on peut calculer le nombre de valeurs observées dans l'image. La fonction de base pour ce type de calcul est la fonction `numpy.histogram()`:\n"
      ],
      "id": "757f4d54"
    },
    {
      "cell_type": "code",
      "metadata": {},
      "source": [
        "import numpy as np\n",
        "array = np.random.randint(0,10,100) # 100 valeurs aléatoires entre 0 et 10\n",
        "hist, bin_limites = np.histogram(array, density=True)\n",
        "print('valeurs :',hist)\n",
        "print(';imites :',bin_limites)"
      ],
      "id": "ad464723",
      "execution_count": null,
      "outputs": []
    },
    {
      "cell_type": "markdown",
      "metadata": {},
      "source": [
        "Le calcul se fait avec 10 intervalles par défaut.\n"
      ],
      "id": "d4bbe0ce"
    },
    {
      "cell_type": "code",
      "metadata": {},
      "source": [
        "plt.bar(bin_limites[:-1],hist)\n",
        "plt.show()"
      ],
      "id": "6342c7f3",
      "execution_count": null,
      "outputs": []
    },
    {
      "cell_type": "markdown",
      "metadata": {},
      "source": [
        "Pour des besoins de visualisation, le calcul des valeurs extrêmes de l'histogramme peut aussi se faire via les quantiles comme discutés auparavant.\n",
        "\n",
        "##### Visualisation des histogrammes\n",
        "\n",
        "La librarie `rasterio` est probablement l'outil le plus simples pour visualiser rapidement des histogrammes sur une image multi-spectrale:\n"
      ],
      "id": "1424412e"
    },
    {
      "cell_type": "code",
      "metadata": {},
      "source": [
        "import rasterio as rio\n",
        "from rasterio.plot import show_hist\n",
        "with rio.open('RGBNIR_of_S2A.tif') as src:\n",
        "  show_hist(src, bins=50, lw=0.0, stacked=False, alpha=0.3,histtype='stepfilled', title=\"Histogram\")"
      ],
      "id": "4d8ecac9",
      "execution_count": null,
      "outputs": []
    },
    {
      "cell_type": "markdown",
      "metadata": {},
      "source": [
        "### Réhaussements linéaires\n",
        "\n",
        "Le réhaussement linéaire (*linear stretch*) d'une image est la forme la plus simple de réhaussement, elle consiste 1) à optimiser les valeurs des pixels d'une image afin de maximiser la dynamique disponibles à l'affichage, ou 2) changer le format de stockage des valeurs (e.g. de 8 bit à 16 bit):\n",
        "\n",
        "$$ \\text{nouvelle valeur d'un pixel} = \\frac{\\text{valeur d'un pixel} - min_0}{max_0 - min_0}\\times (max_1 - min_1)+min_1$${#eq-rehauss-lin}\n",
        "\n",
        "Par cette opération, on passe de la dynamique de départ ($max_0 - min_0$) vers la dynamique cible ($max_1 - min_1$). Bien que cette opération semble triviale, il est important d'être conscient des trois contraintes suivantes:\n",
        "1. **Faire attention à la dynamique cible**, ainsi, pour sauvegarder une image en format 8 bit, on utilisera alors $max_1=255$ et $min_1=0$.\n",
        "2. **Préservation de la valeur de no data** : il faut faire attention à la valeur $min_1$ dans le cas d'une valeur présente pour *no_data*. Par exemple, si *no_data=0* alors il faut s'assurer que $min_1>0$.\n",
        "3. **Précision du calcul** : si possible réaliser la division ci-dessus en format *float*\n",
        "\n",
        "#### Cas des histogrammes asymétriques\n",
        "\n",
        "Dans certains cas, la distribution de valeurs est très asymétrique et présente une longue queue avec des valeurs extrêmes élevées. Le cas des images SAR est particulièrement représentatif de ce type de données. En effet, celles-ci peuvent présenter une distribution de valeurs de type exponentiel. Il est alors préférable d'utiliser des [percentiles](https://fr.wikipedia.org/wiki/Centile) au préalable afin d'explorer la forme de l'histogramme et la distribution des valeurs:\n"
      ],
      "id": "c7f35482"
    },
    {
      "cell_type": "code",
      "metadata": {},
      "source": [
        "NO_DATA_FLOAT= -999.0\n",
        "# on prend tous les pixels de la première bande\n",
        "values = img_SAR[0].values.flatten().astype(float)\n",
        "# on exclut les valeurs invalides\n",
        "values = values[~np.isnan(values)]\n",
        "# on exclut le no data\n",
        "values = values[values!=NO_DATA_FLOAT]\n",
        "# calcul des percentiles\n",
        "percentiles_position= (0,0.1,1,2,50,98,99,99.9,100)\n",
        "percentiles= np.percentile(values, percentiles_position)\n",
        "print(percentiles)"
      ],
      "id": "6cc68b34",
      "execution_count": null,
      "outputs": []
    },
    {
      "cell_type": "markdown",
      "metadata": {},
      "source": [
        "La première observation que l'on peut faire est que la valeur médiane (`0.012`) est très faible, 50% des valeurs sont inférieures cette valeur alors que valeur maximale (`483`) est 10,000 fois plus élevée! Une façon de visualiser cette distribution de valeurs est d'utiliser [`boxplot`](https://matplotlib.org/stable/api/_as_gen/matplotlib.pyplot.boxplot.html) et [`violinplot`](https://matplotlib.org/stable/api/_as_gen/matplotlib.pyplot.violinplot.html) de la librairie `matplotlib`:\n"
      ],
      "id": "7002967d"
    },
    {
      "cell_type": "code",
      "metadata": {},
      "source": [
        "fig, ax = plt.subplots(nrows=2, ncols=1, figsize=(6, 4), sharex=True)\n",
        "ax[0].set_title('Distribution de la bande 0 de img_SAR', fontsize='small')\n",
        "ax[0].grid(True)\n",
        "ax[0].violinplot(values, orientation  ='horizontal', \n",
        "                 quantiles =(0.01,0.02,0.50,0.98,0.99),\n",
        "                  showmeans=False,\n",
        "                  showmedians=True)\n",
        "ax[1].set_xlabel('Valeur des pixels')\n",
        "ax[1].grid(True)\n",
        "bplot = ax[1].boxplot(values, notch = True, orientation  ='horizontal')\n",
        "plt.tight_layout()\n",
        "plt.show()"
      ],
      "id": "9681ec51",
      "execution_count": null,
      "outputs": []
    },
    {
      "cell_type": "markdown",
      "metadata": {},
      "source": [
        "Afin de visualiser correctement l'histogramme, il faut se limiter à un interval de valeurs plus petit. Dans le code ci-dessous, on impose à la fonction histogramme de compter les valeurs de pixels dans des intervalles de valeurs fixés par la fonction `np.linspace(percentiles[1],percentiles[-2], 50)` où percentiles[1] et percentiles[-2] sont les $2\\%$ et $98\\%$ percentiles respectivement:\n"
      ],
      "id": "66fc14d6"
    },
    {
      "cell_type": "code",
      "metadata": {},
      "source": [
        "hist, bin_edges = np.histogram(values, \n",
        "                                bins=np.linspace(percentiles[1], \n",
        "                                percentiles[-2], 50), \n",
        "                                density=True)\n",
        "\n",
        "fig, ax = plt.subplots(nrows=2,ncols=1,figsize=(6, 5), sharex=True)\n",
        "ax[0].bar(pdf.index, \n",
        "          pdf.values*(pdf.index[1]-pdf.index[0]), \n",
        "          width= (pdf.index[1]-pdf.index[0]), \n",
        "          edgecolor= 'w')\n",
        "ax[0].set_title(\"Distribution de probabilité (PDF)\")\n",
        "ax[0].set_ylabel(\"Densité de probabilité\")\n",
        "ax[0].grid(True)\n",
        "\n",
        "ax[1].plot(cdf.index, cdf.values*(cdf.index[1]-cdf.index[0]))\n",
        "ax[1].set_title(\"Distribution de probabilité cumulée (CDF)\")\n",
        "ax[1].set_xlabel(\"Valeur du pixel\")\n",
        "ax[1].set_ylabel(\"Probabilité cumulée\")\n",
        "ax[1].grid(True)\n",
        "plt.tight_layout()\n",
        "plt.show()                              "
      ],
      "id": "a6f195af",
      "execution_count": null,
      "outputs": []
    },
    {
      "cell_type": "markdown",
      "metadata": {},
      "source": [
        "### Réhaussements non linéaires\n",
        "\n",
        "<!--\n",
        "Calcul d'histogrammes, étirement, égalisation, styling\n",
        "-->\n",
        "\n",
        "### Composés couleurs\n",
        "\n",
        "Le système visuel humain est sensible seulement à la partie visible du spectre électromagnétique qui compose les couleurs de l'arc-en-ciel du bleu au rouge. L'ensemble des couleurs du spectre visible peut être obtenu à partir du mélange de trois couleurs primaires (rouge, vert et bleu). Ce système de décomposition à trois couleurs est à la base de la plupart des systèmes de visualisation ou de représentation de l'information de couleur. On peut trouver des variantes comme le système HSV (*Hue-Saturation-Value*) utilisé en encodage de données vidéos.\n",
        "\n",
        "## Visualisation\n",
        "\n",
        "### Visualisation en Python\n",
        "\n",
        "Il faut d'entrée mentionner que Python n'est pas vraiment fait pour visualiser de la donnée de grande taille, le niveau d'interactivité est aussi plus limité. Néanmoins, il est possible de visualiser de petites images avec la librairie Matplotlib. \n",
        "\n",
        "### Outils de visualisation\n",
        "\n",
        "Il existe plusieurs outils gratuits de visualisation d'une image satellite, on peut mentionner les deux principaux:\n",
        "- QGIS\n",
        "- ESA Snap\n",
        "\n",
        "<!--\n",
        "### Visualisation sur le Web\n",
        "\n",
        "Une des meilleures pratiques pour visualiser une image de grande taille est d'utiliser un service de type Web Mapping Service (WMS). Cependant, type de service nécessite une architecture client-serveur qui est plus complexe à mettre en place.\n",
        "\n",
        "Google Earth Engine offre des moyens de visualiser de la donnée locale:\n",
        "_Working with Local Geospatial Data_ — via [17. Geemap — Introduction to GIS Programming](https://geog-312.gishub.org/book/geospatial/geemap.html#working-with-local-geospatial-data)\n",
        "\n",
        "via [data/raster at main · opengeos/data](https://github.com/opengeos/data/tree/main/raster)\n",
        "\n",
        "\n",
        "\n",
        "### Visualisation 3D\n",
        "\n",
        "drapper une image satellite sur un DEM\n",
        "\n",
        "\n",
        "## Exercices de révision \n",
        "-->\n"
      ],
      "id": "6b00a9ad"
    }
  ],
  "metadata": {
    "kernelspec": {
      "display_name": "Python 3",
      "language": "python",
      "name": "python3"
    }
  },
  "nbformat": 4,
  "nbformat_minor": 5
}